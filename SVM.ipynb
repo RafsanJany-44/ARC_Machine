{
  "nbformat": 4,
  "nbformat_minor": 0,
  "metadata": {
    "colab": {
      "name": "SVM.ipynb",
      "provenance": [],
      "collapsed_sections": [],
      "include_colab_link": true
    },
    "kernelspec": {
      "name": "python3",
      "display_name": "Python 3"
    },
    "language_info": {
      "name": "python"
    }
  },
  "cells": [
    {
      "cell_type": "markdown",
      "metadata": {
        "id": "view-in-github",
        "colab_type": "text"
      },
      "source": [
        "<a href=\"https://colab.research.google.com/github/RafsanJany-44/ARC_Machine/blob/main/SVM.ipynb\" target=\"_parent\"><img src=\"https://colab.research.google.com/assets/colab-badge.svg\" alt=\"Open In Colab\"/></a>"
      ]
    },
    {
      "cell_type": "code",
      "source": [
        "from google.colab import drive\n",
        "drive.mount('/content/drive')"
      ],
      "metadata": {
        "id": "6lQIuRNwgWvS",
        "outputId": "9f7adcde-880b-40d3-9b37-73c27f529f5c",
        "colab": {
          "base_uri": "https://localhost:8080/"
        }
      },
      "execution_count": 26,
      "outputs": [
        {
          "output_type": "stream",
          "name": "stdout",
          "text": [
            "Drive already mounted at /content/drive; to attempt to forcibly remount, call drive.mount(\"/content/drive\", force_remount=True).\n"
          ]
        }
      ]
    },
    {
      "cell_type": "code",
      "source": [
        "\n",
        "import matplotlib.pyplot as plt\n",
        "import numpy as np\n",
        "import pandas as pd\n",
        "dataset=pd.read_csv(\"/content/drive/MyDrive/Iqram Sir/Tinnitus_ALR_features_130.csv\")"
      ],
      "metadata": {
        "id": "G0F-e5N8mJI0"
      },
      "execution_count": 27,
      "outputs": []
    },
    {
      "cell_type": "code",
      "source": [
        "X = dataset.iloc[:, 3:]\n",
        "y = dataset.iloc[:, 0]"
      ],
      "metadata": {
        "id": "z6f_lmCDGraE"
      },
      "execution_count": 28,
      "outputs": []
    },
    {
      "cell_type": "code",
      "source": [
        "# Split the X and Y Dataset into the Training set and Test set\n",
        "from sklearn.model_selection import train_test_split\n",
        "X_train, X_test, y_train, y_test = train_test_split(X, y, test_size = 0.2, random_state = 0)\n"
      ],
      "metadata": {
        "id": "IMlItFA0Gt0v"
      },
      "execution_count": 29,
      "outputs": []
    },
    {
      "cell_type": "code",
      "source": [
        "# Perform Feature Scaling\n",
        "from sklearn.preprocessing import StandardScaler\n",
        "sc = StandardScaler()\n",
        "X_train = sc.fit_transform(X_train)\n",
        "X_test = sc.transform(X_test)"
      ],
      "metadata": {
        "id": "PqDOzmoFGwCe"
      },
      "execution_count": 30,
      "outputs": []
    },
    {
      "cell_type": "code",
      "source": [
        ""
      ],
      "metadata": {
        "id": "TwIUriAQdfoO"
      },
      "execution_count": 30,
      "outputs": []
    },
    {
      "cell_type": "code",
      "source": [
        ""
      ],
      "metadata": {
        "id": "fTJC4ctTiHNH"
      },
      "execution_count": 30,
      "outputs": []
    },
    {
      "cell_type": "code",
      "source": [
        "print(\"The best degree:\")\n",
        "best=list(scores.keys())[scores_list.index(max(scores_list))]\n",
        "print(best)"
      ],
      "metadata": {
        "colab": {
          "base_uri": "https://localhost:8080/"
        },
        "id": "feAhmDqkiLCe",
        "outputId": "707cbea0-341a-4ecc-a820-90c6f2d04087"
      },
      "execution_count": 31,
      "outputs": [
        {
          "output_type": "stream",
          "name": "stdout",
          "text": [
            "The best degree:\n",
            "poly\n"
          ]
        }
      ]
    },
    {
      "cell_type": "code",
      "source": [
        "from sklearn.svm import SVC\n",
        "from sklearn.metrics import accuracy_score\n",
        "N=['linear', 'poly', 'rbf', 'sigmoid', 'precomputed']\n",
        "scores={}\n",
        "scores_list = []\n",
        "for k in N:\n",
        "  classifier = SVC(kernel = k, random_state = 0,degree=1)\n",
        "  classifier.fit(X_train, y_train)\n",
        "  y_pred=classifier.predict(X_test)\n",
        "  scores[k] = accuracy_score(y_test,y_pred)\n",
        "  scores_list.append(accuracy_score(y_test,y_pred))\n",
        "  print(k+\" round completed......................... Accurecy: \"+str(accuracy_score(y_test,y_pred)))"
      ],
      "metadata": {
        "colab": {
          "base_uri": "https://localhost:8080/",
          "height": 449
        },
        "id": "HMgWJqL9dqz5",
        "outputId": "e3f9c589-dc2a-4f3f-c146-13c31df4e64d"
      },
      "execution_count": 32,
      "outputs": [
        {
          "output_type": "stream",
          "name": "stdout",
          "text": [
            "linear round completed......................... Accurecy: 0.6730769230769231\n",
            "poly round completed......................... Accurecy: 0.75\n",
            "rbf round completed......................... Accurecy: 0.7307692307692307\n",
            "sigmoid round completed......................... Accurecy: 0.75\n"
          ]
        },
        {
          "output_type": "error",
          "ename": "ValueError",
          "evalue": "ignored",
          "traceback": [
            "\u001b[0;31m---------------------------------------------------------------------------\u001b[0m",
            "\u001b[0;31mValueError\u001b[0m                                Traceback (most recent call last)",
            "\u001b[0;32m<ipython-input-32-a583cb58a165>\u001b[0m in \u001b[0;36m<module>\u001b[0;34m()\u001b[0m\n\u001b[1;32m      6\u001b[0m \u001b[0;32mfor\u001b[0m \u001b[0mk\u001b[0m \u001b[0;32min\u001b[0m \u001b[0mN\u001b[0m\u001b[0;34m:\u001b[0m\u001b[0;34m\u001b[0m\u001b[0;34m\u001b[0m\u001b[0m\n\u001b[1;32m      7\u001b[0m   \u001b[0mclassifier\u001b[0m \u001b[0;34m=\u001b[0m \u001b[0mSVC\u001b[0m\u001b[0;34m(\u001b[0m\u001b[0mkernel\u001b[0m \u001b[0;34m=\u001b[0m \u001b[0mk\u001b[0m\u001b[0;34m,\u001b[0m \u001b[0mrandom_state\u001b[0m \u001b[0;34m=\u001b[0m \u001b[0;36m0\u001b[0m\u001b[0;34m,\u001b[0m\u001b[0mdegree\u001b[0m\u001b[0;34m=\u001b[0m\u001b[0;36m1\u001b[0m\u001b[0;34m)\u001b[0m\u001b[0;34m\u001b[0m\u001b[0;34m\u001b[0m\u001b[0m\n\u001b[0;32m----> 8\u001b[0;31m   \u001b[0mclassifier\u001b[0m\u001b[0;34m.\u001b[0m\u001b[0mfit\u001b[0m\u001b[0;34m(\u001b[0m\u001b[0mX_train\u001b[0m\u001b[0;34m,\u001b[0m \u001b[0my_train\u001b[0m\u001b[0;34m)\u001b[0m\u001b[0;34m\u001b[0m\u001b[0;34m\u001b[0m\u001b[0m\n\u001b[0m\u001b[1;32m      9\u001b[0m   \u001b[0my_pred\u001b[0m\u001b[0;34m=\u001b[0m\u001b[0mclassifier\u001b[0m\u001b[0;34m.\u001b[0m\u001b[0mpredict\u001b[0m\u001b[0;34m(\u001b[0m\u001b[0mX_test\u001b[0m\u001b[0;34m)\u001b[0m\u001b[0;34m\u001b[0m\u001b[0;34m\u001b[0m\u001b[0m\n\u001b[1;32m     10\u001b[0m   \u001b[0mscores\u001b[0m\u001b[0;34m[\u001b[0m\u001b[0mk\u001b[0m\u001b[0;34m]\u001b[0m \u001b[0;34m=\u001b[0m \u001b[0maccuracy_score\u001b[0m\u001b[0;34m(\u001b[0m\u001b[0my_test\u001b[0m\u001b[0;34m,\u001b[0m\u001b[0my_pred\u001b[0m\u001b[0;34m)\u001b[0m\u001b[0;34m\u001b[0m\u001b[0;34m\u001b[0m\u001b[0m\n",
            "\u001b[0;32m/usr/local/lib/python3.7/dist-packages/sklearn/svm/_base.py\u001b[0m in \u001b[0;36mfit\u001b[0;34m(self, X, y, sample_weight)\u001b[0m\n\u001b[1;32m    215\u001b[0m             raise ValueError(\n\u001b[1;32m    216\u001b[0m                 \u001b[0;34m\"Precomputed matrix must be a square matrix.\"\u001b[0m\u001b[0;34m\u001b[0m\u001b[0;34m\u001b[0m\u001b[0m\n\u001b[0;32m--> 217\u001b[0;31m                 \u001b[0;34m\" Input is a {}x{} matrix.\"\u001b[0m\u001b[0;34m.\u001b[0m\u001b[0mformat\u001b[0m\u001b[0;34m(\u001b[0m\u001b[0mX\u001b[0m\u001b[0;34m.\u001b[0m\u001b[0mshape\u001b[0m\u001b[0;34m[\u001b[0m\u001b[0;36m0\u001b[0m\u001b[0;34m]\u001b[0m\u001b[0;34m,\u001b[0m \u001b[0mX\u001b[0m\u001b[0;34m.\u001b[0m\u001b[0mshape\u001b[0m\u001b[0;34m[\u001b[0m\u001b[0;36m1\u001b[0m\u001b[0;34m]\u001b[0m\u001b[0;34m)\u001b[0m\u001b[0;34m\u001b[0m\u001b[0;34m\u001b[0m\u001b[0m\n\u001b[0m\u001b[1;32m    218\u001b[0m             )\n\u001b[1;32m    219\u001b[0m \u001b[0;34m\u001b[0m\u001b[0m\n",
            "\u001b[0;31mValueError\u001b[0m: Precomputed matrix must be a square matrix. Input is a 204x130 matrix."
          ]
        }
      ]
    },
    {
      "cell_type": "code",
      "source": [
        "print(\"The best Karnel:\")\n",
        "best=list(scores.keys())[scores_list.index(max(scores_list))]\n",
        "print(best)"
      ],
      "metadata": {
        "colab": {
          "base_uri": "https://localhost:8080/"
        },
        "id": "35SK_QrJkac7",
        "outputId": "9f801303-65f5-4eeb-c9cc-874405383bdd"
      },
      "execution_count": 33,
      "outputs": [
        {
          "output_type": "stream",
          "name": "stdout",
          "text": [
            "The best Karnel:\n",
            "poly\n"
          ]
        }
      ]
    },
    {
      "cell_type": "code",
      "source": [
        "from sklearn.svm import SVC\n",
        "from sklearn.metrics import accuracy_score\n",
        "N=50\n",
        "k_range = range (1,N+1)\n",
        "scores={}\n",
        "scores_list = []\n",
        "for k in k_range:\n",
        "  classifier = SVC(kernel = best, random_state = 0,degree=k)\n",
        "  classifier.fit(X_train, y_train)\n",
        "  y_pred=classifier.predict(X_test)\n",
        "  scores[k] = accuracy_score(y_test,y_pred)\n",
        "  scores_list.append(accuracy_score(y_test,y_pred))\n",
        "  print(str(k)+\"/\"+str(N)+\" round completed......................... Accurecy: \"+str(accuracy_score(y_test,y_pred)))"
      ],
      "metadata": {
        "id": "-3q7zuVLiWmR",
        "outputId": "a6f7567a-1b37-4ef8-bc9b-be96b3392c88",
        "colab": {
          "base_uri": "https://localhost:8080/"
        }
      },
      "execution_count": 38,
      "outputs": [
        {
          "output_type": "stream",
          "name": "stdout",
          "text": [
            "1/50 round completed......................... Accurecy: 0.75\n",
            "2/50 round completed......................... Accurecy: 0.6153846153846154\n",
            "3/50 round completed......................... Accurecy: 0.5384615384615384\n",
            "4/50 round completed......................... Accurecy: 0.4807692307692308\n",
            "5/50 round completed......................... Accurecy: 0.4807692307692308\n",
            "6/50 round completed......................... Accurecy: 0.46153846153846156\n",
            "7/50 round completed......................... Accurecy: 0.4807692307692308\n",
            "8/50 round completed......................... Accurecy: 0.46153846153846156\n",
            "9/50 round completed......................... Accurecy: 0.4230769230769231\n",
            "10/50 round completed......................... Accurecy: 0.4423076923076923\n",
            "11/50 round completed......................... Accurecy: 0.4423076923076923\n",
            "12/50 round completed......................... Accurecy: 0.46153846153846156\n",
            "13/50 round completed......................... Accurecy: 0.4423076923076923\n",
            "14/50 round completed......................... Accurecy: 0.46153846153846156\n",
            "15/50 round completed......................... Accurecy: 0.4423076923076923\n",
            "16/50 round completed......................... Accurecy: 0.46153846153846156\n",
            "17/50 round completed......................... Accurecy: 0.4423076923076923\n",
            "18/50 round completed......................... Accurecy: 0.46153846153846156\n",
            "19/50 round completed......................... Accurecy: 0.4423076923076923\n",
            "20/50 round completed......................... Accurecy: 0.46153846153846156\n",
            "21/50 round completed......................... Accurecy: 0.4423076923076923\n",
            "22/50 round completed......................... Accurecy: 0.46153846153846156\n",
            "23/50 round completed......................... Accurecy: 0.4423076923076923\n",
            "24/50 round completed......................... Accurecy: 0.46153846153846156\n",
            "25/50 round completed......................... Accurecy: 0.4423076923076923\n",
            "26/50 round completed......................... Accurecy: 0.46153846153846156\n",
            "27/50 round completed......................... Accurecy: 0.4423076923076923\n",
            "28/50 round completed......................... Accurecy: 0.46153846153846156\n",
            "29/50 round completed......................... Accurecy: 0.4423076923076923\n",
            "30/50 round completed......................... Accurecy: 0.46153846153846156\n",
            "31/50 round completed......................... Accurecy: 0.4423076923076923\n",
            "32/50 round completed......................... Accurecy: 0.46153846153846156\n",
            "33/50 round completed......................... Accurecy: 0.4423076923076923\n",
            "34/50 round completed......................... Accurecy: 0.46153846153846156\n",
            "35/50 round completed......................... Accurecy: 0.4423076923076923\n",
            "36/50 round completed......................... Accurecy: 0.46153846153846156\n",
            "37/50 round completed......................... Accurecy: 0.4423076923076923\n",
            "38/50 round completed......................... Accurecy: 0.46153846153846156\n",
            "39/50 round completed......................... Accurecy: 0.4423076923076923\n",
            "40/50 round completed......................... Accurecy: 0.46153846153846156\n",
            "41/50 round completed......................... Accurecy: 0.4423076923076923\n",
            "42/50 round completed......................... Accurecy: 0.46153846153846156\n",
            "43/50 round completed......................... Accurecy: 0.4423076923076923\n",
            "44/50 round completed......................... Accurecy: 0.46153846153846156\n",
            "45/50 round completed......................... Accurecy: 0.4423076923076923\n",
            "46/50 round completed......................... Accurecy: 0.46153846153846156\n",
            "47/50 round completed......................... Accurecy: 0.4423076923076923\n",
            "48/50 round completed......................... Accurecy: 0.46153846153846156\n",
            "49/50 round completed......................... Accurecy: 0.4423076923076923\n",
            "50/50 round completed......................... Accurecy: 0.46153846153846156\n"
          ]
        }
      ]
    },
    {
      "cell_type": "code",
      "source": [
        "%matplotlib inline\n",
        "import matplotlib.pyplot as plt\n",
        "#plot the relationship between K and the testing accuracy\n",
        "plt.figure(figsize = (25,10))\n",
        "plt.plot(k_range,scores_list)\n",
        "plt.xlabel('Value of degree')\n",
        "plt.ylabel ('Testing Accuracy')\n",
        "\n",
        "print(\"The best Degree:\")\n",
        "best_degree=list(scores.keys())[scores_list.index(max(scores_list))]\n",
        "print(best_degree)"
      ],
      "metadata": {
        "id": "NXXOireyieHL",
        "outputId": "40063a02-5697-4c8c-922f-2b7ea7a7570a",
        "colab": {
          "base_uri": "https://localhost:8080/",
          "height": 595
        }
      },
      "execution_count": 39,
      "outputs": [
        {
          "output_type": "stream",
          "name": "stdout",
          "text": [
            "The best Degree:\n",
            "1\n"
          ]
        },
        {
          "output_type": "display_data",
          "data": {
            "text/plain": [
              "<Figure size 1800x720 with 1 Axes>"
            ],
            "image/png": "[encoded data removed]"
          },
          "metadata": {
            "needs_background": "light"
          }
        }
      ]
    },
    {
      "cell_type": "code",
      "source": [
        "from sklearn.svm import SVC\n",
        "classifier = SVC(kernel = best, degree=best_degree,random_state = 0)\n",
        "classifier.fit(X_train, y_train)\n",
        "y_pred = classifier.predict(X_test)\n",
        "\n",
        "\n",
        "from sklearn.metrics import classification_report, confusion_matrix, accuracy_score\n",
        "print(confusion_matrix(y_test, y_pred))\n",
        "print(classification_report(y_test,y_pred))\n",
        "print(\"Accurecy: \",accuracy_score(y_test, y_pred))"
      ],
      "metadata": {
        "id": "uBqcsWNuievP",
        "outputId": "eee595a7-ef94-41c5-cef6-75e0f8dac409",
        "colab": {
          "base_uri": "https://localhost:8080/"
        }
      },
      "execution_count": 40,
      "outputs": [
        {
          "output_type": "stream",
          "name": "stdout",
          "text": [
            "[[19  4]\n",
            " [ 9 20]]\n",
            "              precision    recall  f1-score   support\n",
            "\n",
            "     Healthy       0.68      0.83      0.75        23\n",
            "    Tinnitus       0.83      0.69      0.75        29\n",
            "\n",
            "    accuracy                           0.75        52\n",
            "   macro avg       0.76      0.76      0.75        52\n",
            "weighted avg       0.76      0.75      0.75        52\n",
            "\n",
            "Accurecy:  0.75\n"
          ]
        }
      ]
    },
    {
      "cell_type": "code",
      "source": [
        ""
      ],
      "metadata": {
        "id": "MAln9wKVi2HN"
      },
      "execution_count": null,
      "outputs": []
    }
  ]
}