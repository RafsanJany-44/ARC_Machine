{
  "nbformat": 4,
  "nbformat_minor": 0,
  "metadata": {
    "colab": {
      "name": "MEGA.ipynb",
      "provenance": [],
      "include_colab_link": true
    },
    "kernelspec": {
      "name": "python3",
      "display_name": "Python 3"
    },
    "language_info": {
      "name": "python"
    }
  },
  "cells": [
    {
      "cell_type": "markdown",
      "metadata": {
        "id": "view-in-github",
        "colab_type": "text"
      },
      "source": [
        "<a href=\"https://colab.research.google.com/github/RafsanJany-44/IQ-RAM-SIRSK/blob/main/MEGA.ipynb\" target=\"_parent\"><img src=\"https://colab.research.google.com/assets/colab-badge.svg\" alt=\"Open In Colab\"/></a>"
      ]
    },
    {
      "cell_type": "code",
      "source": [
        "from google.colab import drive\n",
        "drive.mount('/content/drive')"
      ],
      "metadata": {
        "colab": {
          "base_uri": "https://localhost:8080/"
        },
        "id": "5OUl5WmINFCJ",
        "outputId": "75d71171-45c8-4e8c-9c9d-cd6af78b6f3d"
      },
      "execution_count": 1,
      "outputs": [
        {
          "output_type": "stream",
          "name": "stdout",
          "text": [
            "Mounted at /content/drive\n"
          ]
        }
      ]
    },
    {
      "cell_type": "code",
      "source": [
        "import numpy as np\n",
        "import pandas as pd\n",
        "dataset=pd.read_csv(\"/content/drive/MyDrive/Iqram Sir/Tinnitus_ALR_features_106.csv\")"
      ],
      "metadata": {
        "id": "7e9oTr105Pqg"
      },
      "execution_count": 2,
      "outputs": []
    },
    {
      "cell_type": "markdown",
      "source": [
        "# New Section"
      ],
      "metadata": {
        "id": "NECS9bbiMI7b"
      }
    },
    {
      "cell_type": "code",
      "source": [
        "dataset.head(5)"
      ],
      "metadata": {
        "colab": {
          "base_uri": "https://localhost:8080/",
          "height": 342
        },
        "id": "Ka_uPQrn5hdK",
        "outputId": "8880b407-0089-4f50-933c-3149513e2dd8"
      },
      "execution_count": 3,
      "outputs": [
        {
          "output_type": "execute_result",
          "data": {
            "text/plain": [
              "  Subject Type/Class Test Type Gap duration  n0_gap_peak_ms  p1_gap_peak_ms  \\\n",
              "0            Healthy      Test         20ms             101             147   \n",
              "1            Healthy      Test         20ms             132             155   \n",
              "2            Healthy      Test         20ms             107             160   \n",
              "3            Healthy      Test         20ms              77             200   \n",
              "4            Healthy      Test         20ms             153             128   \n",
              "\n",
              "   n1_gap_peak_ms  p2_gap_peak_ms  n2_gap_peak_ms  p3_gap_peak_ms  \\\n",
              "0             214             263             366             105   \n",
              "1             217             301             383             131   \n",
              "2             221             305             396             128   \n",
              "3             233             268             379             166   \n",
              "4             224             264             337             147   \n",
              "\n",
              "   n0_nogap_peak_ms  ...  gap_auc_n1p2n2_by_total  gap_auc_p2n2p3_by_total  \\\n",
              "0               149  ...                20.751953                 0.038292   \n",
              "1               175  ...                21.972656                 0.118686   \n",
              "2               192  ...                18.310547                 0.048787   \n",
              "3               120  ...                16.357422                 0.062302   \n",
              "4               176  ...                16.845703                 0.100706   \n",
              "\n",
              "   nogap_auc_total  nogap_auc_total_abs  nogap_auc_n0p1n1_by_total  \\\n",
              "0        33.935547            15.285080                  10.327331   \n",
              "1        35.644531            15.548298                  10.137840   \n",
              "2        41.015625            13.078348                   8.643543   \n",
              "3        39.306641             7.087050                   5.196947   \n",
              "4        32.958984            15.198039                  11.166206   \n",
              "\n",
              "   nogap_auc_p1n1p2_by_total  nogap_auc_n1p2n2_by_total  \\\n",
              "0                   1.672325                  86.663602   \n",
              "1                   3.010325                  79.939031   \n",
              "2                   2.167986                  48.851014   \n",
              "3                   3.325309                  47.181061   \n",
              "4                   2.334388                  45.697755   \n",
              "\n",
              "   nogap_auc_p2n2p3_by_total  fft_gap_total_auc  fft_nogap_total_auc  \n",
              "0                   1.333714           0.940225             0.074033  \n",
              "1                   1.775618           0.665121             0.227634  \n",
              "2                   1.769573           0.618907             0.093239  \n",
              "3                   0.831445           0.453683             0.119996  \n",
              "4                   1.665048           0.845292             0.192855  \n",
              "\n",
              "[5 rows x 109 columns]"
            ],
            "text/html": [
              "\n",
              "  <div id=\"df-fa247b36-c60d-4862-afeb-c7b2a1e3ddf0\">\n",
              "    <div class=\"colab-df-container\">\n",
              "      <div>\n",
              "<style scoped>\n",
              "    .dataframe tbody tr th:only-of-type {\n",
              "        vertical-align: middle;\n",
              "    }\n",
              "\n",
              "    .dataframe tbody tr th {\n",
              "        vertical-align: top;\n",
              "    }\n",
              "\n",
              "    .dataframe thead th {\n",
              "        text-align: right;\n",
              "    }\n",
              "</style>\n",
              "<table border=\"1\" class=\"dataframe\">\n",
              "  <thead>\n",
              "    <tr style=\"text-align: right;\">\n",
              "      <th></th>\n",
              "      <th>Subject Type/Class</th>\n",
              "      <th>Test Type</th>\n",
              "      <th>Gap duration</th>\n",
              "      <th>n0_gap_peak_ms</th>\n",
              "      <th>p1_gap_peak_ms</th>\n",
              "      <th>n1_gap_peak_ms</th>\n",
              "      <th>p2_gap_peak_ms</th>\n",
              "      <th>n2_gap_peak_ms</th>\n",
              "      <th>p3_gap_peak_ms</th>\n",
              "      <th>n0_nogap_peak_ms</th>\n",
              "      <th>...</th>\n",
              "      <th>gap_auc_n1p2n2_by_total</th>\n",
              "      <th>gap_auc_p2n2p3_by_total</th>\n",
              "      <th>nogap_auc_total</th>\n",
              "      <th>nogap_auc_total_abs</th>\n",
              "      <th>nogap_auc_n0p1n1_by_total</th>\n",
              "      <th>nogap_auc_p1n1p2_by_total</th>\n",
              "      <th>nogap_auc_n1p2n2_by_total</th>\n",
              "      <th>nogap_auc_p2n2p3_by_total</th>\n",
              "      <th>fft_gap_total_auc</th>\n",
              "      <th>fft_nogap_total_auc</th>\n",
              "    </tr>\n",
              "  </thead>\n",
              "  <tbody>\n",
              "    <tr>\n",
              "      <th>0</th>\n",
              "      <td>Healthy</td>\n",
              "      <td>Test</td>\n",
              "      <td>20ms</td>\n",
              "      <td>101</td>\n",
              "      <td>147</td>\n",
              "      <td>214</td>\n",
              "      <td>263</td>\n",
              "      <td>366</td>\n",
              "      <td>105</td>\n",
              "      <td>149</td>\n",
              "      <td>...</td>\n",
              "      <td>20.751953</td>\n",
              "      <td>0.038292</td>\n",
              "      <td>33.935547</td>\n",
              "      <td>15.285080</td>\n",
              "      <td>10.327331</td>\n",
              "      <td>1.672325</td>\n",
              "      <td>86.663602</td>\n",
              "      <td>1.333714</td>\n",
              "      <td>0.940225</td>\n",
              "      <td>0.074033</td>\n",
              "    </tr>\n",
              "    <tr>\n",
              "      <th>1</th>\n",
              "      <td>Healthy</td>\n",
              "      <td>Test</td>\n",
              "      <td>20ms</td>\n",
              "      <td>132</td>\n",
              "      <td>155</td>\n",
              "      <td>217</td>\n",
              "      <td>301</td>\n",
              "      <td>383</td>\n",
              "      <td>131</td>\n",
              "      <td>175</td>\n",
              "      <td>...</td>\n",
              "      <td>21.972656</td>\n",
              "      <td>0.118686</td>\n",
              "      <td>35.644531</td>\n",
              "      <td>15.548298</td>\n",
              "      <td>10.137840</td>\n",
              "      <td>3.010325</td>\n",
              "      <td>79.939031</td>\n",
              "      <td>1.775618</td>\n",
              "      <td>0.665121</td>\n",
              "      <td>0.227634</td>\n",
              "    </tr>\n",
              "    <tr>\n",
              "      <th>2</th>\n",
              "      <td>Healthy</td>\n",
              "      <td>Test</td>\n",
              "      <td>20ms</td>\n",
              "      <td>107</td>\n",
              "      <td>160</td>\n",
              "      <td>221</td>\n",
              "      <td>305</td>\n",
              "      <td>396</td>\n",
              "      <td>128</td>\n",
              "      <td>192</td>\n",
              "      <td>...</td>\n",
              "      <td>18.310547</td>\n",
              "      <td>0.048787</td>\n",
              "      <td>41.015625</td>\n",
              "      <td>13.078348</td>\n",
              "      <td>8.643543</td>\n",
              "      <td>2.167986</td>\n",
              "      <td>48.851014</td>\n",
              "      <td>1.769573</td>\n",
              "      <td>0.618907</td>\n",
              "      <td>0.093239</td>\n",
              "    </tr>\n",
              "    <tr>\n",
              "      <th>3</th>\n",
              "      <td>Healthy</td>\n",
              "      <td>Test</td>\n",
              "      <td>20ms</td>\n",
              "      <td>77</td>\n",
              "      <td>200</td>\n",
              "      <td>233</td>\n",
              "      <td>268</td>\n",
              "      <td>379</td>\n",
              "      <td>166</td>\n",
              "      <td>120</td>\n",
              "      <td>...</td>\n",
              "      <td>16.357422</td>\n",
              "      <td>0.062302</td>\n",
              "      <td>39.306641</td>\n",
              "      <td>7.087050</td>\n",
              "      <td>5.196947</td>\n",
              "      <td>3.325309</td>\n",
              "      <td>47.181061</td>\n",
              "      <td>0.831445</td>\n",
              "      <td>0.453683</td>\n",
              "      <td>0.119996</td>\n",
              "    </tr>\n",
              "    <tr>\n",
              "      <th>4</th>\n",
              "      <td>Healthy</td>\n",
              "      <td>Test</td>\n",
              "      <td>20ms</td>\n",
              "      <td>153</td>\n",
              "      <td>128</td>\n",
              "      <td>224</td>\n",
              "      <td>264</td>\n",
              "      <td>337</td>\n",
              "      <td>147</td>\n",
              "      <td>176</td>\n",
              "      <td>...</td>\n",
              "      <td>16.845703</td>\n",
              "      <td>0.100706</td>\n",
              "      <td>32.958984</td>\n",
              "      <td>15.198039</td>\n",
              "      <td>11.166206</td>\n",
              "      <td>2.334388</td>\n",
              "      <td>45.697755</td>\n",
              "      <td>1.665048</td>\n",
              "      <td>0.845292</td>\n",
              "      <td>0.192855</td>\n",
              "    </tr>\n",
              "  </tbody>\n",
              "</table>\n",
              "<p>5 rows × 109 columns</p>\n",
              "</div>\n",
              "      <button class=\"colab-df-convert\" onclick=\"convertToInteractive('df-fa247b36-c60d-4862-afeb-c7b2a1e3ddf0')\"\n",
              "              title=\"Convert this dataframe to an interactive table.\"\n",
              "              style=\"display:none;\">\n",
              "        \n",
              "  <svg xmlns=\"http://www.w3.org/2000/svg\" height=\"24px\"viewBox=\"0 0 24 24\"\n",
              "       width=\"24px\">\n",
              "    <path d=\"M0 0h24v24H0V0z\" fill=\"none\"/>\n",
              "    <path d=\"M18.56 5.44l.94 2.06.94-2.06 2.06-.94-2.06-.94-.94-2.06-.94 2.06-2.06.94zm-11 1L8.5 8.5l.94-2.06 2.06-.94-2.06-.94L8.5 2.5l-.94 2.06-2.06.94zm10 10l.94 2.06.94-2.06 2.06-.94-2.06-.94-.94-2.06-.94 2.06-2.06.94z\"/><path d=\"M17.41 7.96l-1.37-1.37c-.4-.4-.92-.59-1.43-.59-.52 0-1.04.2-1.43.59L10.3 9.45l-7.72 7.72c-.78.78-.78 2.05 0 2.83L4 21.41c.39.39.9.59 1.41.59.51 0 1.02-.2 1.41-.59l7.78-7.78 2.81-2.81c.8-.78.8-2.07 0-2.86zM5.41 20L4 18.59l7.72-7.72 1.47 1.35L5.41 20z\"/>\n",
              "  </svg>\n",
              "      </button>\n",
              "      \n",
              "  <style>\n",
              "    .colab-df-container {\n",
              "      display:flex;\n",
              "      flex-wrap:wrap;\n",
              "      gap: 12px;\n",
              "    }\n",
              "\n",
              "    .colab-df-convert {\n",
              "      background-color: #E8F0FE;\n",
              "      border: none;\n",
              "      border-radius: 50%;\n",
              "      cursor: pointer;\n",
              "      display: none;\n",
              "      fill: #1967D2;\n",
              "      height: 32px;\n",
              "      padding: 0 0 0 0;\n",
              "      width: 32px;\n",
              "    }\n",
              "\n",
              "    .colab-df-convert:hover {\n",
              "      background-color: #E2EBFA;\n",
              "      box-shadow: 0px 1px 2px rgba(60, 64, 67, 0.3), 0px 1px 3px 1px rgba(60, 64, 67, 0.15);\n",
              "      fill: #174EA6;\n",
              "    }\n",
              "\n",
              "    [theme=dark] .colab-df-convert {\n",
              "      background-color: #3B4455;\n",
              "      fill: #D2E3FC;\n",
              "    }\n",
              "\n",
              "    [theme=dark] .colab-df-convert:hover {\n",
              "      background-color: #434B5C;\n",
              "      box-shadow: 0px 1px 3px 1px rgba(0, 0, 0, 0.15);\n",
              "      filter: drop-shadow(0px 1px 2px rgba(0, 0, 0, 0.3));\n",
              "      fill: #FFFFFF;\n",
              "    }\n",
              "  </style>\n",
              "\n",
              "      <script>\n",
              "        const buttonEl =\n",
              "          document.querySelector('#df-fa247b36-c60d-4862-afeb-c7b2a1e3ddf0 button.colab-df-convert');\n",
              "        buttonEl.style.display =\n",
              "          google.colab.kernel.accessAllowed ? 'block' : 'none';\n",
              "\n",
              "        async function convertToInteractive(key) {\n",
              "          const element = document.querySelector('#df-fa247b36-c60d-4862-afeb-c7b2a1e3ddf0');\n",
              "          const dataTable =\n",
              "            await google.colab.kernel.invokeFunction('convertToInteractive',\n",
              "                                                     [key], {});\n",
              "          if (!dataTable) return;\n",
              "\n",
              "          const docLinkHtml = 'Like what you see? Visit the ' +\n",
              "            '<a target=\"_blank\" href=https://colab.research.google.com/notebooks/data_table.ipynb>data table notebook</a>'\n",
              "            + ' to learn more about interactive tables.';\n",
              "          element.innerHTML = '';\n",
              "          dataTable['output_type'] = 'display_data';\n",
              "          await google.colab.output.renderOutput(dataTable, element);\n",
              "          const docLink = document.createElement('div');\n",
              "          docLink.innerHTML = docLinkHtml;\n",
              "          element.appendChild(docLink);\n",
              "        }\n",
              "      </script>\n",
              "    </div>\n",
              "  </div>\n",
              "  "
            ]
          },
          "metadata": {},
          "execution_count": 3
        }
      ]
    },
    {
      "cell_type": "code",
      "source": [
        "dataset.iloc[:, 0].value_counts()"
      ],
      "metadata": {
        "colab": {
          "base_uri": "https://localhost:8080/"
        },
        "id": "lXkwMxYx5g54",
        "outputId": "04034369-ae66-4db8-9f3b-c4cc372de797"
      },
      "execution_count": 4,
      "outputs": [
        {
          "output_type": "execute_result",
          "data": {
            "text/plain": [
              "Healthy     172\n",
              "Tinnitus    158\n",
              "Name: Subject Type/Class, dtype: int64"
            ]
          },
          "metadata": {},
          "execution_count": 4
        }
      ]
    },
    {
      "cell_type": "code",
      "source": [
        "X = dataset.iloc[:, 3:]\n",
        "y = dataset.iloc[:, 0]"
      ],
      "metadata": {
        "id": "ZYLTeqQP7FEU"
      },
      "execution_count": 5,
      "outputs": []
    },
    {
      "cell_type": "code",
      "source": [
        "from sklearn.model_selection import train_test_split\n",
        "X_train, X_test, y_train, y_test = train_test_split(X, y, test_size = 0.2, random_state = 0)"
      ],
      "metadata": {
        "id": "DhDvOJtz7J86"
      },
      "execution_count": 6,
      "outputs": []
    },
    {
      "cell_type": "code",
      "source": [
        "from sklearn.preprocessing import StandardScaler\n",
        "sc = StandardScaler()\n",
        " \n",
        "X_train = sc.fit_transform(X_train)\n",
        "X_test = sc.transform(X_test)"
      ],
      "metadata": {
        "id": "ZhwVQDTHlIFV"
      },
      "execution_count": 7,
      "outputs": []
    },
    {
      "cell_type": "markdown",
      "source": [
        "#GradientBoosting Classifier"
      ],
      "metadata": {
        "id": "9J34ZIou5xde"
      }
    },
    {
      "cell_type": "code",
      "source": [
        "from sklearn.ensemble import GradientBoostingClassifier\n",
        "from sklearn.model_selection import RepeatedStratifiedKFold\n",
        "\n",
        "classifier = GradientBoostingClassifier(n_estimators=4,random_state=0)\n",
        "classifier.fit(X_train, y_train)\n",
        "y_pred = classifier.predict(X_test)\n",
        "\n",
        "from sklearn.metrics import classification_report, confusion_matrix, accuracy_score\n",
        "print(confusion_matrix(y_test, y_pred))\n",
        "print(classification_report(y_test,y_pred))\n",
        "print(\"Accurecy: \",accuracy_score(y_test, y_pred))"
      ],
      "metadata": {
        "colab": {
          "base_uri": "https://localhost:8080/"
        },
        "id": "uaKBfQrLlIDU",
        "outputId": "77e5ac15-56dd-49fc-fee8-7494b26a571e"
      },
      "execution_count": 8,
      "outputs": [
        {
          "output_type": "stream",
          "name": "stdout",
          "text": [
            "[[31  8]\n",
            " [ 4 23]]\n",
            "              precision    recall  f1-score   support\n",
            "\n",
            "     Healthy       0.89      0.79      0.84        39\n",
            "    Tinnitus       0.74      0.85      0.79        27\n",
            "\n",
            "    accuracy                           0.82        66\n",
            "   macro avg       0.81      0.82      0.82        66\n",
            "weighted avg       0.83      0.82      0.82        66\n",
            "\n",
            "Accurecy:  0.8181818181818182\n"
          ]
        }
      ]
    },
    {
      "cell_type": "markdown",
      "source": [
        "#Random Forest Classifier"
      ],
      "metadata": {
        "id": "fofpYROe55CB"
      }
    },
    {
      "cell_type": "code",
      "source": [
        "from sklearn.ensemble import RandomForestClassifier\n",
        "classifier = RandomForestClassifier(n_estimators=18,max_depth=4,random_state=0)\n",
        "classifier.fit(X_train, y_train)\n",
        "y_pred=classifier.predict(X_test)\n",
        "\n",
        "\n",
        "from sklearn.metrics import classification_report, confusion_matrix, accuracy_score\n",
        "print(confusion_matrix(y_test, y_pred))\n",
        "print(classification_report(y_test,y_pred))\n",
        "print(\"Accurecy: \",accuracy_score(y_test, y_pred))"
      ],
      "metadata": {
        "colab": {
          "base_uri": "https://localhost:8080/"
        },
        "id": "nWJonuaAlH1C",
        "outputId": "09a4a765-24d2-48ee-ee99-c69e9287d64f"
      },
      "execution_count": 9,
      "outputs": [
        {
          "output_type": "stream",
          "name": "stdout",
          "text": [
            "[[32  7]\n",
            " [ 7 20]]\n",
            "              precision    recall  f1-score   support\n",
            "\n",
            "     Healthy       0.82      0.82      0.82        39\n",
            "    Tinnitus       0.74      0.74      0.74        27\n",
            "\n",
            "    accuracy                           0.79        66\n",
            "   macro avg       0.78      0.78      0.78        66\n",
            "weighted avg       0.79      0.79      0.79        66\n",
            "\n",
            "Accurecy:  0.7878787878787878\n"
          ]
        }
      ]
    },
    {
      "cell_type": "markdown",
      "source": [
        "#Ada Boost Classifier"
      ],
      "metadata": {
        "id": "GIKLYn59CBOa"
      }
    },
    {
      "cell_type": "code",
      "source": [
        "from sklearn.ensemble import AdaBoostClassifier\n",
        "\n",
        "classifier = AdaBoostClassifier(n_estimators=54,random_state=0)\n",
        "classifier.fit(X_train, y_train)\n",
        "y_pred = classifier.predict(X_test)\n",
        "\n",
        "from sklearn.metrics import classification_report, confusion_matrix, accuracy_score\n",
        "print(confusion_matrix(y_test, y_pred))\n",
        "print(classification_report(y_test,y_pred))\n",
        "print(\"Accurecy: \",accuracy_score(y_test, y_pred))"
      ],
      "metadata": {
        "colab": {
          "base_uri": "https://localhost:8080/"
        },
        "id": "h715vBzElHrf",
        "outputId": "5886a674-7287-4f0f-b23e-10372be6e59d"
      },
      "execution_count": 10,
      "outputs": [
        {
          "output_type": "stream",
          "name": "stdout",
          "text": [
            "[[35  4]\n",
            " [ 9 18]]\n",
            "              precision    recall  f1-score   support\n",
            "\n",
            "     Healthy       0.80      0.90      0.84        39\n",
            "    Tinnitus       0.82      0.67      0.73        27\n",
            "\n",
            "    accuracy                           0.80        66\n",
            "   macro avg       0.81      0.78      0.79        66\n",
            "weighted avg       0.80      0.80      0.80        66\n",
            "\n",
            "Accurecy:  0.803030303030303\n"
          ]
        }
      ]
    },
    {
      "cell_type": "markdown",
      "source": [
        "#XG"
      ],
      "metadata": {
        "id": "_kyM65PeHEE0"
      }
    },
    {
      "cell_type": "code",
      "source": [
        "\n",
        "\n",
        "import xgboost as xgb\n",
        "xgb_classifier = xgb.XGBClassifier(max_depth=3,random_state=0)\n",
        "xgb_classifier.fit(X_train,y_train)\n",
        "y_pred = xgb_classifier.predict(X_test)\n",
        "\n",
        "\n",
        "from sklearn.metrics import classification_report, confusion_matrix, accuracy_score\n",
        "print(confusion_matrix(y_test, y_pred))\n",
        "print(classification_report(y_test,y_pred))\n",
        "print(\"Accurecy: \",accuracy_score(y_test, y_pred))"
      ],
      "metadata": {
        "colab": {
          "base_uri": "https://localhost:8080/"
        },
        "id": "zblHyjxIHAL3",
        "outputId": "5f934e67-75a8-4d8f-a051-8078b0660ead"
      },
      "execution_count": 11,
      "outputs": [
        {
          "output_type": "stream",
          "name": "stdout",
          "text": [
            "[[32  7]\n",
            " [ 9 18]]\n",
            "              precision    recall  f1-score   support\n",
            "\n",
            "     Healthy       0.78      0.82      0.80        39\n",
            "    Tinnitus       0.72      0.67      0.69        27\n",
            "\n",
            "    accuracy                           0.76        66\n",
            "   macro avg       0.75      0.74      0.75        66\n",
            "weighted avg       0.76      0.76      0.76        66\n",
            "\n",
            "Accurecy:  0.7575757575757576\n"
          ]
        }
      ]
    },
    {
      "cell_type": "markdown",
      "source": [
        "#KNN"
      ],
      "metadata": {
        "id": "BsAWWI2gGABa"
      }
    },
    {
      "cell_type": "code",
      "source": [
        "from sklearn.neighbors import KNeighborsClassifier\n",
        "KNN_class = KNeighborsClassifier(n_neighbors=164)\n",
        "KNN_class.fit(X_train, y_train)\n",
        "y_pred=KNN_class.predict(X_test)\n",
        "\n",
        "\n",
        "from sklearn.metrics import classification_report, confusion_matrix, accuracy_score\n",
        "print(confusion_matrix(y_test, y_pred))\n",
        "print(classification_report(y_test,y_pred))\n",
        "print(\"Accurecy: \",accuracy_score(y_test, y_pred))"
      ],
      "metadata": {
        "colab": {
          "base_uri": "https://localhost:8080/"
        },
        "id": "DZTLjKeOlHl3",
        "outputId": "d26bae51-3b91-43d7-9f22-bb6f1d6e4919"
      },
      "execution_count": 12,
      "outputs": [
        {
          "output_type": "stream",
          "name": "stdout",
          "text": [
            "[[39  0]\n",
            " [19  8]]\n",
            "              precision    recall  f1-score   support\n",
            "\n",
            "     Healthy       0.67      1.00      0.80        39\n",
            "    Tinnitus       1.00      0.30      0.46        27\n",
            "\n",
            "    accuracy                           0.71        66\n",
            "   macro avg       0.84      0.65      0.63        66\n",
            "weighted avg       0.81      0.71      0.66        66\n",
            "\n",
            "Accurecy:  0.7121212121212122\n"
          ]
        }
      ]
    },
    {
      "cell_type": "code",
      "source": [
        ""
      ],
      "metadata": {
        "id": "OSt-Zz-blHiQ"
      },
      "execution_count": 12,
      "outputs": []
    },
    {
      "cell_type": "markdown",
      "source": [
        "#With Synthetic Data"
      ],
      "metadata": {
        "id": "WcrjQKmJFZvO"
      }
    },
    {
      "cell_type": "markdown",
      "source": [
        "**GradientBoosting**"
      ],
      "metadata": {
        "id": "XHVUO9S9IJ8I"
      }
    },
    {
      "cell_type": "markdown",
      "source": [
        "NON RANDOM"
      ],
      "metadata": {
        "id": "G7bqdAamIRMX"
      }
    },
    {
      "cell_type": "code",
      "source": [
        "\n",
        "from numpy import mean\n",
        "from numpy import std\n",
        "from sklearn.datasets import make_classification\n",
        "from sklearn.model_selection import cross_val_score\n",
        "from sklearn.model_selection import RepeatedStratifiedKFold\n",
        "from sklearn.ensemble import GradientBoostingClassifier\n",
        "\n",
        "\n",
        "X, y = make_classification(random_state=0)\n",
        "\n",
        "model_5 = GradientBoostingClassifier(n_estimators=9,max_depth=3,random_state=0)\n",
        "\n",
        "cv = RepeatedStratifiedKFold(n_splits=10, n_repeats=3, random_state=0)\n",
        "\n",
        "n_scores = cross_val_score(model_5, X, y, scoring='accuracy', cv=cv)\n",
        "\n",
        "print('Mean Accuracy: %.3f (%.3f)' % (mean(n_scores), std(n_scores)))"
      ],
      "metadata": {
        "colab": {
          "base_uri": "https://localhost:8080/"
        },
        "id": "cMiKhBjpF74K",
        "outputId": "b0849a8e-2ebf-46ba-8721-37e2945c016c"
      },
      "execution_count": 13,
      "outputs": [
        {
          "output_type": "stream",
          "name": "stdout",
          "text": [
            "Mean Accuracy: 0.883 (0.097)\n"
          ]
        }
      ]
    },
    {
      "cell_type": "markdown",
      "source": [
        "Random"
      ],
      "metadata": {
        "id": "2rDIZxYlIS_x"
      }
    },
    {
      "cell_type": "code",
      "source": [
        "\n",
        "from numpy import mean\n",
        "from numpy import std\n",
        "from sklearn.datasets import make_classification\n",
        "from sklearn.model_selection import cross_val_score\n",
        "from sklearn.model_selection import RepeatedStratifiedKFold\n",
        "from sklearn.ensemble import GradientBoostingClassifier\n",
        "\n",
        "X, y = make_classification(random_state=1)\n",
        "\n",
        "model_5 = GradientBoostingClassifier(n_estimators=9,max_depth=3,random_state=0)\n",
        "\n",
        "cv = RepeatedStratifiedKFold(n_splits=10, n_repeats=3, random_state=0)\n",
        "\n",
        "n_scores = cross_val_score(model_5, X, y, scoring='accuracy', cv=cv)\n",
        "\n",
        "print('Mean Accuracy: %.3f (%.3f)' % (mean(n_scores), std(n_scores)))"
      ],
      "metadata": {
        "colab": {
          "base_uri": "https://localhost:8080/"
        },
        "id": "rJx7EWIVIcHx",
        "outputId": "6fb7ab5e-36c4-49fa-9f07-ff1348a6296f"
      },
      "execution_count": 14,
      "outputs": [
        {
          "output_type": "stream",
          "name": "stdout",
          "text": [
            "Mean Accuracy: 0.953 (0.050)\n"
          ]
        }
      ]
    },
    {
      "cell_type": "code",
      "source": [
        ""
      ],
      "metadata": {
        "id": "VkPBF3pMIdhE"
      },
      "execution_count": 14,
      "outputs": []
    },
    {
      "cell_type": "markdown",
      "source": [
        "#USING SMOTE"
      ],
      "metadata": {
        "id": "7I6HqjWBMYzH"
      }
    },
    {
      "cell_type": "code",
      "source": [
        "X = dataset.iloc[:, 3:]\n",
        "y = dataset.iloc[:, 0]\n",
        "\n",
        "\n",
        "from sklearn.model_selection import train_test_split\n",
        "  \n",
        "X_train, X_test, y_train, y_test = train_test_split(X, y, test_size = 0.2, random_state = 0)\n",
        "  "
      ],
      "metadata": {
        "id": "JuTzJ2E6MbHn"
      },
      "execution_count": 15,
      "outputs": []
    },
    {
      "cell_type": "code",
      "source": [
        "from imblearn.over_sampling import SMOTE\n",
        "sm = SMOTE(random_state = 2)\n",
        "X_train_res, y_train_res = sm.fit_resample(X_train, y_train.ravel())"
      ],
      "metadata": {
        "id": "nrC9u3A_MriS"
      },
      "execution_count": 16,
      "outputs": []
    },
    {
      "cell_type": "markdown",
      "source": [
        "**Gradient Boosting**"
      ],
      "metadata": {
        "id": "wsIUWfn6mcFm"
      }
    },
    {
      "cell_type": "code",
      "source": [
        "from sklearn.ensemble import GradientBoostingClassifier\n",
        "from sklearn.model_selection import RepeatedStratifiedKFold\n",
        "\n",
        "classifier = GradientBoostingClassifier(n_estimators=4,random_state=0)\n",
        "classifier.fit(X_train, y_train)\n",
        "y_pred = classifier.predict(X_test)\n",
        "\n",
        "from sklearn.metrics import classification_report, confusion_matrix, accuracy_score\n",
        "print(confusion_matrix(y_test, y_pred))\n",
        "print(classification_report(y_test,y_pred))\n",
        "print(\"Accurecy: \",accuracy_score(y_test, y_pred))"
      ],
      "metadata": {
        "colab": {
          "base_uri": "https://localhost:8080/"
        },
        "id": "AiHr2afNMtZr",
        "outputId": "376fbc18-2208-4417-c2a8-306243805ce2"
      },
      "execution_count": 17,
      "outputs": [
        {
          "output_type": "stream",
          "name": "stdout",
          "text": [
            "[[31  8]\n",
            " [ 4 23]]\n",
            "              precision    recall  f1-score   support\n",
            "\n",
            "     Healthy       0.89      0.79      0.84        39\n",
            "    Tinnitus       0.74      0.85      0.79        27\n",
            "\n",
            "    accuracy                           0.82        66\n",
            "   macro avg       0.81      0.82      0.82        66\n",
            "weighted avg       0.83      0.82      0.82        66\n",
            "\n",
            "Accurecy:  0.8181818181818182\n"
          ]
        }
      ]
    },
    {
      "cell_type": "markdown",
      "source": [
        "**Random Forest**"
      ],
      "metadata": {
        "id": "0wCo5Pc8mxGt"
      }
    },
    {
      "cell_type": "code",
      "source": [
        "from sklearn.ensemble import RandomForestClassifier\n",
        "classifier = RandomForestClassifier(n_estimators=18,max_depth=4,random_state=0)\n",
        "classifier.fit(X_train, y_train)\n",
        "y_pred=classifier.predict(X_test)\n",
        "\n",
        "\n",
        "from sklearn.metrics import classification_report, confusion_matrix, accuracy_score\n",
        "print(confusion_matrix(y_test, y_pred))\n",
        "print(classification_report(y_test,y_pred))\n",
        "print(\"Accurecy: \",accuracy_score(y_test, y_pred))"
      ],
      "metadata": {
        "colab": {
          "base_uri": "https://localhost:8080/"
        },
        "id": "56hO8N5mNQ_i",
        "outputId": "2c495e58-0492-4bb9-9e28-09915ba9bb7a"
      },
      "execution_count": 18,
      "outputs": [
        {
          "output_type": "stream",
          "name": "stdout",
          "text": [
            "[[31  8]\n",
            " [ 7 20]]\n",
            "              precision    recall  f1-score   support\n",
            "\n",
            "     Healthy       0.82      0.79      0.81        39\n",
            "    Tinnitus       0.71      0.74      0.73        27\n",
            "\n",
            "    accuracy                           0.77        66\n",
            "   macro avg       0.77      0.77      0.77        66\n",
            "weighted avg       0.77      0.77      0.77        66\n",
            "\n",
            "Accurecy:  0.7727272727272727\n"
          ]
        }
      ]
    },
    {
      "cell_type": "markdown",
      "source": [
        "**Ada Boosting**"
      ],
      "metadata": {
        "id": "Vt7ybDgim66e"
      }
    },
    {
      "cell_type": "code",
      "source": [
        "from sklearn.ensemble import AdaBoostClassifier \n",
        "\n",
        "classifier = AdaBoostClassifier(n_estimators=54,random_state=0)\n",
        "classifier.fit(X_train, y_train)\n",
        "y_pred = classifier.predict(X_test)\n",
        "\n",
        "from sklearn.metrics import classification_report, confusion_matrix, accuracy_score\n",
        "print(confusion_matrix(y_test, y_pred))\n",
        "print(classification_report(y_test,y_pred))\n",
        "print(\"Accurecy: \",accuracy_score(y_test, y_pred))"
      ],
      "metadata": {
        "colab": {
          "base_uri": "https://localhost:8080/"
        },
        "id": "BG5nLMymNVzv",
        "outputId": "5f21662c-5cf3-4149-f1ef-1688cacf7448"
      },
      "execution_count": 19,
      "outputs": [
        {
          "output_type": "stream",
          "name": "stdout",
          "text": [
            "[[35  4]\n",
            " [ 9 18]]\n",
            "              precision    recall  f1-score   support\n",
            "\n",
            "     Healthy       0.80      0.90      0.84        39\n",
            "    Tinnitus       0.82      0.67      0.73        27\n",
            "\n",
            "    accuracy                           0.80        66\n",
            "   macro avg       0.81      0.78      0.79        66\n",
            "weighted avg       0.80      0.80      0.80        66\n",
            "\n",
            "Accurecy:  0.803030303030303\n"
          ]
        }
      ]
    },
    {
      "cell_type": "markdown",
      "source": [
        "#SHAP Explanation\n"
      ],
      "metadata": {
        "id": "17PUKw23nBVd"
      }
    },
    {
      "cell_type": "code",
      "source": [
        "!pip install shap"
      ],
      "metadata": {
        "colab": {
          "base_uri": "https://localhost:8080/"
        },
        "id": "3gzoGICYoGTi",
        "outputId": "2bd38a23-a6d8-4582-a9b1-59c866759398"
      },
      "execution_count": 21,
      "outputs": [
        {
          "output_type": "stream",
          "name": "stdout",
          "text": [
            "Looking in indexes: https://pypi.org/simple, https://us-python.pkg.dev/colab-wheels/public/simple/\n",
            "Requirement already satisfied: shap in /usr/local/lib/python3.7/dist-packages (0.41.0)\n",
            "Requirement already satisfied: numba in /usr/local/lib/python3.7/dist-packages (from shap) (0.51.2)\n",
            "Requirement already satisfied: numpy in /usr/local/lib/python3.7/dist-packages (from shap) (1.21.6)\n",
            "Requirement already satisfied: packaging>20.9 in /usr/local/lib/python3.7/dist-packages (from shap) (21.3)\n",
            "Requirement already satisfied: tqdm>4.25.0 in /usr/local/lib/python3.7/dist-packages (from shap) (4.64.0)\n",
            "Requirement already satisfied: slicer==0.0.7 in /usr/local/lib/python3.7/dist-packages (from shap) (0.0.7)\n",
            "Requirement already satisfied: scikit-learn in /usr/local/lib/python3.7/dist-packages (from shap) (1.0.2)\n",
            "Requirement already satisfied: cloudpickle in /usr/local/lib/python3.7/dist-packages (from shap) (1.3.0)\n",
            "Requirement already satisfied: pandas in /usr/local/lib/python3.7/dist-packages (from shap) (1.3.5)\n",
            "Requirement already satisfied: scipy in /usr/local/lib/python3.7/dist-packages (from shap) (1.7.3)\n",
            "Requirement already satisfied: pyparsing!=3.0.5,>=2.0.2 in /usr/local/lib/python3.7/dist-packages (from packaging>20.9->shap) (3.0.9)\n",
            "Requirement already satisfied: setuptools in /usr/local/lib/python3.7/dist-packages (from numba->shap) (57.4.0)\n",
            "Requirement already satisfied: llvmlite<0.35,>=0.34.0.dev0 in /usr/local/lib/python3.7/dist-packages (from numba->shap) (0.34.0)\n",
            "Requirement already satisfied: pytz>=2017.3 in /usr/local/lib/python3.7/dist-packages (from pandas->shap) (2022.1)\n",
            "Requirement already satisfied: python-dateutil>=2.7.3 in /usr/local/lib/python3.7/dist-packages (from pandas->shap) (2.8.2)\n",
            "Requirement already satisfied: six>=1.5 in /usr/local/lib/python3.7/dist-packages (from python-dateutil>=2.7.3->pandas->shap) (1.15.0)\n",
            "Requirement already satisfied: joblib>=0.11 in /usr/local/lib/python3.7/dist-packages (from scikit-learn->shap) (1.1.0)\n",
            "Requirement already satisfied: threadpoolctl>=2.0.0 in /usr/local/lib/python3.7/dist-packages (from scikit-learn->shap) (3.1.0)\n"
          ]
        }
      ]
    },
    {
      "cell_type": "code",
      "source": [
        "import shap"
      ],
      "metadata": {
        "id": "dDcbs3zgoGBi"
      },
      "execution_count": 23,
      "outputs": []
    },
    {
      "cell_type": "code",
      "source": [
        "def Global(classifier, X_test_,features_names, max_display=5):\n",
        "\n",
        "  explainer = shap.Explainer(classifier.predict, X_test)\n",
        "\n",
        "  shap_values = explainer( X_test)\n",
        "\n",
        "  shap.summary_plot(shap_values, X, plot_type=\"bar\",max_display=max_display,feature_names=features_names)\n",
        "\n",
        "  shap.plots.bar(shap_values,max_display=5)\n",
        "\n",
        "  shap.summary_plot(shap_values,max_display=max_display,feature_names=features_names)\n",
        "\n",
        "  return shap_values\n",
        "\n",
        "\n",
        "def single_shape_row(classifier,features_names,shap_index=0):\n",
        "  explainer = shap.Explainer(classifier.predict, X_test)\n",
        "\n",
        "  shap_values = explainer( X_test)\n",
        "\n",
        "  shap.plots.waterfall(shap_values[shap_index])\n",
        "\n",
        "  shap.initjs()\n",
        "  shap.plots.force(shap_values[shap_index],feature_names=features_names)\n",
        "\n",
        "\n",
        "\n",
        "def part_wise(classifier, X_train, features_names, max_display=5, shap_index=0, start_index=1, end_index=2):\n",
        "\n",
        "  explainer = shap.KernelExplainer(classifier.predict_proba, X_train)\n",
        "\n",
        "  shap_values = explainer.shap_values(X_test[start_index:end_index])\n",
        "\n",
        "\n",
        "  shap.initjs()\n",
        "  # Force plot\n",
        "  prediction = classifier.predict(X_test[start_index:end_index])[0]\n",
        "  print(f\"The  predicted: {prediction}\")\n",
        "  shap.force_plot(explainer.expected_value[shap_index],\n",
        "                  shap_values[shap_index],\n",
        "                  X_test[start_index:end_index],feature_names=features_names)\n",
        "\n",
        "  shap.summary_plot(shap_values, X_test[start_index:end_index], plot_type=\"bar\",class_names=['Healthy','Tinnitus'],max_display=max_display,feature_names=features_names)\n",
        "\n",
        "\n",
        "\n"
      ],
      "metadata": {
        "id": "wvxEKJlJoF-J"
      },
      "execution_count": 24,
      "outputs": []
    },
    {
      "cell_type": "code",
      "source": [
        "features_names=list(dataset.iloc[0:0, 3:])\n",
        "print(features_names)\n",
        "\n"
      ],
      "metadata": {
        "id": "zh__oIEv5p1a",
        "outputId": "00cfaf79-9aa9-48bb-8a92-3f420bd0e7a2",
        "colab": {
          "base_uri": "https://localhost:8080/"
        }
      },
      "execution_count": 26,
      "outputs": [
        {
          "output_type": "stream",
          "name": "stdout",
          "text": [
            "['n0_gap_peak_ms', 'p1_gap_peak_ms', 'n1_gap_peak_ms', 'p2_gap_peak_ms', 'n2_gap_peak_ms', 'p3_gap_peak_ms', 'n0_nogap_peak_ms', 'p1_nogap_peak_ms', 'n1_nogap_peak_ms', 'p2_nogap_peak_ms', 'n2_nogap_peak_ms', 'p3_nogap_peak_ms', 'n0p1_interval_gap', 'n0n1_interval_gap', 'n0p2_interval_gap', 'n0n2_interval_gap', 'n0p3_interval_gap', 'p1n1_interval_gap', 'p1p2_interval_gap', 'p1n2_interval_gap', 'p1p3_interval_gap', 'n1p2_interval_gap', 'n1n2_interval_gap', 'n1p3_interval_gap', 'p2n2_interval_gap', 'p2p3_interval_gap', 'n2p3_interval_gap', 'n0p1_interval_nogap', 'n0n1_interval_nogap', 'n0p2_interval_nogap', 'n0n2_interval_nogap', 'n0p3_interval_nogap', 'p1n1_interval_nogap', 'p1p2_interval_nogap', 'p1n2_interval_nogap', 'p1p3_interval_nogap', 'n1p2_interval_nogap', 'n1n2_interval_nogap', 'n1p3_interval_nogap', 'p2n2_interval_nogap', 'p2p3_interval_nogap', 'n2p3_interval_nogap', 'n0_gap_peak_amp', 'p1_gap_peak_amp', 'n1_gap_peak_amp', 'p2_gap_peak_amp', 'n2_gap_peak_amp', 'p3_gap_peak_amp', 'n0_nogap_peak_amp', 'p1_nogap_peak_amp', 'n1_nogap_peak_amp', 'p2_nogap_peak_amp', 'n2_nogap_peak_amp', 'p3_nogap_peak_amp', 'n0p1_gap_diff', 'p1n1_gap_diff', 'n1p2_gap_diff', 'p2n2_gap_diff', 'n2p3_gap_diff', 'n0p1_nogap_diff', 'p1n1_nogap_diff', 'n1p2_nogap_diff', 'p2n2_nogap_diff', 'n2p3_nogap_diff', 'n1p2_gap_nogap_diff', 'p2n2_gap_nogap_diff', 'n1p2_gap_no_gap_ratio', 'p2n2_gap_no_gap_ratio', 'gap_auc_n0p1_L', 'gap_auc_p1n1_R', 'gap_auc_n0p1n1', 'gap_auc_p1n1_L', 'gap_auc_n1p2_R', 'gap_auc_p1n1p2', 'gap_auc_n1p2_L', 'gap_auc_p2n2_R', 'gap_auc_n1p2n2', 'gap_auc_p2n2_L', 'gap_auc_n2p3_R', 'gap_auc_p2n2p3', 'nogap_auc_n0p1_L', 'nogap_auc_p1n1_R', 'nogap_auc_n0p1n1', 'nogap_auc_p1n1_L', 'nogap_auc_n1p2_R', 'nogap_auc_p1n1p2', 'nogap_auc_n1p2_L', 'nogap_auc_p2n2_R', 'nogap_auc_n1p2n2', 'nogap_auc_p2n2_L', 'nogap_auc_n2p3_R', 'nogap_auc_p2n2p3', 'gap_auc_total', 'gap_auc_total_abs', 'gap_auc_n0p1n1_by_total', 'gap_auc_p1n1p2_by_total', 'gap_auc_n1p2n2_by_total', 'gap_auc_p2n2p3_by_total', 'nogap_auc_total', 'nogap_auc_total_abs', 'nogap_auc_n0p1n1_by_total', 'nogap_auc_p1n1p2_by_total', 'nogap_auc_n1p2n2_by_total', 'nogap_auc_p2n2p3_by_total', 'fft_gap_total_auc', 'fft_nogap_total_auc']\n"
          ]
        }
      ]
    },
    {
      "cell_type": "code",
      "source": [
        "from sklearn.ensemble import GradientBoostingClassifier\n",
        "\n",
        "from sklearn.preprocessing import LabelEncoder\n",
        "classifier = GradientBoostingClassifier(n_estimators=4,random_state=0)\n",
        "classifier.fit(X_train, y_train)\n",
        "y_pred = classifier.predict(X_test)\n",
        "encoder=LabelEncoder()\n",
        "dataset[\"Subject Type/Class\"]=encoder.fit_transform(dataset[\"Subject Type/Class\"])\n",
        "\n",
        "Global(classifier, X_train,features_names,10)"
      ],
      "metadata": {
        "colab": {
          "base_uri": "https://localhost:8080/",
          "height": 488
        },
        "id": "wdDIfchvoML6",
        "outputId": "94cbdb16-6402-4b67-f05b-153fd726c41c"
      },
      "execution_count": 28,
      "outputs": [
        {
          "output_type": "error",
          "ename": "ValueError",
          "evalue": "ignored",
          "traceback": [
            "\u001b[0;31m---------------------------------------------------------------------------\u001b[0m",
            "\u001b[0;31mValueError\u001b[0m                                Traceback (most recent call last)",
            "\u001b[0;32m<ipython-input-28-7bdae79060d0>\u001b[0m in \u001b[0;36m<module>\u001b[0;34m()\u001b[0m\n\u001b[1;32m      8\u001b[0m \u001b[0mdataset\u001b[0m\u001b[0;34m[\u001b[0m\u001b[0;34m\"Subject Type/Class\"\u001b[0m\u001b[0;34m]\u001b[0m\u001b[0;34m=\u001b[0m\u001b[0mencoder\u001b[0m\u001b[0;34m.\u001b[0m\u001b[0mfit_transform\u001b[0m\u001b[0;34m(\u001b[0m\u001b[0mdataset\u001b[0m\u001b[0;34m[\u001b[0m\u001b[0;34m\"Subject Type/Class\"\u001b[0m\u001b[0;34m]\u001b[0m\u001b[0;34m)\u001b[0m\u001b[0;34m\u001b[0m\u001b[0;34m\u001b[0m\u001b[0m\n\u001b[1;32m      9\u001b[0m \u001b[0;34m\u001b[0m\u001b[0m\n\u001b[0;32m---> 10\u001b[0;31m \u001b[0mGlobal\u001b[0m\u001b[0;34m(\u001b[0m\u001b[0mclassifier\u001b[0m\u001b[0;34m,\u001b[0m \u001b[0mX_train\u001b[0m\u001b[0;34m,\u001b[0m\u001b[0mfeatures_names\u001b[0m\u001b[0;34m,\u001b[0m\u001b[0;36m10\u001b[0m\u001b[0;34m)\u001b[0m\u001b[0;34m\u001b[0m\u001b[0;34m\u001b[0m\u001b[0m\n\u001b[0m",
            "\u001b[0;32m<ipython-input-24-790366c4c21b>\u001b[0m in \u001b[0;36mGlobal\u001b[0;34m(classifier, X_test_, features_names, max_display)\u001b[0m\n\u001b[1;32m      3\u001b[0m   \u001b[0mexplainer\u001b[0m \u001b[0;34m=\u001b[0m \u001b[0mshap\u001b[0m\u001b[0;34m.\u001b[0m\u001b[0mExplainer\u001b[0m\u001b[0;34m(\u001b[0m\u001b[0mclassifier\u001b[0m\u001b[0;34m.\u001b[0m\u001b[0mpredict\u001b[0m\u001b[0;34m,\u001b[0m \u001b[0mX_test\u001b[0m\u001b[0;34m)\u001b[0m\u001b[0;34m\u001b[0m\u001b[0;34m\u001b[0m\u001b[0m\n\u001b[1;32m      4\u001b[0m \u001b[0;34m\u001b[0m\u001b[0m\n\u001b[0;32m----> 5\u001b[0;31m   \u001b[0mshap_values\u001b[0m \u001b[0;34m=\u001b[0m \u001b[0mexplainer\u001b[0m\u001b[0;34m(\u001b[0m \u001b[0mX_test\u001b[0m\u001b[0;34m)\u001b[0m\u001b[0;34m\u001b[0m\u001b[0;34m\u001b[0m\u001b[0m\n\u001b[0m\u001b[1;32m      6\u001b[0m \u001b[0;34m\u001b[0m\u001b[0m\n\u001b[1;32m      7\u001b[0m   \u001b[0mshap\u001b[0m\u001b[0;34m.\u001b[0m\u001b[0msummary_plot\u001b[0m\u001b[0;34m(\u001b[0m\u001b[0mshap_values\u001b[0m\u001b[0;34m,\u001b[0m \u001b[0mX\u001b[0m\u001b[0;34m,\u001b[0m \u001b[0mplot_type\u001b[0m\u001b[0;34m=\u001b[0m\u001b[0;34m\"bar\"\u001b[0m\u001b[0;34m,\u001b[0m\u001b[0mmax_display\u001b[0m\u001b[0;34m=\u001b[0m\u001b[0mmax_display\u001b[0m\u001b[0;34m,\u001b[0m\u001b[0mfeature_names\u001b[0m\u001b[0;34m=\u001b[0m\u001b[0mfeatures_names\u001b[0m\u001b[0;34m)\u001b[0m\u001b[0;34m\u001b[0m\u001b[0;34m\u001b[0m\u001b[0m\n",
            "\u001b[0;32m/usr/local/lib/python3.7/dist-packages/shap/explainers/_permutation.py\u001b[0m in \u001b[0;36m__call__\u001b[0;34m(self, max_evals, main_effects, error_bounds, batch_size, outputs, silent, *args)\u001b[0m\n\u001b[1;32m     82\u001b[0m         return super().__call__(\n\u001b[1;32m     83\u001b[0m             \u001b[0;34m*\u001b[0m\u001b[0margs\u001b[0m\u001b[0;34m,\u001b[0m \u001b[0mmax_evals\u001b[0m\u001b[0;34m=\u001b[0m\u001b[0mmax_evals\u001b[0m\u001b[0;34m,\u001b[0m \u001b[0mmain_effects\u001b[0m\u001b[0;34m=\u001b[0m\u001b[0mmain_effects\u001b[0m\u001b[0;34m,\u001b[0m \u001b[0merror_bounds\u001b[0m\u001b[0;34m=\u001b[0m\u001b[0merror_bounds\u001b[0m\u001b[0;34m,\u001b[0m \u001b[0mbatch_size\u001b[0m\u001b[0;34m=\u001b[0m\u001b[0mbatch_size\u001b[0m\u001b[0;34m,\u001b[0m\u001b[0;34m\u001b[0m\u001b[0;34m\u001b[0m\u001b[0m\n\u001b[0;32m---> 84\u001b[0;31m             \u001b[0moutputs\u001b[0m\u001b[0;34m=\u001b[0m\u001b[0moutputs\u001b[0m\u001b[0;34m,\u001b[0m \u001b[0msilent\u001b[0m\u001b[0;34m=\u001b[0m\u001b[0msilent\u001b[0m\u001b[0;34m\u001b[0m\u001b[0;34m\u001b[0m\u001b[0m\n\u001b[0m\u001b[1;32m     85\u001b[0m         )\n\u001b[1;32m     86\u001b[0m \u001b[0;34m\u001b[0m\u001b[0m\n",
            "\u001b[0;32m/usr/local/lib/python3.7/dist-packages/shap/explainers/_explainer.py\u001b[0m in \u001b[0;36m__call__\u001b[0;34m(self, max_evals, main_effects, error_bounds, batch_size, outputs, silent, *args, **kwargs)\u001b[0m\n\u001b[1;32m    266\u001b[0m             row_result = self.explain_row(\n\u001b[1;32m    267\u001b[0m                 \u001b[0;34m*\u001b[0m\u001b[0mrow_args\u001b[0m\u001b[0;34m,\u001b[0m \u001b[0mmax_evals\u001b[0m\u001b[0;34m=\u001b[0m\u001b[0mmax_evals\u001b[0m\u001b[0;34m,\u001b[0m \u001b[0mmain_effects\u001b[0m\u001b[0;34m=\u001b[0m\u001b[0mmain_effects\u001b[0m\u001b[0;34m,\u001b[0m \u001b[0merror_bounds\u001b[0m\u001b[0;34m=\u001b[0m\u001b[0merror_bounds\u001b[0m\u001b[0;34m,\u001b[0m\u001b[0;34m\u001b[0m\u001b[0;34m\u001b[0m\u001b[0m\n\u001b[0;32m--> 268\u001b[0;31m                 \u001b[0mbatch_size\u001b[0m\u001b[0;34m=\u001b[0m\u001b[0mbatch_size\u001b[0m\u001b[0;34m,\u001b[0m \u001b[0moutputs\u001b[0m\u001b[0;34m=\u001b[0m\u001b[0moutputs\u001b[0m\u001b[0;34m,\u001b[0m \u001b[0msilent\u001b[0m\u001b[0;34m=\u001b[0m\u001b[0msilent\u001b[0m\u001b[0;34m,\u001b[0m \u001b[0;34m**\u001b[0m\u001b[0mkwargs\u001b[0m\u001b[0;34m\u001b[0m\u001b[0;34m\u001b[0m\u001b[0m\n\u001b[0m\u001b[1;32m    269\u001b[0m             )\n\u001b[1;32m    270\u001b[0m             \u001b[0mvalues\u001b[0m\u001b[0;34m.\u001b[0m\u001b[0mappend\u001b[0m\u001b[0;34m(\u001b[0m\u001b[0mrow_result\u001b[0m\u001b[0;34m.\u001b[0m\u001b[0mget\u001b[0m\u001b[0;34m(\u001b[0m\u001b[0;34m\"values\"\u001b[0m\u001b[0;34m,\u001b[0m \u001b[0;32mNone\u001b[0m\u001b[0;34m)\u001b[0m\u001b[0;34m)\u001b[0m\u001b[0;34m\u001b[0m\u001b[0;34m\u001b[0m\u001b[0m\n",
            "\u001b[0;32m/usr/local/lib/python3.7/dist-packages/shap/explainers/_permutation.py\u001b[0m in \u001b[0;36mexplain_row\u001b[0;34m(self, max_evals, main_effects, error_bounds, batch_size, outputs, silent, *row_args)\u001b[0m\n\u001b[1;32m    138\u001b[0m \u001b[0;34m\u001b[0m\u001b[0m\n\u001b[1;32m    139\u001b[0m                 \u001b[0;31m# evaluate the masked model\u001b[0m\u001b[0;34m\u001b[0m\u001b[0;34m\u001b[0m\u001b[0;34m\u001b[0m\u001b[0m\n\u001b[0;32m--> 140\u001b[0;31m                 \u001b[0moutputs\u001b[0m \u001b[0;34m=\u001b[0m \u001b[0mfm\u001b[0m\u001b[0;34m(\u001b[0m\u001b[0mmasks\u001b[0m\u001b[0;34m,\u001b[0m \u001b[0mzero_index\u001b[0m\u001b[0;34m=\u001b[0m\u001b[0;36m0\u001b[0m\u001b[0;34m,\u001b[0m \u001b[0mbatch_size\u001b[0m\u001b[0;34m=\u001b[0m\u001b[0mbatch_size\u001b[0m\u001b[0;34m)\u001b[0m\u001b[0;34m\u001b[0m\u001b[0;34m\u001b[0m\u001b[0m\n\u001b[0m\u001b[1;32m    141\u001b[0m \u001b[0;34m\u001b[0m\u001b[0m\n\u001b[1;32m    142\u001b[0m                 \u001b[0;32mif\u001b[0m \u001b[0mrow_values\u001b[0m \u001b[0;32mis\u001b[0m \u001b[0;32mNone\u001b[0m\u001b[0;34m:\u001b[0m\u001b[0;34m\u001b[0m\u001b[0;34m\u001b[0m\u001b[0m\n",
            "\u001b[0;32m/usr/local/lib/python3.7/dist-packages/shap/utils/_masked_model.py\u001b[0m in \u001b[0;36m__call__\u001b[0;34m(self, masks, zero_index, batch_size)\u001b[0m\n\u001b[1;32m     55\u001b[0m         \u001b[0;32mif\u001b[0m \u001b[0mlen\u001b[0m\u001b[0;34m(\u001b[0m\u001b[0mmasks\u001b[0m\u001b[0;34m.\u001b[0m\u001b[0mshape\u001b[0m\u001b[0;34m)\u001b[0m \u001b[0;34m==\u001b[0m \u001b[0;36m1\u001b[0m\u001b[0;34m:\u001b[0m\u001b[0;34m\u001b[0m\u001b[0;34m\u001b[0m\u001b[0m\n\u001b[1;32m     56\u001b[0m             \u001b[0;32mif\u001b[0m \u001b[0mgetattr\u001b[0m\u001b[0;34m(\u001b[0m\u001b[0mself\u001b[0m\u001b[0;34m.\u001b[0m\u001b[0mmasker\u001b[0m\u001b[0;34m,\u001b[0m \u001b[0;34m\"supports_delta_masking\"\u001b[0m\u001b[0;34m,\u001b[0m \u001b[0;32mFalse\u001b[0m\u001b[0;34m)\u001b[0m\u001b[0;34m:\u001b[0m\u001b[0;34m\u001b[0m\u001b[0;34m\u001b[0m\u001b[0m\n\u001b[0;32m---> 57\u001b[0;31m                 \u001b[0;32mreturn\u001b[0m \u001b[0mself\u001b[0m\u001b[0;34m.\u001b[0m\u001b[0m_delta_masking_call\u001b[0m\u001b[0;34m(\u001b[0m\u001b[0mmasks\u001b[0m\u001b[0;34m,\u001b[0m \u001b[0mzero_index\u001b[0m\u001b[0;34m=\u001b[0m\u001b[0mzero_index\u001b[0m\u001b[0;34m,\u001b[0m \u001b[0mbatch_size\u001b[0m\u001b[0;34m=\u001b[0m\u001b[0mbatch_size\u001b[0m\u001b[0;34m)\u001b[0m\u001b[0;34m\u001b[0m\u001b[0;34m\u001b[0m\u001b[0m\n\u001b[0m\u001b[1;32m     58\u001b[0m \u001b[0;34m\u001b[0m\u001b[0m\n\u001b[1;32m     59\u001b[0m             \u001b[0;31m# we need to convert from delta masking to a full masking call because we were given a delta masking\u001b[0m\u001b[0;34m\u001b[0m\u001b[0;34m\u001b[0m\u001b[0;34m\u001b[0m\u001b[0m\n",
            "\u001b[0;32m/usr/local/lib/python3.7/dist-packages/shap/utils/_masked_model.py\u001b[0m in \u001b[0;36m_delta_masking_call\u001b[0;34m(self, masks, zero_index, batch_size)\u001b[0m\n\u001b[1;32m    211\u001b[0m         \u001b[0mlast_outs\u001b[0m \u001b[0;34m=\u001b[0m \u001b[0mnp\u001b[0m\u001b[0;34m.\u001b[0m\u001b[0mzeros\u001b[0m\u001b[0;34m(\u001b[0m\u001b[0;34m(\u001b[0m\u001b[0mvarying_rows\u001b[0m\u001b[0;34m.\u001b[0m\u001b[0mshape\u001b[0m\u001b[0;34m[\u001b[0m\u001b[0;36m1\u001b[0m\u001b[0;34m]\u001b[0m\u001b[0;34m,\u001b[0m\u001b[0;34m)\u001b[0m \u001b[0;34m+\u001b[0m \u001b[0moutputs\u001b[0m\u001b[0;34m.\u001b[0m\u001b[0mshape\u001b[0m\u001b[0;34m[\u001b[0m\u001b[0;36m1\u001b[0m\u001b[0;34m:\u001b[0m\u001b[0;34m]\u001b[0m\u001b[0;34m)\u001b[0m\u001b[0;34m\u001b[0m\u001b[0;34m\u001b[0m\u001b[0m\n\u001b[1;32m    212\u001b[0m         \u001b[0;31m#print(\"link\", self.link)\u001b[0m\u001b[0;34m\u001b[0m\u001b[0;34m\u001b[0m\u001b[0;34m\u001b[0m\u001b[0m\n\u001b[0;32m--> 213\u001b[0;31m         \u001b[0m_build_fixed_output\u001b[0m\u001b[0;34m(\u001b[0m\u001b[0maveraged_outs\u001b[0m\u001b[0;34m,\u001b[0m \u001b[0mlast_outs\u001b[0m\u001b[0;34m,\u001b[0m \u001b[0moutputs\u001b[0m\u001b[0;34m,\u001b[0m \u001b[0mbatch_positions\u001b[0m\u001b[0;34m,\u001b[0m \u001b[0mvarying_rows\u001b[0m\u001b[0;34m,\u001b[0m \u001b[0mnum_varying_rows\u001b[0m\u001b[0;34m,\u001b[0m \u001b[0mself\u001b[0m\u001b[0;34m.\u001b[0m\u001b[0mlink\u001b[0m\u001b[0;34m,\u001b[0m \u001b[0mself\u001b[0m\u001b[0;34m.\u001b[0m\u001b[0m_linearizing_weights\u001b[0m\u001b[0;34m)\u001b[0m\u001b[0;34m\u001b[0m\u001b[0;34m\u001b[0m\u001b[0m\n\u001b[0m\u001b[1;32m    214\u001b[0m \u001b[0;34m\u001b[0m\u001b[0m\n\u001b[1;32m    215\u001b[0m         \u001b[0;32mreturn\u001b[0m \u001b[0maveraged_outs\u001b[0m\u001b[0;34m\u001b[0m\u001b[0;34m\u001b[0m\u001b[0m\n",
            "\u001b[0;32m/usr/local/lib/python3.7/dist-packages/shap/utils/_masked_model.py\u001b[0m in \u001b[0;36m_build_fixed_output\u001b[0;34m(averaged_outs, last_outs, outputs, batch_positions, varying_rows, num_varying_rows, link, linearizing_weights)\u001b[0m\n\u001b[1;32m    356\u001b[0m \u001b[0;32mdef\u001b[0m \u001b[0m_build_fixed_output\u001b[0m\u001b[0;34m(\u001b[0m\u001b[0maveraged_outs\u001b[0m\u001b[0;34m,\u001b[0m \u001b[0mlast_outs\u001b[0m\u001b[0;34m,\u001b[0m \u001b[0moutputs\u001b[0m\u001b[0;34m,\u001b[0m \u001b[0mbatch_positions\u001b[0m\u001b[0;34m,\u001b[0m \u001b[0mvarying_rows\u001b[0m\u001b[0;34m,\u001b[0m \u001b[0mnum_varying_rows\u001b[0m\u001b[0;34m,\u001b[0m \u001b[0mlink\u001b[0m\u001b[0;34m,\u001b[0m \u001b[0mlinearizing_weights\u001b[0m\u001b[0;34m)\u001b[0m\u001b[0;34m:\u001b[0m\u001b[0;34m\u001b[0m\u001b[0;34m\u001b[0m\u001b[0m\n\u001b[1;32m    357\u001b[0m     \u001b[0;32mif\u001b[0m \u001b[0mlen\u001b[0m\u001b[0;34m(\u001b[0m\u001b[0mlast_outs\u001b[0m\u001b[0;34m.\u001b[0m\u001b[0mshape\u001b[0m\u001b[0;34m)\u001b[0m \u001b[0;34m==\u001b[0m \u001b[0;36m1\u001b[0m\u001b[0;34m:\u001b[0m\u001b[0;34m\u001b[0m\u001b[0;34m\u001b[0m\u001b[0m\n\u001b[0;32m--> 358\u001b[0;31m         \u001b[0m_build_fixed_single_output\u001b[0m\u001b[0;34m(\u001b[0m\u001b[0maveraged_outs\u001b[0m\u001b[0;34m,\u001b[0m \u001b[0mlast_outs\u001b[0m\u001b[0;34m,\u001b[0m \u001b[0moutputs\u001b[0m\u001b[0;34m,\u001b[0m \u001b[0mbatch_positions\u001b[0m\u001b[0;34m,\u001b[0m \u001b[0mvarying_rows\u001b[0m\u001b[0;34m,\u001b[0m \u001b[0mnum_varying_rows\u001b[0m\u001b[0;34m,\u001b[0m \u001b[0mlink\u001b[0m\u001b[0;34m,\u001b[0m \u001b[0mlinearizing_weights\u001b[0m\u001b[0;34m)\u001b[0m\u001b[0;34m\u001b[0m\u001b[0;34m\u001b[0m\u001b[0m\n\u001b[0m\u001b[1;32m    359\u001b[0m     \u001b[0;32melse\u001b[0m\u001b[0;34m:\u001b[0m\u001b[0;34m\u001b[0m\u001b[0;34m\u001b[0m\u001b[0m\n\u001b[1;32m    360\u001b[0m         \u001b[0m_build_fixed_multi_output\u001b[0m\u001b[0;34m(\u001b[0m\u001b[0maveraged_outs\u001b[0m\u001b[0;34m,\u001b[0m \u001b[0mlast_outs\u001b[0m\u001b[0;34m,\u001b[0m \u001b[0moutputs\u001b[0m\u001b[0;34m,\u001b[0m \u001b[0mbatch_positions\u001b[0m\u001b[0;34m,\u001b[0m \u001b[0mvarying_rows\u001b[0m\u001b[0;34m,\u001b[0m \u001b[0mnum_varying_rows\u001b[0m\u001b[0;34m,\u001b[0m \u001b[0mlink\u001b[0m\u001b[0;34m,\u001b[0m \u001b[0mlinearizing_weights\u001b[0m\u001b[0;34m)\u001b[0m\u001b[0;34m\u001b[0m\u001b[0;34m\u001b[0m\u001b[0m\n",
            "\u001b[0;31mValueError\u001b[0m: could not convert string to float: 'Healthy'"
          ]
        }
      ]
    },
    {
      "cell_type": "code",
      "source": [
        ""
      ],
      "metadata": {
        "id": "SaQtH8ggoMKa"
      },
      "execution_count": null,
      "outputs": []
    },
    {
      "cell_type": "code",
      "source": [
        ""
      ],
      "metadata": {
        "id": "m1wfCllioMHH"
      },
      "execution_count": null,
      "outputs": []
    },
    {
      "cell_type": "code",
      "source": [
        ""
      ],
      "metadata": {
        "id": "1ct-vEVboF8R"
      },
      "execution_count": null,
      "outputs": []
    },
    {
      "cell_type": "code",
      "source": [
        ""
      ],
      "metadata": {
        "id": "mNVYFE0qoFEl"
      },
      "execution_count": null,
      "outputs": []
    },
    {
      "cell_type": "code",
      "source": [
        ""
      ],
      "metadata": {
        "id": "bUOzp2TJn7OX"
      },
      "execution_count": null,
      "outputs": []
    }
  ]
}