{
  "nbformat": 4,
  "nbformat_minor": 0,
  "metadata": {
    "colab": {
      "name": "MEGA.ipynb",
      "provenance": [],
      "toc_visible": true,
      "include_colab_link": true
    },
    "kernelspec": {
      "name": "python3",
      "display_name": "Python 3"
    },
    "language_info": {
      "name": "python"
    }
  },
  "cells": [
    {
      "cell_type": "markdown",
      "metadata": {
        "id": "view-in-github",
        "colab_type": "text"
      },
      "source": [
        "<a href=\"https://colab.research.google.com/github/RafsanJany-44/IQ-RAM-SIRSK/blob/main/MEGA.ipynb\" target=\"_parent\"><img src=\"https://colab.research.google.com/assets/colab-badge.svg\" alt=\"Open In Colab\"/></a>"
      ]
    },
    {
      "cell_type": "code",
      "source": [
        "from google.colab import drive\n",
        "drive.mount('/content/drive')"
      ],
      "metadata": {
        "colab": {
          "base_uri": "https://localhost:8080/"
        },
        "id": "5OUl5WmINFCJ",
        "outputId": "6d6d76f5-47e5-43f8-c8bf-5810aa267a70"
      },
      "execution_count": 6,
      "outputs": [
        {
          "output_type": "stream",
          "name": "stdout",
          "text": [
            "Drive already mounted at /content/drive; to attempt to forcibly remount, call drive.mount(\"/content/drive\", force_remount=True).\n"
          ]
        }
      ]
    },
    {
      "cell_type": "code",
      "source": [
        "import numpy as np\n",
        "import pandas as pd\n",
        "dataset=pd.read_csv(\"/content/drive/MyDrive/Iqram Sir/Tinnitus_ALR_features_106.csv\")"
      ],
      "metadata": {
        "id": "7e9oTr105Pqg"
      },
      "execution_count": 7,
      "outputs": []
    },
    {
      "cell_type": "markdown",
      "source": [
        "# New Section"
      ],
      "metadata": {
        "id": "NECS9bbiMI7b"
      }
    },
    {
      "cell_type": "code",
      "source": [
        "dataset.head(5)"
      ],
      "metadata": {
        "colab": {
          "base_uri": "https://localhost:8080/",
          "height": 317
        },
        "id": "Ka_uPQrn5hdK",
        "outputId": "3ad9bfbf-2424-4910-f9a4-b58185f9375a"
      },
      "execution_count": 8,
      "outputs": [
        {
          "output_type": "execute_result",
          "data": {
            "text/plain": [
              "  Subject Type/Class Test Type Gap duration  n0_gap_peak_ms  p1_gap_peak_ms  \\\n",
              "0            Healthy      Test         20ms             101             147   \n",
              "1            Healthy      Test         20ms             132             155   \n",
              "2            Healthy      Test         20ms             107             160   \n",
              "3            Healthy      Test         20ms              77             200   \n",
              "4            Healthy      Test         20ms             153             128   \n",
              "\n",
              "   n1_gap_peak_ms  p2_gap_peak_ms  n2_gap_peak_ms  p3_gap_peak_ms  \\\n",
              "0             214             263             366             105   \n",
              "1             217             301             383             131   \n",
              "2             221             305             396             128   \n",
              "3             233             268             379             166   \n",
              "4             224             264             337             147   \n",
              "\n",
              "   n0_nogap_peak_ms  ...  gap_auc_n1p2n2_by_total  gap_auc_p2n2p3_by_total  \\\n",
              "0               149  ...                20.751953                 0.038292   \n",
              "1               175  ...                21.972656                 0.118686   \n",
              "2               192  ...                18.310547                 0.048787   \n",
              "3               120  ...                16.357422                 0.062302   \n",
              "4               176  ...                16.845703                 0.100706   \n",
              "\n",
              "   nogap_auc_total  nogap_auc_total_abs  nogap_auc_n0p1n1_by_total  \\\n",
              "0        33.935547            15.285080                  10.327331   \n",
              "1        35.644531            15.548298                  10.137840   \n",
              "2        41.015625            13.078348                   8.643543   \n",
              "3        39.306641             7.087050                   5.196947   \n",
              "4        32.958984            15.198039                  11.166206   \n",
              "\n",
              "   nogap_auc_p1n1p2_by_total  nogap_auc_n1p2n2_by_total  \\\n",
              "0                   1.672325                  86.663602   \n",
              "1                   3.010325                  79.939031   \n",
              "2                   2.167986                  48.851014   \n",
              "3                   3.325309                  47.181061   \n",
              "4                   2.334388                  45.697755   \n",
              "\n",
              "   nogap_auc_p2n2p3_by_total  fft_gap_total_auc  fft_nogap_total_auc  \n",
              "0                   1.333714           0.940225             0.074033  \n",
              "1                   1.775618           0.665121             0.227634  \n",
              "2                   1.769573           0.618907             0.093239  \n",
              "3                   0.831445           0.453683             0.119996  \n",
              "4                   1.665048           0.845292             0.192855  \n",
              "\n",
              "[5 rows x 109 columns]"
            ],
            "text/html": [
              "\n",
              "  <div id=\"df-57569bb9-3493-4506-8879-622f041ef6c7\">\n",
              "    <div class=\"colab-df-container\">\n",
              "      <div>\n",
              "<style scoped>\n",
              "    .dataframe tbody tr th:only-of-type {\n",
              "        vertical-align: middle;\n",
              "    }\n",
              "\n",
              "    .dataframe tbody tr th {\n",
              "        vertical-align: top;\n",
              "    }\n",
              "\n",
              "    .dataframe thead th {\n",
              "        text-align: right;\n",
              "    }\n",
              "</style>\n",
              "<table border=\"1\" class=\"dataframe\">\n",
              "  <thead>\n",
              "    <tr style=\"text-align: right;\">\n",
              "      <th></th>\n",
              "      <th>Subject Type/Class</th>\n",
              "      <th>Test Type</th>\n",
              "      <th>Gap duration</th>\n",
              "      <th>n0_gap_peak_ms</th>\n",
              "      <th>p1_gap_peak_ms</th>\n",
              "      <th>n1_gap_peak_ms</th>\n",
              "      <th>p2_gap_peak_ms</th>\n",
              "      <th>n2_gap_peak_ms</th>\n",
              "      <th>p3_gap_peak_ms</th>\n",
              "      <th>n0_nogap_peak_ms</th>\n",
              "      <th>...</th>\n",
              "      <th>gap_auc_n1p2n2_by_total</th>\n",
              "      <th>gap_auc_p2n2p3_by_total</th>\n",
              "      <th>nogap_auc_total</th>\n",
              "      <th>nogap_auc_total_abs</th>\n",
              "      <th>nogap_auc_n0p1n1_by_total</th>\n",
              "      <th>nogap_auc_p1n1p2_by_total</th>\n",
              "      <th>nogap_auc_n1p2n2_by_total</th>\n",
              "      <th>nogap_auc_p2n2p3_by_total</th>\n",
              "      <th>fft_gap_total_auc</th>\n",
              "      <th>fft_nogap_total_auc</th>\n",
              "    </tr>\n",
              "  </thead>\n",
              "  <tbody>\n",
              "    <tr>\n",
              "      <th>0</th>\n",
              "      <td>Healthy</td>\n",
              "      <td>Test</td>\n",
              "      <td>20ms</td>\n",
              "      <td>101</td>\n",
              "      <td>147</td>\n",
              "      <td>214</td>\n",
              "      <td>263</td>\n",
              "      <td>366</td>\n",
              "      <td>105</td>\n",
              "      <td>149</td>\n",
              "      <td>...</td>\n",
              "      <td>20.751953</td>\n",
              "      <td>0.038292</td>\n",
              "      <td>33.935547</td>\n",
              "      <td>15.285080</td>\n",
              "      <td>10.327331</td>\n",
              "      <td>1.672325</td>\n",
              "      <td>86.663602</td>\n",
              "      <td>1.333714</td>\n",
              "      <td>0.940225</td>\n",
              "      <td>0.074033</td>\n",
              "    </tr>\n",
              "    <tr>\n",
              "      <th>1</th>\n",
              "      <td>Healthy</td>\n",
              "      <td>Test</td>\n",
              "      <td>20ms</td>\n",
              "      <td>132</td>\n",
              "      <td>155</td>\n",
              "      <td>217</td>\n",
              "      <td>301</td>\n",
              "      <td>383</td>\n",
              "      <td>131</td>\n",
              "      <td>175</td>\n",
              "      <td>...</td>\n",
              "      <td>21.972656</td>\n",
              "      <td>0.118686</td>\n",
              "      <td>35.644531</td>\n",
              "      <td>15.548298</td>\n",
              "      <td>10.137840</td>\n",
              "      <td>3.010325</td>\n",
              "      <td>79.939031</td>\n",
              "      <td>1.775618</td>\n",
              "      <td>0.665121</td>\n",
              "      <td>0.227634</td>\n",
              "    </tr>\n",
              "    <tr>\n",
              "      <th>2</th>\n",
              "      <td>Healthy</td>\n",
              "      <td>Test</td>\n",
              "      <td>20ms</td>\n",
              "      <td>107</td>\n",
              "      <td>160</td>\n",
              "      <td>221</td>\n",
              "      <td>305</td>\n",
              "      <td>396</td>\n",
              "      <td>128</td>\n",
              "      <td>192</td>\n",
              "      <td>...</td>\n",
              "      <td>18.310547</td>\n",
              "      <td>0.048787</td>\n",
              "      <td>41.015625</td>\n",
              "      <td>13.078348</td>\n",
              "      <td>8.643543</td>\n",
              "      <td>2.167986</td>\n",
              "      <td>48.851014</td>\n",
              "      <td>1.769573</td>\n",
              "      <td>0.618907</td>\n",
              "      <td>0.093239</td>\n",
              "    </tr>\n",
              "    <tr>\n",
              "      <th>3</th>\n",
              "      <td>Healthy</td>\n",
              "      <td>Test</td>\n",
              "      <td>20ms</td>\n",
              "      <td>77</td>\n",
              "      <td>200</td>\n",
              "      <td>233</td>\n",
              "      <td>268</td>\n",
              "      <td>379</td>\n",
              "      <td>166</td>\n",
              "      <td>120</td>\n",
              "      <td>...</td>\n",
              "      <td>16.357422</td>\n",
              "      <td>0.062302</td>\n",
              "      <td>39.306641</td>\n",
              "      <td>7.087050</td>\n",
              "      <td>5.196947</td>\n",
              "      <td>3.325309</td>\n",
              "      <td>47.181061</td>\n",
              "      <td>0.831445</td>\n",
              "      <td>0.453683</td>\n",
              "      <td>0.119996</td>\n",
              "    </tr>\n",
              "    <tr>\n",
              "      <th>4</th>\n",
              "      <td>Healthy</td>\n",
              "      <td>Test</td>\n",
              "      <td>20ms</td>\n",
              "      <td>153</td>\n",
              "      <td>128</td>\n",
              "      <td>224</td>\n",
              "      <td>264</td>\n",
              "      <td>337</td>\n",
              "      <td>147</td>\n",
              "      <td>176</td>\n",
              "      <td>...</td>\n",
              "      <td>16.845703</td>\n",
              "      <td>0.100706</td>\n",
              "      <td>32.958984</td>\n",
              "      <td>15.198039</td>\n",
              "      <td>11.166206</td>\n",
              "      <td>2.334388</td>\n",
              "      <td>45.697755</td>\n",
              "      <td>1.665048</td>\n",
              "      <td>0.845292</td>\n",
              "      <td>0.192855</td>\n",
              "    </tr>\n",
              "  </tbody>\n",
              "</table>\n",
              "<p>5 rows × 109 columns</p>\n",
              "</div>\n",
              "      <button class=\"colab-df-convert\" onclick=\"convertToInteractive('df-57569bb9-3493-4506-8879-622f041ef6c7')\"\n",
              "              title=\"Convert this dataframe to an interactive table.\"\n",
              "              style=\"display:none;\">\n",
              "        \n",
              "  <svg xmlns=\"http://www.w3.org/2000/svg\" height=\"24px\"viewBox=\"0 0 24 24\"\n",
              "       width=\"24px\">\n",
              "    <path d=\"M0 0h24v24H0V0z\" fill=\"none\"/>\n",
              "    <path d=\"M18.56 5.44l.94 2.06.94-2.06 2.06-.94-2.06-.94-.94-2.06-.94 2.06-2.06.94zm-11 1L8.5 8.5l.94-2.06 2.06-.94-2.06-.94L8.5 2.5l-.94 2.06-2.06.94zm10 10l.94 2.06.94-2.06 2.06-.94-2.06-.94-.94-2.06-.94 2.06-2.06.94z\"/><path d=\"M17.41 7.96l-1.37-1.37c-.4-.4-.92-.59-1.43-.59-.52 0-1.04.2-1.43.59L10.3 9.45l-7.72 7.72c-.78.78-.78 2.05 0 2.83L4 21.41c.39.39.9.59 1.41.59.51 0 1.02-.2 1.41-.59l7.78-7.78 2.81-2.81c.8-.78.8-2.07 0-2.86zM5.41 20L4 18.59l7.72-7.72 1.47 1.35L5.41 20z\"/>\n",
              "  </svg>\n",
              "      </button>\n",
              "      \n",
              "  <style>\n",
              "    .colab-df-container {\n",
              "      display:flex;\n",
              "      flex-wrap:wrap;\n",
              "      gap: 12px;\n",
              "    }\n",
              "\n",
              "    .colab-df-convert {\n",
              "      background-color: #E8F0FE;\n",
              "      border: none;\n",
              "      border-radius: 50%;\n",
              "      cursor: pointer;\n",
              "      display: none;\n",
              "      fill: #1967D2;\n",
              "      height: 32px;\n",
              "      padding: 0 0 0 0;\n",
              "      width: 32px;\n",
              "    }\n",
              "\n",
              "    .colab-df-convert:hover {\n",
              "      background-color: #E2EBFA;\n",
              "      box-shadow: 0px 1px 2px rgba(60, 64, 67, 0.3), 0px 1px 3px 1px rgba(60, 64, 67, 0.15);\n",
              "      fill: #174EA6;\n",
              "    }\n",
              "\n",
              "    [theme=dark] .colab-df-convert {\n",
              "      background-color: #3B4455;\n",
              "      fill: #D2E3FC;\n",
              "    }\n",
              "\n",
              "    [theme=dark] .colab-df-convert:hover {\n",
              "      background-color: #434B5C;\n",
              "      box-shadow: 0px 1px 3px 1px rgba(0, 0, 0, 0.15);\n",
              "      filter: drop-shadow(0px 1px 2px rgba(0, 0, 0, 0.3));\n",
              "      fill: #FFFFFF;\n",
              "    }\n",
              "  </style>\n",
              "\n",
              "      <script>\n",
              "        const buttonEl =\n",
              "          document.querySelector('#df-57569bb9-3493-4506-8879-622f041ef6c7 button.colab-df-convert');\n",
              "        buttonEl.style.display =\n",
              "          google.colab.kernel.accessAllowed ? 'block' : 'none';\n",
              "\n",
              "        async function convertToInteractive(key) {\n",
              "          const element = document.querySelector('#df-57569bb9-3493-4506-8879-622f041ef6c7');\n",
              "          const dataTable =\n",
              "            await google.colab.kernel.invokeFunction('convertToInteractive',\n",
              "                                                     [key], {});\n",
              "          if (!dataTable) return;\n",
              "\n",
              "          const docLinkHtml = 'Like what you see? Visit the ' +\n",
              "            '<a target=\"_blank\" href=https://colab.research.google.com/notebooks/data_table.ipynb>data table notebook</a>'\n",
              "            + ' to learn more about interactive tables.';\n",
              "          element.innerHTML = '';\n",
              "          dataTable['output_type'] = 'display_data';\n",
              "          await google.colab.output.renderOutput(dataTable, element);\n",
              "          const docLink = document.createElement('div');\n",
              "          docLink.innerHTML = docLinkHtml;\n",
              "          element.appendChild(docLink);\n",
              "        }\n",
              "      </script>\n",
              "    </div>\n",
              "  </div>\n",
              "  "
            ]
          },
          "metadata": {},
          "execution_count": 8
        }
      ]
    },
    {
      "cell_type": "code",
      "source": [
        "dataset.iloc[:, 0].value_counts()"
      ],
      "metadata": {
        "colab": {
          "base_uri": "https://localhost:8080/"
        },
        "id": "lXkwMxYx5g54",
        "outputId": "427d5c67-6141-4a81-c5f1-532bf2e3ba4c"
      },
      "execution_count": 9,
      "outputs": [
        {
          "output_type": "execute_result",
          "data": {
            "text/plain": [
              "Healthy     172\n",
              "Tinnitus    158\n",
              "Name: Subject Type/Class, dtype: int64"
            ]
          },
          "metadata": {},
          "execution_count": 9
        }
      ]
    },
    {
      "cell_type": "code",
      "source": [
        "X = dataset.iloc[:, 3:]\n",
        "y = dataset.iloc[:, 0]"
      ],
      "metadata": {
        "id": "ZYLTeqQP7FEU"
      },
      "execution_count": 10,
      "outputs": []
    },
    {
      "cell_type": "code",
      "source": [
        "from sklearn.model_selection import train_test_split\n",
        "X_train, X_test, y_train, y_test = train_test_split(X, y, test_size = 0.2, random_state = 0)"
      ],
      "metadata": {
        "id": "DhDvOJtz7J86"
      },
      "execution_count": 11,
      "outputs": []
    },
    {
      "cell_type": "code",
      "source": [
        "from sklearn.preprocessing import StandardScaler\n",
        "sc = StandardScaler()\n",
        " \n",
        "X_train = sc.fit_transform(X_train)\n",
        "X_test = sc.transform(X_test)"
      ],
      "metadata": {
        "id": "ZhwVQDTHlIFV"
      },
      "execution_count": 12,
      "outputs": []
    },
    {
      "cell_type": "markdown",
      "source": [
        "#GradientBoosting Classifier"
      ],
      "metadata": {
        "id": "9J34ZIou5xde"
      }
    },
    {
      "cell_type": "code",
      "source": [
        "from sklearn.ensemble import GradientBoostingClassifier\n",
        "from sklearn.model_selection import RepeatedStratifiedKFold\n",
        "\n",
        "classifier = GradientBoostingClassifier(n_estimators=4,random_state=0)\n",
        "classifier.fit(X_train, y_train)\n",
        "y_pred = classifier.predict(X_test)\n",
        "\n",
        "from sklearn.metrics import classification_report, confusion_matrix, accuracy_score\n",
        "print(confusion_matrix(y_test, y_pred))\n",
        "print(classification_report(y_test,y_pred))\n",
        "print(\"Accurecy: \",accuracy_score(y_test, y_pred))"
      ],
      "metadata": {
        "colab": {
          "base_uri": "https://localhost:8080/"
        },
        "id": "uaKBfQrLlIDU",
        "outputId": "43762025-1067-4065-e4b3-f598ceddfae1"
      },
      "execution_count": 13,
      "outputs": [
        {
          "output_type": "stream",
          "name": "stdout",
          "text": [
            "[[31  8]\n",
            " [ 4 23]]\n",
            "              precision    recall  f1-score   support\n",
            "\n",
            "     Healthy       0.89      0.79      0.84        39\n",
            "    Tinnitus       0.74      0.85      0.79        27\n",
            "\n",
            "    accuracy                           0.82        66\n",
            "   macro avg       0.81      0.82      0.82        66\n",
            "weighted avg       0.83      0.82      0.82        66\n",
            "\n",
            "Accurecy:  0.8181818181818182\n"
          ]
        }
      ]
    },
    {
      "cell_type": "markdown",
      "source": [
        "#Random Forest Classifier"
      ],
      "metadata": {
        "id": "fofpYROe55CB"
      }
    },
    {
      "cell_type": "code",
      "source": [
        "from sklearn.ensemble import RandomForestClassifier\n",
        "classifier = RandomForestClassifier(n_estimators=18,max_depth=4,random_state=0)\n",
        "classifier.fit(X_train, y_train)\n",
        "y_pred=classifier.predict(X_test)\n",
        "\n",
        "\n",
        "from sklearn.metrics import classification_report, confusion_matrix, accuracy_score\n",
        "print(confusion_matrix(y_test, y_pred))\n",
        "print(classification_report(y_test,y_pred))\n",
        "print(\"Accurecy: \",accuracy_score(y_test, y_pred))"
      ],
      "metadata": {
        "colab": {
          "base_uri": "https://localhost:8080/"
        },
        "id": "nWJonuaAlH1C",
        "outputId": "5efd7d96-9834-4579-f1a3-063f608b9ac8"
      },
      "execution_count": 14,
      "outputs": [
        {
          "output_type": "stream",
          "name": "stdout",
          "text": [
            "[[32  7]\n",
            " [ 7 20]]\n",
            "              precision    recall  f1-score   support\n",
            "\n",
            "     Healthy       0.82      0.82      0.82        39\n",
            "    Tinnitus       0.74      0.74      0.74        27\n",
            "\n",
            "    accuracy                           0.79        66\n",
            "   macro avg       0.78      0.78      0.78        66\n",
            "weighted avg       0.79      0.79      0.79        66\n",
            "\n",
            "Accurecy:  0.7878787878787878\n"
          ]
        }
      ]
    },
    {
      "cell_type": "markdown",
      "source": [
        "#Ada Boost Classifier"
      ],
      "metadata": {
        "id": "GIKLYn59CBOa"
      }
    },
    {
      "cell_type": "code",
      "source": [
        "from sklearn.ensemble import AdaBoostClassifier\n",
        "\n",
        "classifier = AdaBoostClassifier(n_estimators=54,random_state=0)\n",
        "classifier.fit(X_train, y_train)\n",
        "y_pred = classifier.predict(X_test)\n",
        "\n",
        "from sklearn.metrics import classification_report, confusion_matrix, accuracy_score\n",
        "print(confusion_matrix(y_test, y_pred))\n",
        "print(classification_report(y_test,y_pred))\n",
        "print(\"Accurecy: \",accuracy_score(y_test, y_pred))"
      ],
      "metadata": {
        "colab": {
          "base_uri": "https://localhost:8080/"
        },
        "id": "h715vBzElHrf",
        "outputId": "ffd4964b-4f9e-4baf-9ec6-d3bcedac045a"
      },
      "execution_count": 15,
      "outputs": [
        {
          "output_type": "stream",
          "name": "stdout",
          "text": [
            "[[35  4]\n",
            " [ 9 18]]\n",
            "              precision    recall  f1-score   support\n",
            "\n",
            "     Healthy       0.80      0.90      0.84        39\n",
            "    Tinnitus       0.82      0.67      0.73        27\n",
            "\n",
            "    accuracy                           0.80        66\n",
            "   macro avg       0.81      0.78      0.79        66\n",
            "weighted avg       0.80      0.80      0.80        66\n",
            "\n",
            "Accurecy:  0.803030303030303\n"
          ]
        }
      ]
    },
    {
      "cell_type": "markdown",
      "source": [
        "#XG"
      ],
      "metadata": {
        "id": "_kyM65PeHEE0"
      }
    },
    {
      "cell_type": "code",
      "source": [
        "\n",
        "\n",
        "import xgboost as xgb\n",
        "xgb_classifier = xgb.XGBClassifier(max_depth=3,random_state=0)\n",
        "xgb_classifier.fit(X_train,y_train)\n",
        "y_pred = xgb_classifier.predict(X_test)\n",
        "\n",
        "\n",
        "from sklearn.metrics import classification_report, confusion_matrix, accuracy_score\n",
        "print(confusion_matrix(y_test, y_pred))\n",
        "print(classification_report(y_test,y_pred))\n",
        "print(\"Accurecy: \",accuracy_score(y_test, y_pred))"
      ],
      "metadata": {
        "colab": {
          "base_uri": "https://localhost:8080/"
        },
        "id": "zblHyjxIHAL3",
        "outputId": "dc4c4660-4689-4668-d59d-ce15ec880234"
      },
      "execution_count": 16,
      "outputs": [
        {
          "output_type": "stream",
          "name": "stdout",
          "text": [
            "[[32  7]\n",
            " [ 9 18]]\n",
            "              precision    recall  f1-score   support\n",
            "\n",
            "     Healthy       0.78      0.82      0.80        39\n",
            "    Tinnitus       0.72      0.67      0.69        27\n",
            "\n",
            "    accuracy                           0.76        66\n",
            "   macro avg       0.75      0.74      0.75        66\n",
            "weighted avg       0.76      0.76      0.76        66\n",
            "\n",
            "Accurecy:  0.7575757575757576\n"
          ]
        }
      ]
    },
    {
      "cell_type": "markdown",
      "source": [
        "#KNN"
      ],
      "metadata": {
        "id": "BsAWWI2gGABa"
      }
    },
    {
      "cell_type": "code",
      "source": [
        "from sklearn.neighbors import KNeighborsClassifier\n",
        "KNN_class = KNeighborsClassifier(n_neighbors=164)\n",
        "KNN_class.fit(X_train, y_train)\n",
        "y_pred=KNN_class.predict(X_test)\n",
        "\n",
        "\n",
        "from sklearn.metrics import classification_report, confusion_matrix, accuracy_score\n",
        "print(confusion_matrix(y_test, y_pred))\n",
        "print(classification_report(y_test,y_pred))\n",
        "print(\"Accurecy: \",accuracy_score(y_test, y_pred))"
      ],
      "metadata": {
        "colab": {
          "base_uri": "https://localhost:8080/"
        },
        "id": "DZTLjKeOlHl3",
        "outputId": "39d636c5-fb40-4523-d9c1-44fb00bc452b"
      },
      "execution_count": 17,
      "outputs": [
        {
          "output_type": "stream",
          "name": "stdout",
          "text": [
            "[[39  0]\n",
            " [19  8]]\n",
            "              precision    recall  f1-score   support\n",
            "\n",
            "     Healthy       0.67      1.00      0.80        39\n",
            "    Tinnitus       1.00      0.30      0.46        27\n",
            "\n",
            "    accuracy                           0.71        66\n",
            "   macro avg       0.84      0.65      0.63        66\n",
            "weighted avg       0.81      0.71      0.66        66\n",
            "\n",
            "Accurecy:  0.7121212121212122\n"
          ]
        }
      ]
    },
    {
      "cell_type": "code",
      "source": [
        ""
      ],
      "metadata": {
        "id": "OSt-Zz-blHiQ"
      },
      "execution_count": 17,
      "outputs": []
    },
    {
      "cell_type": "markdown",
      "source": [
        "#With Synthetic Data"
      ],
      "metadata": {
        "id": "WcrjQKmJFZvO"
      }
    },
    {
      "cell_type": "markdown",
      "source": [
        "**GradientBoosting**"
      ],
      "metadata": {
        "id": "XHVUO9S9IJ8I"
      }
    },
    {
      "cell_type": "markdown",
      "source": [
        "NON RANDOM"
      ],
      "metadata": {
        "id": "G7bqdAamIRMX"
      }
    },
    {
      "cell_type": "code",
      "source": [
        "\n",
        "from numpy import mean\n",
        "from numpy import std\n",
        "from sklearn.datasets import make_classification\n",
        "from sklearn.model_selection import cross_val_score\n",
        "from sklearn.model_selection import RepeatedStratifiedKFold\n",
        "from sklearn.ensemble import GradientBoostingClassifier\n",
        "\n",
        "\n",
        "X, y = make_classification(random_state=0)\n",
        "\n",
        "model_5 = GradientBoostingClassifier(n_estimators=9,max_depth=3,random_state=0)\n",
        "\n",
        "cv = RepeatedStratifiedKFold(n_splits=10, n_repeats=3, random_state=0)\n",
        "\n",
        "n_scores = cross_val_score(model_5, X, y, scoring='accuracy', cv=cv)\n",
        "\n",
        "print('Mean Accuracy: %.3f (%.3f)' % (mean(n_scores), std(n_scores)))"
      ],
      "metadata": {
        "colab": {
          "base_uri": "https://localhost:8080/"
        },
        "id": "cMiKhBjpF74K",
        "outputId": "d167ed46-9542-4223-c8b8-0665f398f1e3"
      },
      "execution_count": 18,
      "outputs": [
        {
          "output_type": "stream",
          "name": "stdout",
          "text": [
            "Mean Accuracy: 0.883 (0.097)\n"
          ]
        }
      ]
    },
    {
      "cell_type": "markdown",
      "source": [
        "Random"
      ],
      "metadata": {
        "id": "2rDIZxYlIS_x"
      }
    },
    {
      "cell_type": "code",
      "source": [
        "\n",
        "from numpy import mean\n",
        "from numpy import std\n",
        "from sklearn.datasets import make_classification\n",
        "from sklearn.model_selection import cross_val_score\n",
        "from sklearn.model_selection import RepeatedStratifiedKFold\n",
        "from sklearn.ensemble import GradientBoostingClassifier\n",
        "\n",
        "X, y = make_classification(random_state=1)\n",
        "\n",
        "model_5 = GradientBoostingClassifier(n_estimators=9,max_depth=3,random_state=0)\n",
        "\n",
        "cv = RepeatedStratifiedKFold(n_splits=10, n_repeats=3, random_state=0)\n",
        "\n",
        "n_scores = cross_val_score(model_5, X, y, scoring='accuracy', cv=cv)\n",
        "\n",
        "print('Mean Accuracy: %.3f (%.3f)' % (mean(n_scores), std(n_scores)))"
      ],
      "metadata": {
        "colab": {
          "base_uri": "https://localhost:8080/"
        },
        "id": "rJx7EWIVIcHx",
        "outputId": "d9741d32-7829-4485-d146-e79c16d6da23"
      },
      "execution_count": 19,
      "outputs": [
        {
          "output_type": "stream",
          "name": "stdout",
          "text": [
            "Mean Accuracy: 0.953 (0.050)\n"
          ]
        }
      ]
    },
    {
      "cell_type": "code",
      "source": [
        ""
      ],
      "metadata": {
        "id": "VkPBF3pMIdhE"
      },
      "execution_count": 19,
      "outputs": []
    },
    {
      "cell_type": "markdown",
      "source": [
        "#USING SMOTE"
      ],
      "metadata": {
        "id": "7I6HqjWBMYzH"
      }
    },
    {
      "cell_type": "code",
      "source": [
        "X = dataset.iloc[:, 3:]\n",
        "y = dataset.iloc[:, 0]\n",
        "\n",
        "\n",
        "from sklearn.model_selection import train_test_split\n",
        "  \n",
        "X_train, X_test, y_train, y_test = train_test_split(X, y, test_size = 0.2, random_state = 0)\n",
        "  "
      ],
      "metadata": {
        "id": "JuTzJ2E6MbHn"
      },
      "execution_count": 20,
      "outputs": []
    },
    {
      "cell_type": "code",
      "source": [
        "from imblearn.over_sampling import SMOTE\n",
        "sm = SMOTE(random_state = 2)\n",
        "X_train_res, y_train_res = sm.fit_resample(X_train, y_train.ravel())"
      ],
      "metadata": {
        "id": "nrC9u3A_MriS"
      },
      "execution_count": 21,
      "outputs": []
    },
    {
      "cell_type": "code",
      "source": [
        "from sklearn.ensemble import GradientBoostingClassifier\n",
        "from sklearn.model_selection import RepeatedStratifiedKFold\n",
        "\n",
        "classifier = GradientBoostingClassifier(n_estimators=4,random_state=0)\n",
        "classifier.fit(X_train, y_train)\n",
        "y_pred = classifier.predict(X_test)\n",
        "\n",
        "from sklearn.metrics import classification_report, confusion_matrix, accuracy_score\n",
        "print(confusion_matrix(y_test, y_pred))\n",
        "print(classification_report(y_test,y_pred))\n",
        "print(\"Accurecy: \",accuracy_score(y_test, y_pred))"
      ],
      "metadata": {
        "colab": {
          "base_uri": "https://localhost:8080/"
        },
        "id": "AiHr2afNMtZr",
        "outputId": "2a8bbd41-a93f-4fe3-c3fc-a3d9108529f0"
      },
      "execution_count": 22,
      "outputs": [
        {
          "output_type": "stream",
          "name": "stdout",
          "text": [
            "[[31  8]\n",
            " [ 4 23]]\n",
            "              precision    recall  f1-score   support\n",
            "\n",
            "     Healthy       0.89      0.79      0.84        39\n",
            "    Tinnitus       0.74      0.85      0.79        27\n",
            "\n",
            "    accuracy                           0.82        66\n",
            "   macro avg       0.81      0.82      0.82        66\n",
            "weighted avg       0.83      0.82      0.82        66\n",
            "\n",
            "Accurecy:  0.8181818181818182\n"
          ]
        }
      ]
    },
    {
      "cell_type": "code",
      "source": [
        "from sklearn.ensemble import RandomForestClassifier\n",
        "classifier = RandomForestClassifier(n_estimators=18,max_depth=4,random_state=0)\n",
        "classifier.fit(X_train, y_train)\n",
        "y_pred=classifier.predict(X_test)\n",
        "\n",
        "\n",
        "from sklearn.metrics import classification_report, confusion_matrix, accuracy_score\n",
        "print(confusion_matrix(y_test, y_pred))\n",
        "print(classification_report(y_test,y_pred))\n",
        "print(\"Accurecy: \",accuracy_score(y_test, y_pred))"
      ],
      "metadata": {
        "colab": {
          "base_uri": "https://localhost:8080/"
        },
        "id": "56hO8N5mNQ_i",
        "outputId": "d4e1c1c5-c5e1-487d-e036-9a9c3622d3db"
      },
      "execution_count": 23,
      "outputs": [
        {
          "output_type": "stream",
          "name": "stdout",
          "text": [
            "[[31  8]\n",
            " [ 7 20]]\n",
            "              precision    recall  f1-score   support\n",
            "\n",
            "     Healthy       0.82      0.79      0.81        39\n",
            "    Tinnitus       0.71      0.74      0.73        27\n",
            "\n",
            "    accuracy                           0.77        66\n",
            "   macro avg       0.77      0.77      0.77        66\n",
            "weighted avg       0.77      0.77      0.77        66\n",
            "\n",
            "Accurecy:  0.7727272727272727\n"
          ]
        }
      ]
    },
    {
      "cell_type": "code",
      "source": [
        "from sklearn.ensemble import AdaBoostClassifier\n",
        "\n",
        "classifier = AdaBoostClassifier(n_estimators=54,random_state=0)\n",
        "classifier.fit(X_train, y_train)\n",
        "y_pred = classifier.predict(X_test)\n",
        "\n",
        "from sklearn.metrics import classification_report, confusion_matrix, accuracy_score\n",
        "print(confusion_matrix(y_test, y_pred))\n",
        "print(classification_report(y_test,y_pred))\n",
        "print(\"Accurecy: \",accuracy_score(y_test, y_pred))"
      ],
      "metadata": {
        "colab": {
          "base_uri": "https://localhost:8080/"
        },
        "id": "BG5nLMymNVzv",
        "outputId": "c46bc888-c16f-409f-e747-818a8d4a681f"
      },
      "execution_count": 24,
      "outputs": [
        {
          "output_type": "stream",
          "name": "stdout",
          "text": [
            "[[35  4]\n",
            " [ 9 18]]\n",
            "              precision    recall  f1-score   support\n",
            "\n",
            "     Healthy       0.80      0.90      0.84        39\n",
            "    Tinnitus       0.82      0.67      0.73        27\n",
            "\n",
            "    accuracy                           0.80        66\n",
            "   macro avg       0.81      0.78      0.79        66\n",
            "weighted avg       0.80      0.80      0.80        66\n",
            "\n",
            "Accurecy:  0.803030303030303\n"
          ]
        }
      ]
    }
  ]
}