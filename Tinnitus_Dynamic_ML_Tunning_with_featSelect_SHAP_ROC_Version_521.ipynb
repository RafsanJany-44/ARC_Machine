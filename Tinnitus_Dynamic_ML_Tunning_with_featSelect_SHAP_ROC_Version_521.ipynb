{
  "nbformat": 4,
  "nbformat_minor": 0,
  "metadata": {
    "colab": {
      "name": "Tinnitus_Dynamic_ML_Tunning_with_featSelect_SHAP_ROC_Version_521.ipynb",
      "provenance": [],
      "include_colab_link": true
    },
    "kernelspec": {
      "name": "python3",
      "display_name": "Python 3"
    },
    "language_info": {
      "name": "python"
    }
  },
  "cells": [
    {
      "cell_type": "markdown",
      "metadata": {
        "id": "view-in-github",
        "colab_type": "text"
      },
      "source": [
        "<a href=\"https://colab.research.google.com/github/RafsanJany-44/ARC_Machine/blob/main/Tinnitus_Dynamic_ML_Tunning_with_featSelect_SHAP_ROC_Version_521.ipynb\" target=\"_parent\"><img src=\"https://colab.research.google.com/assets/colab-badge.svg\" alt=\"Open In Colab\"/></a>"
      ]
    },
    {
      "cell_type": "code",
      "execution_count": 2,
      "metadata": {
        "id": "zdFOS9nFlpsU",
        "colab": {
          "base_uri": "https://localhost:8080/"
        },
        "outputId": "37d98d9c-2fa4-4aa5-daea-f51de921970b"
      },
      "outputs": [
        {
          "output_type": "stream",
          "name": "stdout",
          "text": [
            "Mounted at /content/drive\n"
          ]
        }
      ],
      "source": [
        "from google.colab import drive\n",
        "drive.mount('/content/drive')"
      ]
    },
    {
      "cell_type": "code",
      "source": [
        "import numpy as np\n",
        "import pandas as pd\n",
        "#dataset=pd.read_csv(\"/content/drive/MyDrive/SNU Research/Tinnitus/Tinnitus_ALR&EEG_2022.08.18_final.csv\")\n",
        "\n",
        "dataset=pd.read_csv(\"/content/drive/MyDrive/Iqram Sir/Latest/Tinnitus_ALR&EEG_2022.08.18_final.csv\")\n",
        "\n",
        "classes = np.array(sorted(list(set(dataset.iloc[:, 1]))))"
      ],
      "metadata": {
        "id": "M0AmIUwSmLfj"
      },
      "execution_count": 3,
      "outputs": []
    },
    {
      "cell_type": "code",
      "source": [
        "dataset.head()"
      ],
      "metadata": {
        "colab": {
          "base_uri": "https://localhost:8080/",
          "height": 299
        },
        "id": "4YN_C8yxm1ho",
        "outputId": "52ddaff3-9aa2-4bc8-9bcd-7e9d85a1fba3"
      },
      "execution_count": 4,
      "outputs": [
        {
          "output_type": "execute_result",
          "data": {
            "text/plain": [
              "             Subjects SubjectTypeClass TestType  n0_gap_peak_ms_20ms  \\\n",
              "0      '01_AJW_30_02'          Control     Test                  101   \n",
              "1      '01_CGO_63_01'          Control     Test                  132   \n",
              "2      '01_KBJ_45_01'          Control     Test                  107   \n",
              "3      '02_KCH_26_02'          Control     Test                   77   \n",
              "4      '03_HMK_49_01'          Control     Test                  153   \n",
              "\n",
              "   p1_gap_peak_ms_20ms  n1_gap_peak_ms_20ms  p2_gap_peak_ms_20ms  \\\n",
              "0                  147                  214                  263   \n",
              "1                  155                  217                  301   \n",
              "2                  160                  221                  305   \n",
              "3                  200                  233                  268   \n",
              "4                  128                  224                  264   \n",
              "\n",
              "   n2_gap_peak_ms_20ms  p3_gap_peak_ms_20ms  n0_nogap_peak_ms_20ms  ...  \\\n",
              "0                  366                  105                    149  ...   \n",
              "1                  383                  131                    175  ...   \n",
              "2                  396                  128                    192  ...   \n",
              "3                  379                  166                    120  ...   \n",
              "4                  337                  147                    176  ...   \n",
              "\n",
              "   MeanP_Gamma_50ms  TotalEEGPower_50ms  RelativeAlpha_50ms  \\\n",
              "0          0.000005            0.000064              0.1310   \n",
              "1          0.000001            0.000046              0.1990   \n",
              "2          0.000144            0.000692              0.1130   \n",
              "3          0.000017            0.001010              0.0702   \n",
              "4          0.000002            0.000088              0.1290   \n",
              "\n",
              "   RelativeBeta_50ms  RelativeTheta_50ms  RelativeDelta_50ms  DTR_50ms  \\\n",
              "0             0.1700               0.396               0.303     0.764   \n",
              "1             0.1340               0.483               0.184     0.381   \n",
              "2             0.3320               0.196               0.358     1.820   \n",
              "3             0.0288               0.308               0.593     1.930   \n",
              "4             0.0760               0.425               0.370     0.870   \n",
              "\n",
              "   DTABR_50ms  ATR_50ms  ABR_50ms  \n",
              "0        2.32     0.332     0.775  \n",
              "1        2.01     0.412     1.490  \n",
              "2        1.25     0.576     0.340  \n",
              "3        9.10     0.228     2.440  \n",
              "4        3.88     0.303     1.700  \n",
              "\n",
              "[5 rows x 275 columns]"
            ],
            "text/html": [
              "\n",
              "  <div id=\"df-0bb6d569-f73c-4f86-ad60-15f10b2ad8e9\">\n",
              "    <div class=\"colab-df-container\">\n",
              "      <div>\n",
              "<style scoped>\n",
              "    .dataframe tbody tr th:only-of-type {\n",
              "        vertical-align: middle;\n",
              "    }\n",
              "\n",
              "    .dataframe tbody tr th {\n",
              "        vertical-align: top;\n",
              "    }\n",
              "\n",
              "    .dataframe thead th {\n",
              "        text-align: right;\n",
              "    }\n",
              "</style>\n",
              "<table border=\"1\" class=\"dataframe\">\n",
              "  <thead>\n",
              "    <tr style=\"text-align: right;\">\n",
              "      <th></th>\n",
              "      <th>Subjects</th>\n",
              "      <th>SubjectTypeClass</th>\n",
              "      <th>TestType</th>\n",
              "      <th>n0_gap_peak_ms_20ms</th>\n",
              "      <th>p1_gap_peak_ms_20ms</th>\n",
              "      <th>n1_gap_peak_ms_20ms</th>\n",
              "      <th>p2_gap_peak_ms_20ms</th>\n",
              "      <th>n2_gap_peak_ms_20ms</th>\n",
              "      <th>p3_gap_peak_ms_20ms</th>\n",
              "      <th>n0_nogap_peak_ms_20ms</th>\n",
              "      <th>...</th>\n",
              "      <th>MeanP_Gamma_50ms</th>\n",
              "      <th>TotalEEGPower_50ms</th>\n",
              "      <th>RelativeAlpha_50ms</th>\n",
              "      <th>RelativeBeta_50ms</th>\n",
              "      <th>RelativeTheta_50ms</th>\n",
              "      <th>RelativeDelta_50ms</th>\n",
              "      <th>DTR_50ms</th>\n",
              "      <th>DTABR_50ms</th>\n",
              "      <th>ATR_50ms</th>\n",
              "      <th>ABR_50ms</th>\n",
              "    </tr>\n",
              "  </thead>\n",
              "  <tbody>\n",
              "    <tr>\n",
              "      <th>0</th>\n",
              "      <td>'01_AJW_30_02'</td>\n",
              "      <td>Control</td>\n",
              "      <td>Test</td>\n",
              "      <td>101</td>\n",
              "      <td>147</td>\n",
              "      <td>214</td>\n",
              "      <td>263</td>\n",
              "      <td>366</td>\n",
              "      <td>105</td>\n",
              "      <td>149</td>\n",
              "      <td>...</td>\n",
              "      <td>0.000005</td>\n",
              "      <td>0.000064</td>\n",
              "      <td>0.1310</td>\n",
              "      <td>0.1700</td>\n",
              "      <td>0.396</td>\n",
              "      <td>0.303</td>\n",
              "      <td>0.764</td>\n",
              "      <td>2.32</td>\n",
              "      <td>0.332</td>\n",
              "      <td>0.775</td>\n",
              "    </tr>\n",
              "    <tr>\n",
              "      <th>1</th>\n",
              "      <td>'01_CGO_63_01'</td>\n",
              "      <td>Control</td>\n",
              "      <td>Test</td>\n",
              "      <td>132</td>\n",
              "      <td>155</td>\n",
              "      <td>217</td>\n",
              "      <td>301</td>\n",
              "      <td>383</td>\n",
              "      <td>131</td>\n",
              "      <td>175</td>\n",
              "      <td>...</td>\n",
              "      <td>0.000001</td>\n",
              "      <td>0.000046</td>\n",
              "      <td>0.1990</td>\n",
              "      <td>0.1340</td>\n",
              "      <td>0.483</td>\n",
              "      <td>0.184</td>\n",
              "      <td>0.381</td>\n",
              "      <td>2.01</td>\n",
              "      <td>0.412</td>\n",
              "      <td>1.490</td>\n",
              "    </tr>\n",
              "    <tr>\n",
              "      <th>2</th>\n",
              "      <td>'01_KBJ_45_01'</td>\n",
              "      <td>Control</td>\n",
              "      <td>Test</td>\n",
              "      <td>107</td>\n",
              "      <td>160</td>\n",
              "      <td>221</td>\n",
              "      <td>305</td>\n",
              "      <td>396</td>\n",
              "      <td>128</td>\n",
              "      <td>192</td>\n",
              "      <td>...</td>\n",
              "      <td>0.000144</td>\n",
              "      <td>0.000692</td>\n",
              "      <td>0.1130</td>\n",
              "      <td>0.3320</td>\n",
              "      <td>0.196</td>\n",
              "      <td>0.358</td>\n",
              "      <td>1.820</td>\n",
              "      <td>1.25</td>\n",
              "      <td>0.576</td>\n",
              "      <td>0.340</td>\n",
              "    </tr>\n",
              "    <tr>\n",
              "      <th>3</th>\n",
              "      <td>'02_KCH_26_02'</td>\n",
              "      <td>Control</td>\n",
              "      <td>Test</td>\n",
              "      <td>77</td>\n",
              "      <td>200</td>\n",
              "      <td>233</td>\n",
              "      <td>268</td>\n",
              "      <td>379</td>\n",
              "      <td>166</td>\n",
              "      <td>120</td>\n",
              "      <td>...</td>\n",
              "      <td>0.000017</td>\n",
              "      <td>0.001010</td>\n",
              "      <td>0.0702</td>\n",
              "      <td>0.0288</td>\n",
              "      <td>0.308</td>\n",
              "      <td>0.593</td>\n",
              "      <td>1.930</td>\n",
              "      <td>9.10</td>\n",
              "      <td>0.228</td>\n",
              "      <td>2.440</td>\n",
              "    </tr>\n",
              "    <tr>\n",
              "      <th>4</th>\n",
              "      <td>'03_HMK_49_01'</td>\n",
              "      <td>Control</td>\n",
              "      <td>Test</td>\n",
              "      <td>153</td>\n",
              "      <td>128</td>\n",
              "      <td>224</td>\n",
              "      <td>264</td>\n",
              "      <td>337</td>\n",
              "      <td>147</td>\n",
              "      <td>176</td>\n",
              "      <td>...</td>\n",
              "      <td>0.000002</td>\n",
              "      <td>0.000088</td>\n",
              "      <td>0.1290</td>\n",
              "      <td>0.0760</td>\n",
              "      <td>0.425</td>\n",
              "      <td>0.370</td>\n",
              "      <td>0.870</td>\n",
              "      <td>3.88</td>\n",
              "      <td>0.303</td>\n",
              "      <td>1.700</td>\n",
              "    </tr>\n",
              "  </tbody>\n",
              "</table>\n",
              "<p>5 rows × 275 columns</p>\n",
              "</div>\n",
              "      <button class=\"colab-df-convert\" onclick=\"convertToInteractive('df-0bb6d569-f73c-4f86-ad60-15f10b2ad8e9')\"\n",
              "              title=\"Convert this dataframe to an interactive table.\"\n",
              "              style=\"display:none;\">\n",
              "        \n",
              "  <svg xmlns=\"http://www.w3.org/2000/svg\" height=\"24px\"viewBox=\"0 0 24 24\"\n",
              "       width=\"24px\">\n",
              "    <path d=\"M0 0h24v24H0V0z\" fill=\"none\"/>\n",
              "    <path d=\"M18.56 5.44l.94 2.06.94-2.06 2.06-.94-2.06-.94-.94-2.06-.94 2.06-2.06.94zm-11 1L8.5 8.5l.94-2.06 2.06-.94-2.06-.94L8.5 2.5l-.94 2.06-2.06.94zm10 10l.94 2.06.94-2.06 2.06-.94-2.06-.94-.94-2.06-.94 2.06-2.06.94z\"/><path d=\"M17.41 7.96l-1.37-1.37c-.4-.4-.92-.59-1.43-.59-.52 0-1.04.2-1.43.59L10.3 9.45l-7.72 7.72c-.78.78-.78 2.05 0 2.83L4 21.41c.39.39.9.59 1.41.59.51 0 1.02-.2 1.41-.59l7.78-7.78 2.81-2.81c.8-.78.8-2.07 0-2.86zM5.41 20L4 18.59l7.72-7.72 1.47 1.35L5.41 20z\"/>\n",
              "  </svg>\n",
              "      </button>\n",
              "      \n",
              "  <style>\n",
              "    .colab-df-container {\n",
              "      display:flex;\n",
              "      flex-wrap:wrap;\n",
              "      gap: 12px;\n",
              "    }\n",
              "\n",
              "    .colab-df-convert {\n",
              "      background-color: #E8F0FE;\n",
              "      border: none;\n",
              "      border-radius: 50%;\n",
              "      cursor: pointer;\n",
              "      display: none;\n",
              "      fill: #1967D2;\n",
              "      height: 32px;\n",
              "      padding: 0 0 0 0;\n",
              "      width: 32px;\n",
              "    }\n",
              "\n",
              "    .colab-df-convert:hover {\n",
              "      background-color: #E2EBFA;\n",
              "      box-shadow: 0px 1px 2px rgba(60, 64, 67, 0.3), 0px 1px 3px 1px rgba(60, 64, 67, 0.15);\n",
              "      fill: #174EA6;\n",
              "    }\n",
              "\n",
              "    [theme=dark] .colab-df-convert {\n",
              "      background-color: #3B4455;\n",
              "      fill: #D2E3FC;\n",
              "    }\n",
              "\n",
              "    [theme=dark] .colab-df-convert:hover {\n",
              "      background-color: #434B5C;\n",
              "      box-shadow: 0px 1px 3px 1px rgba(0, 0, 0, 0.15);\n",
              "      filter: drop-shadow(0px 1px 2px rgba(0, 0, 0, 0.3));\n",
              "      fill: #FFFFFF;\n",
              "    }\n",
              "  </style>\n",
              "\n",
              "      <script>\n",
              "        const buttonEl =\n",
              "          document.querySelector('#df-0bb6d569-f73c-4f86-ad60-15f10b2ad8e9 button.colab-df-convert');\n",
              "        buttonEl.style.display =\n",
              "          google.colab.kernel.accessAllowed ? 'block' : 'none';\n",
              "\n",
              "        async function convertToInteractive(key) {\n",
              "          const element = document.querySelector('#df-0bb6d569-f73c-4f86-ad60-15f10b2ad8e9');\n",
              "          const dataTable =\n",
              "            await google.colab.kernel.invokeFunction('convertToInteractive',\n",
              "                                                     [key], {});\n",
              "          if (!dataTable) return;\n",
              "\n",
              "          const docLinkHtml = 'Like what you see? Visit the ' +\n",
              "            '<a target=\"_blank\" href=https://colab.research.google.com/notebooks/data_table.ipynb>data table notebook</a>'\n",
              "            + ' to learn more about interactive tables.';\n",
              "          element.innerHTML = '';\n",
              "          dataTable['output_type'] = 'display_data';\n",
              "          await google.colab.output.renderOutput(dataTable, element);\n",
              "          const docLink = document.createElement('div');\n",
              "          docLink.innerHTML = docLinkHtml;\n",
              "          element.appendChild(docLink);\n",
              "        }\n",
              "      </script>\n",
              "    </div>\n",
              "  </div>\n",
              "  "
            ]
          },
          "metadata": {},
          "execution_count": 4
        }
      ]
    },
    {
      "cell_type": "code",
      "source": [
        "set(list(dataset['SubjectTypeClass']))"
      ],
      "metadata": {
        "colab": {
          "base_uri": "https://localhost:8080/"
        },
        "id": "VS4iUbnyYaDH",
        "outputId": "494e52b0-29af-4697-9053-0df25e106262"
      },
      "execution_count": 5,
      "outputs": [
        {
          "output_type": "execute_result",
          "data": {
            "text/plain": [
              "{'Control', 'Patient'}"
            ]
          },
          "metadata": {},
          "execution_count": 5
        }
      ]
    },
    {
      "cell_type": "code",
      "source": [
        "\n",
        "from sklearn.preprocessing import LabelEncoder\n",
        "encoder=LabelEncoder()\n",
        "dataset.iloc[:, 1]=encoder.fit_transform(dataset.iloc[:, 1])"
      ],
      "metadata": {
        "id": "Ljyj9yuIf-tX"
      },
      "execution_count": 6,
      "outputs": []
    },
    {
      "cell_type": "code",
      "source": [
        "set(list(dataset['SubjectTypeClass']))"
      ],
      "metadata": {
        "colab": {
          "base_uri": "https://localhost:8080/"
        },
        "id": "42si00q3SLh5",
        "outputId": "89e5a6d9-f6f5-445c-de51-66a6d4f2c3f7"
      },
      "execution_count": 7,
      "outputs": [
        {
          "output_type": "execute_result",
          "data": {
            "text/plain": [
              "{0, 1}"
            ]
          },
          "metadata": {},
          "execution_count": 7
        }
      ]
    },
    {
      "cell_type": "markdown",
      "source": [
        "#Feature Selection (User Defined with Index Range)"
      ],
      "metadata": {
        "id": "FBLG5DCEWqcm"
      }
    },
    {
      "cell_type": "markdown",
      "source": [
        "\n",
        "*   Index- [245]  to  [274] -> EEG Features\n",
        "*   Index- [4]    to  [243] -> Normal Features\n",
        "\n"
      ],
      "metadata": {
        "id": "xHRiRL0dY_zS"
      }
    },
    {
      "cell_type": "code",
      "source": [
        "'''\n",
        "list_of_feat=[]\n",
        "norm_start=int(input(\"Normal Features Start Index:\"))\n",
        "norm_end=int(input(\"Normal Features End Index:\"))\n",
        "eeg_start=int(input(\"EEG Features Start Index:\"))\n",
        "eeg_end=int(input(\"EEG Features End Index:\"))\n",
        "\n",
        "\n",
        "\n",
        "list_of_feat=list(dataset.iloc[:0,norm_start:norm_end])+list(dataset.iloc[:0,eeg_start:eeg_end])\n",
        "'''"
      ],
      "metadata": {
        "id": "wYwH4fT-WqDN",
        "colab": {
          "base_uri": "https://localhost:8080/",
          "height": 0
        },
        "outputId": "27b2322e-7407-4557-a4fd-1e5bced32207"
      },
      "execution_count": 8,
      "outputs": [
        {
          "output_type": "execute_result",
          "data": {
            "text/plain": [
              "'\\nlist_of_feat=[]\\nnorm_start=int(input(\"Normal Features Start Index:\"))\\nnorm_end=int(input(\"Normal Features End Index:\"))\\neeg_start=int(input(\"EEG Features Start Index:\"))\\neeg_end=int(input(\"EEG Features End Index:\"))\\n\\n\\n\\nlist_of_feat=list(dataset.iloc[:0,norm_start:norm_end])+list(dataset.iloc[:0,eeg_start:eeg_end])\\n'"
            ],
            "application/vnd.google.colaboratory.intrinsic+json": {
              "type": "string"
            }
          },
          "metadata": {},
          "execution_count": 8
        }
      ]
    },
    {
      "cell_type": "markdown",
      "source": [
        "#Feature Selection (User Defined with Individual Feature)"
      ],
      "metadata": {
        "id": "lEdeidn9cEd0"
      }
    },
    {
      "cell_type": "markdown",
      "source": [
        "**Please Input 'Subject' colunm name first**"
      ],
      "metadata": {
        "id": "KLkoTSe3fzZ8"
      }
    },
    {
      "cell_type": "code",
      "source": [
        "'''list_of_feat=[]\n",
        "num=int(input(\"Input number of features: \"))\n",
        "\n",
        "for i in range(num):\n",
        "  print(i+1,\".\")\n",
        "  list_of_feat.append(input(\"Feature Name: \"))'''\n"
      ],
      "metadata": {
        "id": "1iykvLX8cHku",
        "colab": {
          "base_uri": "https://localhost:8080/",
          "height": 0
        },
        "outputId": "54277bb2-0584-40ce-c92b-e8646df9beb0"
      },
      "execution_count": 9,
      "outputs": [
        {
          "output_type": "execute_result",
          "data": {
            "text/plain": [
              "'list_of_feat=[]\\nnum=int(input(\"Input number of features: \"))\\n\\nfor i in range(num):\\n  print(i+1,\".\")\\n  list_of_feat.append(input(\"Feature Name: \"))'"
            ],
            "application/vnd.google.colaboratory.intrinsic+json": {
              "type": "string"
            }
          },
          "metadata": {},
          "execution_count": 9
        }
      ]
    },
    {
      "cell_type": "markdown",
      "source": [
        "#Feature Selection (Model Free)"
      ],
      "metadata": {
        "id": "UaMqQtc8z1dc"
      }
    },
    {
      "cell_type": "markdown",
      "source": [
        "<font color='red'> Warning: Run only one Type at a time</font>"
      ],
      "metadata": {
        "id": "--xngoAuTfUi"
      }
    },
    {
      "cell_type": "markdown",
      "source": [
        "**Type-1**"
      ],
      "metadata": {
        "id": "AjBrNIkMTJaA"
      }
    },
    {
      "cell_type": "code",
      "source": [
        "'''from sklearn.feature_selection import SelectKBest\n",
        "bestfeatures_1 = SelectKBest(k=10)\n",
        "fit = bestfeatures_1.fit(X_,y_)\n",
        "dfscores = pd.DataFrame(fit.scores_)\n",
        "dfcolumns = pd.DataFrame(X_.columns)\n",
        "featureScores = pd.concat([dfcolumns,dfscores],axis=1)\n",
        "featureScores.columns = ['Specs','Score']'''\n"
      ],
      "metadata": {
        "id": "PAG90MeI0S7O",
        "colab": {
          "base_uri": "https://localhost:8080/",
          "height": 0
        },
        "outputId": "243306d1-2d59-439e-e320-37d7b0861271"
      },
      "execution_count": 10,
      "outputs": [
        {
          "output_type": "execute_result",
          "data": {
            "text/plain": [
              "\"from sklearn.feature_selection import SelectKBest\\nbestfeatures_1 = SelectKBest(k=10)\\nfit = bestfeatures_1.fit(X_,y_)\\ndfscores = pd.DataFrame(fit.scores_)\\ndfcolumns = pd.DataFrame(X_.columns)\\nfeatureScores = pd.concat([dfcolumns,dfscores],axis=1)\\nfeatureScores.columns = ['Specs','Score']\""
            ],
            "application/vnd.google.colaboratory.intrinsic+json": {
              "type": "string"
            }
          },
          "metadata": {},
          "execution_count": 10
        }
      ]
    },
    {
      "cell_type": "markdown",
      "source": [
        "**Type-2**"
      ],
      "metadata": {
        "id": "Ftetc2yrTV6F"
      }
    },
    {
      "cell_type": "code",
      "source": [
        "'''\n",
        "from sklearn.feature_selection import SelectKBest,f_classif\n",
        "bestfeatures_2=SelectKBest(f_classif, k=10)\n",
        "fit = bestfeatures_f2fit(X_,y_)\n",
        "dfscores = pd.DataFrame(fit.scores_)\n",
        "dfcolumns = pd.DataFrame(X_.columns)\n",
        "featureScores = pd.concat([dfcolumns,dfscores],axis=1)\n",
        "featureScores.columns = ['Specs','Score']\n",
        "'''"
      ],
      "metadata": {
        "id": "2u0_C3phPo4J",
        "colab": {
          "base_uri": "https://localhost:8080/",
          "height": 0
        },
        "outputId": "881a38de-457e-407f-d1eb-f71351966391"
      },
      "execution_count": 11,
      "outputs": [
        {
          "output_type": "execute_result",
          "data": {
            "text/plain": [
              "\"\\nfrom sklearn.feature_selection import SelectKBest,f_classif\\nbestfeatures_2=SelectKBest(f_classif, k=10)\\nfit = bestfeatures_f2fit(X_,y_)\\ndfscores = pd.DataFrame(fit.scores_)\\ndfcolumns = pd.DataFrame(X_.columns)\\nfeatureScores = pd.concat([dfcolumns,dfscores],axis=1)\\nfeatureScores.columns = ['Specs','Score']\\n\""
            ],
            "application/vnd.google.colaboratory.intrinsic+json": {
              "type": "string"
            }
          },
          "metadata": {},
          "execution_count": 11
        }
      ]
    },
    {
      "cell_type": "markdown",
      "source": [
        "**Type-3**"
      ],
      "metadata": {
        "id": "ftYkiPhdTYrB"
      }
    },
    {
      "cell_type": "code",
      "source": [
        "'''\n",
        "from sklearn.feature_selection import SelectFpr, f_classif\n",
        "\n",
        "bestfeatures_3=SelectFpr(f_classif, alpha=0.1)\n",
        "fit = bestfeatures_3.fit(X_,y_)\n",
        "dfscores = pd.DataFrame(fit.scores_)\n",
        "dfcolumns = pd.DataFrame(X_.columns)\n",
        "featureScores = pd.concat([dfcolumns,dfscores],axis=1)\n",
        "featureScores.columns = ['Specs','Score']\n",
        "'''"
      ],
      "metadata": {
        "id": "UCT592TwR7VO",
        "colab": {
          "base_uri": "https://localhost:8080/",
          "height": 0
        },
        "outputId": "17590d43-ad81-4313-c5bd-f7448c57d6b5"
      },
      "execution_count": 12,
      "outputs": [
        {
          "output_type": "execute_result",
          "data": {
            "text/plain": [
              "\"\\nfrom sklearn.feature_selection import SelectFpr, f_classif\\n\\nbestfeatures_3=SelectFpr(f_classif, alpha=0.1)\\nfit = bestfeatures_3.fit(X_,y_)\\ndfscores = pd.DataFrame(fit.scores_)\\ndfcolumns = pd.DataFrame(X_.columns)\\nfeatureScores = pd.concat([dfcolumns,dfscores],axis=1)\\nfeatureScores.columns = ['Specs','Score']\\n\""
            ],
            "application/vnd.google.colaboratory.intrinsic+json": {
              "type": "string"
            }
          },
          "metadata": {},
          "execution_count": 12
        }
      ]
    },
    {
      "cell_type": "markdown",
      "source": [
        "<font color='blue' size=6><b>Input</b></font>"
      ],
      "metadata": {
        "id": "eTc57btrrTet"
      }
    },
    {
      "cell_type": "code",
      "source": [
        "'''number_of_feat=int(input(\"Number Of Best Features: \"))'''"
      ],
      "metadata": {
        "colab": {
          "base_uri": "https://localhost:8080/",
          "height": 0
        },
        "id": "v1iZQUOsqpNt",
        "outputId": "81bbd93a-b992-499e-9f31-0c2e6463cf1e"
      },
      "execution_count": 13,
      "outputs": [
        {
          "output_type": "execute_result",
          "data": {
            "text/plain": [
              "'number_of_feat=int(input(\"Number Of Best Features: \"))'"
            ],
            "application/vnd.google.colaboratory.intrinsic+json": {
              "type": "string"
            }
          },
          "metadata": {},
          "execution_count": 13
        }
      ]
    },
    {
      "cell_type": "code",
      "source": [
        "'''imp=featureScores.nlargest(number_of_feat,'Score')\n",
        "print(imp)'''"
      ],
      "metadata": {
        "colab": {
          "base_uri": "https://localhost:8080/",
          "height": 0
        },
        "id": "GUQOldT_0DcT",
        "outputId": "81e4ee26-f45b-4bb4-d990-a93b781dbb01"
      },
      "execution_count": 14,
      "outputs": [
        {
          "output_type": "execute_result",
          "data": {
            "text/plain": [
              "\"imp=featureScores.nlargest(number_of_feat,'Score')\\nprint(imp)\""
            ],
            "application/vnd.google.colaboratory.intrinsic+json": {
              "type": "string"
            }
          },
          "metadata": {},
          "execution_count": 14
        }
      ]
    },
    {
      "cell_type": "code",
      "source": [
        "'''\n",
        "list_of_feat=[]\n",
        "\n",
        "for i in range(number_of_feat):\n",
        "  list_of_feat.append(imp.iloc[:,0:1].values[i][0])\n",
        "  '''"
      ],
      "metadata": {
        "id": "znUOWCRHqwwj",
        "colab": {
          "base_uri": "https://localhost:8080/",
          "height": 0
        },
        "outputId": "77c3bc13-0e8b-461c-c5eb-cf1b3859f2e7"
      },
      "execution_count": 15,
      "outputs": [
        {
          "output_type": "execute_result",
          "data": {
            "text/plain": [
              "'\\nlist_of_feat=[]\\n\\nfor i in range(number_of_feat):\\n  list_of_feat.append(imp.iloc[:,0:1].values[i][0])\\n  '"
            ],
            "application/vnd.google.colaboratory.intrinsic+json": {
              "type": "string"
            }
          },
          "metadata": {},
          "execution_count": 15
        }
      ]
    },
    {
      "cell_type": "markdown",
      "source": [
        "#Feature Selection (Model Based)"
      ],
      "metadata": {
        "id": "TwYIOctDZBnz"
      }
    },
    {
      "cell_type": "markdown",
      "source": [
        "<font color='blue' size=6><b>Input</b></font>"
      ],
      "metadata": {
        "id": "3rYCsZtoZcAE"
      }
    },
    {
      "cell_type": "code",
      "source": [
        "'''number_of_feat=int(input(\"Number Of Best Features: \"))'''"
      ],
      "metadata": {
        "id": "O9dg-jRSZc4z",
        "colab": {
          "base_uri": "https://localhost:8080/",
          "height": 0
        },
        "outputId": "c3c13f7d-5c0d-4db5-f8a0-70f1316b2e12"
      },
      "execution_count": 16,
      "outputs": [
        {
          "output_type": "execute_result",
          "data": {
            "text/plain": [
              "'number_of_feat=int(input(\"Number Of Best Features: \"))'"
            ],
            "application/vnd.google.colaboratory.intrinsic+json": {
              "type": "string"
            }
          },
          "metadata": {},
          "execution_count": 16
        }
      ]
    },
    {
      "cell_type": "code",
      "source": [
        "'''from sklearn.feature_selection import SequentialFeatureSelector\n",
        "from sklearn.neighbors import KNeighborsClassifier\n",
        "knn = KNeighborsClassifier(n_neighbors=3)\n",
        "sfs = SequentialFeatureSelector(knn, n_features_to_select=number_of_feat)\n",
        "sfs.fit(X_, y_)\n",
        "list_of_feat=[]\n",
        "list_of_feat=list(sfs.get_feature_names_out(list(dataset.iloc[:0,4:])))'''"
      ],
      "metadata": {
        "id": "Bes4X8B7ZIf5",
        "colab": {
          "base_uri": "https://localhost:8080/",
          "height": 0
        },
        "outputId": "3fa8a91f-006b-48f9-c94f-2de012a03d1c"
      },
      "execution_count": 17,
      "outputs": [
        {
          "output_type": "execute_result",
          "data": {
            "text/plain": [
              "'from sklearn.feature_selection import SequentialFeatureSelector\\nfrom sklearn.neighbors import KNeighborsClassifier\\nknn = KNeighborsClassifier(n_neighbors=3)\\nsfs = SequentialFeatureSelector(knn, n_features_to_select=number_of_feat)\\nsfs.fit(X_, y_)\\nlist_of_feat=[]\\nlist_of_feat=list(sfs.get_feature_names_out(list(dataset.iloc[:0,4:])))'"
            ],
            "application/vnd.google.colaboratory.intrinsic+json": {
              "type": "string"
            }
          },
          "metadata": {},
          "execution_count": 17
        }
      ]
    },
    {
      "cell_type": "markdown",
      "source": [
        "#Data Spliting"
      ],
      "metadata": {
        "id": "C0Akgb_na7NU"
      }
    },
    {
      "cell_type": "markdown",
      "source": [
        "You can remove it. I added for not to input all the features for every runtime"
      ],
      "metadata": {
        "id": "vipcBMuojeUs"
      }
    },
    {
      "cell_type": "code",
      "source": [
        "list_of_feat=[\"Subjects\",\n",
        "              \"p3_gap_peak_amp_20ms\",\n",
        "    \"p3_gap_peak_amp_50ms\",\n",
        "    \"p1_gap_peak_amp_20ms\",\n",
        "    \"p1_gap_peak_amp_50ms\",\n",
        "    \"gap_AUC_n1p2_R_20ms\",\n",
        "    \"gap_AUC_n1p2_R_50ms\",\n",
        "    \"n1p3_interval_nogap_20ms\",\n",
        "    \"n1p3_interval_nogap_50ms\",\n",
        "    \"n2_gap_peak_amp_20ms\",\n",
        "    \"n2_gap_peak_amp_50ms\",\n",
        "    \"p2n2_gap_nogap_diff_20ms\",\n",
        "    \"p2n2_gap_nogap_diff_50ms\",\n",
        "    \"gap_AUC_n1p2_L_20ms\",\n",
        "    \"gap_AUC_n1p2_L_50ms\",\n",
        "    \"gap_AUC_p1n1_R_20ms\",\n",
        "    \"gap_AUC_p1n1_R_50ms\",\n",
        "    \"gap_AUC_n1p2n2_20ms\",\n",
        "    \"gap_AUC_n1p2n2_50ms\",\n",
        "    \"n2_nogap_peak_ms_20ms\",\n",
        "    \"n2_nogap_peak_ms_50ms\",\n",
        "    \"n1p2_gap_no_gap_ratio_20ms\",\n",
        "    \"n1p2_gap_no_gap_ratio_50ms\",\n",
        "    \"PeakF_Theta_20ms\",\n",
        "    \"PeakF_Theta_50ms\",\n",
        "    \"SpectralEdge_Delta_20ms\",\n",
        "    \"SpectralEdge_Delta_50ms\",\n",
        "    \"RelativeAlpha_20ms\",\n",
        "    \"RelativeAlpha_50ms\",\n",
        "    \"DTABR_20ms\",\n",
        "    \"DTABR_50ms\"]\n",
        "\n",
        "print(len(list_of_feat))"
      ],
      "metadata": {
        "colab": {
          "base_uri": "https://localhost:8080/"
        },
        "id": "whUD2j-HgAfg",
        "outputId": "c36c23dd-e915-430c-ad15-ee8ba1f71110"
      },
      "execution_count": 18,
      "outputs": [
        {
          "output_type": "stream",
          "name": "stdout",
          "text": [
            "31\n"
          ]
        }
      ]
    },
    {
      "cell_type": "code",
      "source": [
        "print(list_of_feat)"
      ],
      "metadata": {
        "colab": {
          "base_uri": "https://localhost:8080/"
        },
        "id": "z21RHPOcZQgP",
        "outputId": "23f0302d-cf96-4e3b-92aa-f693fda91bf6"
      },
      "execution_count": 19,
      "outputs": [
        {
          "output_type": "stream",
          "name": "stdout",
          "text": [
            "['Subjects', 'p3_gap_peak_amp_20ms', 'p3_gap_peak_amp_50ms', 'p1_gap_peak_amp_20ms', 'p1_gap_peak_amp_50ms', 'gap_AUC_n1p2_R_20ms', 'gap_AUC_n1p2_R_50ms', 'n1p3_interval_nogap_20ms', 'n1p3_interval_nogap_50ms', 'n2_gap_peak_amp_20ms', 'n2_gap_peak_amp_50ms', 'p2n2_gap_nogap_diff_20ms', 'p2n2_gap_nogap_diff_50ms', 'gap_AUC_n1p2_L_20ms', 'gap_AUC_n1p2_L_50ms', 'gap_AUC_p1n1_R_20ms', 'gap_AUC_p1n1_R_50ms', 'gap_AUC_n1p2n2_20ms', 'gap_AUC_n1p2n2_50ms', 'n2_nogap_peak_ms_20ms', 'n2_nogap_peak_ms_50ms', 'n1p2_gap_no_gap_ratio_20ms', 'n1p2_gap_no_gap_ratio_50ms', 'PeakF_Theta_20ms', 'PeakF_Theta_50ms', 'SpectralEdge_Delta_20ms', 'SpectralEdge_Delta_50ms', 'RelativeAlpha_20ms', 'RelativeAlpha_50ms', 'DTABR_20ms', 'DTABR_50ms']\n"
          ]
        }
      ]
    },
    {
      "cell_type": "code",
      "source": [
        "X_new = dataset[list_of_feat]\n",
        "y_new = dataset.iloc[:, 1]"
      ],
      "metadata": {
        "id": "MKgy4THrq4v8"
      },
      "execution_count": 20,
      "outputs": []
    },
    {
      "cell_type": "code",
      "source": [
        "X_new.shape"
      ],
      "metadata": {
        "colab": {
          "base_uri": "https://localhost:8080/"
        },
        "id": "Fxz-DgDXZtpD",
        "outputId": "b1d49eef-1b79-423a-e731-6ad248dfaf3f"
      },
      "execution_count": 21,
      "outputs": [
        {
          "output_type": "execute_result",
          "data": {
            "text/plain": [
              "(165, 31)"
            ]
          },
          "metadata": {},
          "execution_count": 21
        }
      ]
    },
    {
      "cell_type": "code",
      "source": [
        "y_new.shape"
      ],
      "metadata": {
        "colab": {
          "base_uri": "https://localhost:8080/"
        },
        "id": "1q9Y_6BAr-es",
        "outputId": "376c8328-acd8-42fb-85c7-62f37e7a9f6f"
      },
      "execution_count": 22,
      "outputs": [
        {
          "output_type": "execute_result",
          "data": {
            "text/plain": [
              "(165,)"
            ]
          },
          "metadata": {},
          "execution_count": 22
        }
      ]
    },
    {
      "cell_type": "code",
      "source": [
        "from sklearn.model_selection import train_test_split\n",
        "X_train_with_subject, X_test_with_subject, y_train, y_test = train_test_split(X_new, y_new, test_size = 0.2, random_state = 0)"
      ],
      "metadata": {
        "id": "_CYZE4jgq3w9"
      },
      "execution_count": 23,
      "outputs": []
    },
    {
      "cell_type": "code",
      "source": [
        "X_train_with_subject"
      ],
      "metadata": {
        "colab": {
          "base_uri": "https://localhost:8080/",
          "height": 0
        },
        "id": "3Sltoqy_NDUf",
        "outputId": "d853a749-23a4-4975-e2c6-5e5e83660a1b"
      },
      "execution_count": 24,
      "outputs": [
        {
          "output_type": "execute_result",
          "data": {
            "text/plain": [
              "                  Subjects  p3_gap_peak_amp_20ms  p3_gap_peak_amp_50ms  \\\n",
              "83       '66_MGH_52_01_8k'              6.369437              8.721146   \n",
              "24          '13_LHM_34_01'              5.313777              3.421726   \n",
              "151      '54_LJB_26_01_8k'              6.818168              6.948500   \n",
              "86       '69_KTS_55_01_4k'              9.959457              7.986769   \n",
              "19          '10_NYS_31_01'              3.679091             12.115925   \n",
              "..                     ...                   ...                   ...   \n",
              "9           '05_AEY_41_01'              6.698255              7.821621   \n",
              "103         '09_JCM_38_01'              6.588320             10.748294   \n",
              "67       '44_KMR_59_01_4k'              7.643207              5.605295   \n",
              "117         '18_AHJ_26_01'             20.121744             22.040771   \n",
              "47       '21_JSY_24_01_1k'              3.126180              6.557410   \n",
              "\n",
              "     p1_gap_peak_amp_20ms  p1_gap_peak_amp_50ms  gap_AUC_n1p2_R_20ms  \\\n",
              "83               5.154610              5.157011             0.140955   \n",
              "24               3.909864              3.416225             0.326956   \n",
              "151              4.461776              5.049820             0.103086   \n",
              "86               7.732897              8.755311             0.108667   \n",
              "19               6.024409              4.932742             0.020748   \n",
              "..                    ...                   ...                  ...   \n",
              "9                7.407543              3.597972             0.085148   \n",
              "103              6.245175              6.641600             0.210697   \n",
              "67               5.793006              6.892800             0.133200   \n",
              "117             12.415887             12.801121             0.220593   \n",
              "47               3.740526              3.423469             0.443360   \n",
              "\n",
              "     gap_AUC_n1p2_R_50ms  n1p3_interval_nogap_20ms  n1p3_interval_nogap_50ms  \\\n",
              "83              0.074164                  3.018063                  5.028641   \n",
              "24              0.075592                  3.717316                  0.496188   \n",
              "151             0.225523                  3.144253                  3.751045   \n",
              "86              0.052905                  6.636849                  1.764162   \n",
              "19              0.152818                  1.858586                  8.339286   \n",
              "..                   ...                       ...                       ...   \n",
              "9               0.149940                  5.122363                  3.545268   \n",
              "103             0.177959                  3.991611                  5.808225   \n",
              "67              0.135500                  4.579751                  3.219950   \n",
              "117             0.220316                 11.059690                 10.954581   \n",
              "47              0.214856                 -0.005168                  5.153802   \n",
              "\n",
              "     n2_gap_peak_amp_20ms  ...  n1p2_gap_no_gap_ratio_20ms  \\\n",
              "83               6.478930  ...                 -376.959710   \n",
              "24               6.138024  ...                 -184.589226   \n",
              "151              6.212740  ...                 -314.435521   \n",
              "86              12.718418  ...                 -470.828277   \n",
              "19               5.588047  ...                 -291.858237   \n",
              "..                    ...  ...                         ...   \n",
              "9                9.739846  ...                 -485.077235   \n",
              "103              7.224071  ...                 -539.684933   \n",
              "67               8.200628  ...                 -350.151544   \n",
              "117             19.263015  ...                 -844.708088   \n",
              "47               3.074384  ...                 -285.617697   \n",
              "\n",
              "     n1p2_gap_no_gap_ratio_50ms  PeakF_Theta_20ms  PeakF_Theta_50ms  \\\n",
              "83                  -407.713264          4.280156          5.836578   \n",
              "24                  -178.082858          4.669260          4.280156   \n",
              "151                 -380.100403          5.447474          5.058368   \n",
              "86                  -476.312973          4.669262          5.836578   \n",
              "19                  -701.209089          3.891050          3.501946   \n",
              "..                          ...               ...               ...   \n",
              "9                   -326.713195          5.058366          6.225680   \n",
              "103                 -383.659062          5.447472          3.891050   \n",
              "67                  -402.348638          3.501946          3.501946   \n",
              "117                 -565.427676          4.280156          3.501946   \n",
              "47                  -333.685010          5.058368          7.392998   \n",
              "\n",
              "     SpectralEdge_Delta_20ms  SpectralEdge_Delta_50ms  RelativeAlpha_20ms  \\\n",
              "83                  4.669260                 5.058368              0.0870   \n",
              "24                  5.447472                 4.280156              0.1180   \n",
              "151                 5.447474                 5.447474              0.1760   \n",
              "86                  4.669262                 6.225684              0.1400   \n",
              "19                  3.891050                 3.891050              0.0765   \n",
              "..                       ...                      ...                 ...   \n",
              "9                   5.447472                 4.280156              0.1020   \n",
              "103                 4.280156                 4.669262              0.0705   \n",
              "67                  3.891050                 3.891050              0.0826   \n",
              "117                 4.669262                 4.280156              0.1440   \n",
              "47                  5.447472                 7.003892              0.1490   \n",
              "\n",
              "     RelativeAlpha_50ms  DTABR_20ms  DTABR_50ms  \n",
              "83               0.2090        6.28       0.770  \n",
              "24               0.0798        4.81       8.040  \n",
              "151              0.1770        1.71       1.410  \n",
              "86               0.2650        2.47       0.849  \n",
              "19               0.0566        7.30       9.300  \n",
              "..                  ...         ...         ...  \n",
              "9                0.0916        3.32       3.830  \n",
              "103              0.0989        5.56       5.300  \n",
              "67               0.0733        7.00       8.350  \n",
              "117              0.1310        2.49       4.250  \n",
              "47               0.1810        2.11       1.690  \n",
              "\n",
              "[132 rows x 31 columns]"
            ],
            "text/html": [
              "\n",
              "  <div id=\"df-314e777a-cbcb-4cf2-8d06-a56602cdf2cc\">\n",
              "    <div class=\"colab-df-container\">\n",
              "      <div>\n",
              "<style scoped>\n",
              "    .dataframe tbody tr th:only-of-type {\n",
              "        vertical-align: middle;\n",
              "    }\n",
              "\n",
              "    .dataframe tbody tr th {\n",
              "        vertical-align: top;\n",
              "    }\n",
              "\n",
              "    .dataframe thead th {\n",
              "        text-align: right;\n",
              "    }\n",
              "</style>\n",
              "<table border=\"1\" class=\"dataframe\">\n",
              "  <thead>\n",
              "    <tr style=\"text-align: right;\">\n",
              "      <th></th>\n",
              "      <th>Subjects</th>\n",
              "      <th>p3_gap_peak_amp_20ms</th>\n",
              "      <th>p3_gap_peak_amp_50ms</th>\n",
              "      <th>p1_gap_peak_amp_20ms</th>\n",
              "      <th>p1_gap_peak_amp_50ms</th>\n",
              "      <th>gap_AUC_n1p2_R_20ms</th>\n",
              "      <th>gap_AUC_n1p2_R_50ms</th>\n",
              "      <th>n1p3_interval_nogap_20ms</th>\n",
              "      <th>n1p3_interval_nogap_50ms</th>\n",
              "      <th>n2_gap_peak_amp_20ms</th>\n",
              "      <th>...</th>\n",
              "      <th>n1p2_gap_no_gap_ratio_20ms</th>\n",
              "      <th>n1p2_gap_no_gap_ratio_50ms</th>\n",
              "      <th>PeakF_Theta_20ms</th>\n",
              "      <th>PeakF_Theta_50ms</th>\n",
              "      <th>SpectralEdge_Delta_20ms</th>\n",
              "      <th>SpectralEdge_Delta_50ms</th>\n",
              "      <th>RelativeAlpha_20ms</th>\n",
              "      <th>RelativeAlpha_50ms</th>\n",
              "      <th>DTABR_20ms</th>\n",
              "      <th>DTABR_50ms</th>\n",
              "    </tr>\n",
              "  </thead>\n",
              "  <tbody>\n",
              "    <tr>\n",
              "      <th>83</th>\n",
              "      <td>'66_MGH_52_01_8k'</td>\n",
              "      <td>6.369437</td>\n",
              "      <td>8.721146</td>\n",
              "      <td>5.154610</td>\n",
              "      <td>5.157011</td>\n",
              "      <td>0.140955</td>\n",
              "      <td>0.074164</td>\n",
              "      <td>3.018063</td>\n",
              "      <td>5.028641</td>\n",
              "      <td>6.478930</td>\n",
              "      <td>...</td>\n",
              "      <td>-376.959710</td>\n",
              "      <td>-407.713264</td>\n",
              "      <td>4.280156</td>\n",
              "      <td>5.836578</td>\n",
              "      <td>4.669260</td>\n",
              "      <td>5.058368</td>\n",
              "      <td>0.0870</td>\n",
              "      <td>0.2090</td>\n",
              "      <td>6.28</td>\n",
              "      <td>0.770</td>\n",
              "    </tr>\n",
              "    <tr>\n",
              "      <th>24</th>\n",
              "      <td>'13_LHM_34_01'</td>\n",
              "      <td>5.313777</td>\n",
              "      <td>3.421726</td>\n",
              "      <td>3.909864</td>\n",
              "      <td>3.416225</td>\n",
              "      <td>0.326956</td>\n",
              "      <td>0.075592</td>\n",
              "      <td>3.717316</td>\n",
              "      <td>0.496188</td>\n",
              "      <td>6.138024</td>\n",
              "      <td>...</td>\n",
              "      <td>-184.589226</td>\n",
              "      <td>-178.082858</td>\n",
              "      <td>4.669260</td>\n",
              "      <td>4.280156</td>\n",
              "      <td>5.447472</td>\n",
              "      <td>4.280156</td>\n",
              "      <td>0.1180</td>\n",
              "      <td>0.0798</td>\n",
              "      <td>4.81</td>\n",
              "      <td>8.040</td>\n",
              "    </tr>\n",
              "    <tr>\n",
              "      <th>151</th>\n",
              "      <td>'54_LJB_26_01_8k'</td>\n",
              "      <td>6.818168</td>\n",
              "      <td>6.948500</td>\n",
              "      <td>4.461776</td>\n",
              "      <td>5.049820</td>\n",
              "      <td>0.103086</td>\n",
              "      <td>0.225523</td>\n",
              "      <td>3.144253</td>\n",
              "      <td>3.751045</td>\n",
              "      <td>6.212740</td>\n",
              "      <td>...</td>\n",
              "      <td>-314.435521</td>\n",
              "      <td>-380.100403</td>\n",
              "      <td>5.447474</td>\n",
              "      <td>5.058368</td>\n",
              "      <td>5.447474</td>\n",
              "      <td>5.447474</td>\n",
              "      <td>0.1760</td>\n",
              "      <td>0.1770</td>\n",
              "      <td>1.71</td>\n",
              "      <td>1.410</td>\n",
              "    </tr>\n",
              "    <tr>\n",
              "      <th>86</th>\n",
              "      <td>'69_KTS_55_01_4k'</td>\n",
              "      <td>9.959457</td>\n",
              "      <td>7.986769</td>\n",
              "      <td>7.732897</td>\n",
              "      <td>8.755311</td>\n",
              "      <td>0.108667</td>\n",
              "      <td>0.052905</td>\n",
              "      <td>6.636849</td>\n",
              "      <td>1.764162</td>\n",
              "      <td>12.718418</td>\n",
              "      <td>...</td>\n",
              "      <td>-470.828277</td>\n",
              "      <td>-476.312973</td>\n",
              "      <td>4.669262</td>\n",
              "      <td>5.836578</td>\n",
              "      <td>4.669262</td>\n",
              "      <td>6.225684</td>\n",
              "      <td>0.1400</td>\n",
              "      <td>0.2650</td>\n",
              "      <td>2.47</td>\n",
              "      <td>0.849</td>\n",
              "    </tr>\n",
              "    <tr>\n",
              "      <th>19</th>\n",
              "      <td>'10_NYS_31_01'</td>\n",
              "      <td>3.679091</td>\n",
              "      <td>12.115925</td>\n",
              "      <td>6.024409</td>\n",
              "      <td>4.932742</td>\n",
              "      <td>0.020748</td>\n",
              "      <td>0.152818</td>\n",
              "      <td>1.858586</td>\n",
              "      <td>8.339286</td>\n",
              "      <td>5.588047</td>\n",
              "      <td>...</td>\n",
              "      <td>-291.858237</td>\n",
              "      <td>-701.209089</td>\n",
              "      <td>3.891050</td>\n",
              "      <td>3.501946</td>\n",
              "      <td>3.891050</td>\n",
              "      <td>3.891050</td>\n",
              "      <td>0.0765</td>\n",
              "      <td>0.0566</td>\n",
              "      <td>7.30</td>\n",
              "      <td>9.300</td>\n",
              "    </tr>\n",
              "    <tr>\n",
              "      <th>...</th>\n",
              "      <td>...</td>\n",
              "      <td>...</td>\n",
              "      <td>...</td>\n",
              "      <td>...</td>\n",
              "      <td>...</td>\n",
              "      <td>...</td>\n",
              "      <td>...</td>\n",
              "      <td>...</td>\n",
              "      <td>...</td>\n",
              "      <td>...</td>\n",
              "      <td>...</td>\n",
              "      <td>...</td>\n",
              "      <td>...</td>\n",
              "      <td>...</td>\n",
              "      <td>...</td>\n",
              "      <td>...</td>\n",
              "      <td>...</td>\n",
              "      <td>...</td>\n",
              "      <td>...</td>\n",
              "      <td>...</td>\n",
              "      <td>...</td>\n",
              "    </tr>\n",
              "    <tr>\n",
              "      <th>9</th>\n",
              "      <td>'05_AEY_41_01'</td>\n",
              "      <td>6.698255</td>\n",
              "      <td>7.821621</td>\n",
              "      <td>7.407543</td>\n",
              "      <td>3.597972</td>\n",
              "      <td>0.085148</td>\n",
              "      <td>0.149940</td>\n",
              "      <td>5.122363</td>\n",
              "      <td>3.545268</td>\n",
              "      <td>9.739846</td>\n",
              "      <td>...</td>\n",
              "      <td>-485.077235</td>\n",
              "      <td>-326.713195</td>\n",
              "      <td>5.058366</td>\n",
              "      <td>6.225680</td>\n",
              "      <td>5.447472</td>\n",
              "      <td>4.280156</td>\n",
              "      <td>0.1020</td>\n",
              "      <td>0.0916</td>\n",
              "      <td>3.32</td>\n",
              "      <td>3.830</td>\n",
              "    </tr>\n",
              "    <tr>\n",
              "      <th>103</th>\n",
              "      <td>'09_JCM_38_01'</td>\n",
              "      <td>6.588320</td>\n",
              "      <td>10.748294</td>\n",
              "      <td>6.245175</td>\n",
              "      <td>6.641600</td>\n",
              "      <td>0.210697</td>\n",
              "      <td>0.177959</td>\n",
              "      <td>3.991611</td>\n",
              "      <td>5.808225</td>\n",
              "      <td>7.224071</td>\n",
              "      <td>...</td>\n",
              "      <td>-539.684933</td>\n",
              "      <td>-383.659062</td>\n",
              "      <td>5.447472</td>\n",
              "      <td>3.891050</td>\n",
              "      <td>4.280156</td>\n",
              "      <td>4.669262</td>\n",
              "      <td>0.0705</td>\n",
              "      <td>0.0989</td>\n",
              "      <td>5.56</td>\n",
              "      <td>5.300</td>\n",
              "    </tr>\n",
              "    <tr>\n",
              "      <th>67</th>\n",
              "      <td>'44_KMR_59_01_4k'</td>\n",
              "      <td>7.643207</td>\n",
              "      <td>5.605295</td>\n",
              "      <td>5.793006</td>\n",
              "      <td>6.892800</td>\n",
              "      <td>0.133200</td>\n",
              "      <td>0.135500</td>\n",
              "      <td>4.579751</td>\n",
              "      <td>3.219950</td>\n",
              "      <td>8.200628</td>\n",
              "      <td>...</td>\n",
              "      <td>-350.151544</td>\n",
              "      <td>-402.348638</td>\n",
              "      <td>3.501946</td>\n",
              "      <td>3.501946</td>\n",
              "      <td>3.891050</td>\n",
              "      <td>3.891050</td>\n",
              "      <td>0.0826</td>\n",
              "      <td>0.0733</td>\n",
              "      <td>7.00</td>\n",
              "      <td>8.350</td>\n",
              "    </tr>\n",
              "    <tr>\n",
              "      <th>117</th>\n",
              "      <td>'18_AHJ_26_01'</td>\n",
              "      <td>20.121744</td>\n",
              "      <td>22.040771</td>\n",
              "      <td>12.415887</td>\n",
              "      <td>12.801121</td>\n",
              "      <td>0.220593</td>\n",
              "      <td>0.220316</td>\n",
              "      <td>11.059690</td>\n",
              "      <td>10.954581</td>\n",
              "      <td>19.263015</td>\n",
              "      <td>...</td>\n",
              "      <td>-844.708088</td>\n",
              "      <td>-565.427676</td>\n",
              "      <td>4.280156</td>\n",
              "      <td>3.501946</td>\n",
              "      <td>4.669262</td>\n",
              "      <td>4.280156</td>\n",
              "      <td>0.1440</td>\n",
              "      <td>0.1310</td>\n",
              "      <td>2.49</td>\n",
              "      <td>4.250</td>\n",
              "    </tr>\n",
              "    <tr>\n",
              "      <th>47</th>\n",
              "      <td>'21_JSY_24_01_1k'</td>\n",
              "      <td>3.126180</td>\n",
              "      <td>6.557410</td>\n",
              "      <td>3.740526</td>\n",
              "      <td>3.423469</td>\n",
              "      <td>0.443360</td>\n",
              "      <td>0.214856</td>\n",
              "      <td>-0.005168</td>\n",
              "      <td>5.153802</td>\n",
              "      <td>3.074384</td>\n",
              "      <td>...</td>\n",
              "      <td>-285.617697</td>\n",
              "      <td>-333.685010</td>\n",
              "      <td>5.058368</td>\n",
              "      <td>7.392998</td>\n",
              "      <td>5.447472</td>\n",
              "      <td>7.003892</td>\n",
              "      <td>0.1490</td>\n",
              "      <td>0.1810</td>\n",
              "      <td>2.11</td>\n",
              "      <td>1.690</td>\n",
              "    </tr>\n",
              "  </tbody>\n",
              "</table>\n",
              "<p>132 rows × 31 columns</p>\n",
              "</div>\n",
              "      <button class=\"colab-df-convert\" onclick=\"convertToInteractive('df-314e777a-cbcb-4cf2-8d06-a56602cdf2cc')\"\n",
              "              title=\"Convert this dataframe to an interactive table.\"\n",
              "              style=\"display:none;\">\n",
              "        \n",
              "  <svg xmlns=\"http://www.w3.org/2000/svg\" height=\"24px\"viewBox=\"0 0 24 24\"\n",
              "       width=\"24px\">\n",
              "    <path d=\"M0 0h24v24H0V0z\" fill=\"none\"/>\n",
              "    <path d=\"M18.56 5.44l.94 2.06.94-2.06 2.06-.94-2.06-.94-.94-2.06-.94 2.06-2.06.94zm-11 1L8.5 8.5l.94-2.06 2.06-.94-2.06-.94L8.5 2.5l-.94 2.06-2.06.94zm10 10l.94 2.06.94-2.06 2.06-.94-2.06-.94-.94-2.06-.94 2.06-2.06.94z\"/><path d=\"M17.41 7.96l-1.37-1.37c-.4-.4-.92-.59-1.43-.59-.52 0-1.04.2-1.43.59L10.3 9.45l-7.72 7.72c-.78.78-.78 2.05 0 2.83L4 21.41c.39.39.9.59 1.41.59.51 0 1.02-.2 1.41-.59l7.78-7.78 2.81-2.81c.8-.78.8-2.07 0-2.86zM5.41 20L4 18.59l7.72-7.72 1.47 1.35L5.41 20z\"/>\n",
              "  </svg>\n",
              "      </button>\n",
              "      \n",
              "  <style>\n",
              "    .colab-df-container {\n",
              "      display:flex;\n",
              "      flex-wrap:wrap;\n",
              "      gap: 12px;\n",
              "    }\n",
              "\n",
              "    .colab-df-convert {\n",
              "      background-color: #E8F0FE;\n",
              "      border: none;\n",
              "      border-radius: 50%;\n",
              "      cursor: pointer;\n",
              "      display: none;\n",
              "      fill: #1967D2;\n",
              "      height: 32px;\n",
              "      padding: 0 0 0 0;\n",
              "      width: 32px;\n",
              "    }\n",
              "\n",
              "    .colab-df-convert:hover {\n",
              "      background-color: #E2EBFA;\n",
              "      box-shadow: 0px 1px 2px rgba(60, 64, 67, 0.3), 0px 1px 3px 1px rgba(60, 64, 67, 0.15);\n",
              "      fill: #174EA6;\n",
              "    }\n",
              "\n",
              "    [theme=dark] .colab-df-convert {\n",
              "      background-color: #3B4455;\n",
              "      fill: #D2E3FC;\n",
              "    }\n",
              "\n",
              "    [theme=dark] .colab-df-convert:hover {\n",
              "      background-color: #434B5C;\n",
              "      box-shadow: 0px 1px 3px 1px rgba(0, 0, 0, 0.15);\n",
              "      filter: drop-shadow(0px 1px 2px rgba(0, 0, 0, 0.3));\n",
              "      fill: #FFFFFF;\n",
              "    }\n",
              "  </style>\n",
              "\n",
              "      <script>\n",
              "        const buttonEl =\n",
              "          document.querySelector('#df-314e777a-cbcb-4cf2-8d06-a56602cdf2cc button.colab-df-convert');\n",
              "        buttonEl.style.display =\n",
              "          google.colab.kernel.accessAllowed ? 'block' : 'none';\n",
              "\n",
              "        async function convertToInteractive(key) {\n",
              "          const element = document.querySelector('#df-314e777a-cbcb-4cf2-8d06-a56602cdf2cc');\n",
              "          const dataTable =\n",
              "            await google.colab.kernel.invokeFunction('convertToInteractive',\n",
              "                                                     [key], {});\n",
              "          if (!dataTable) return;\n",
              "\n",
              "          const docLinkHtml = 'Like what you see? Visit the ' +\n",
              "            '<a target=\"_blank\" href=https://colab.research.google.com/notebooks/data_table.ipynb>data table notebook</a>'\n",
              "            + ' to learn more about interactive tables.';\n",
              "          element.innerHTML = '';\n",
              "          dataTable['output_type'] = 'display_data';\n",
              "          await google.colab.output.renderOutput(dataTable, element);\n",
              "          const docLink = document.createElement('div');\n",
              "          docLink.innerHTML = docLinkHtml;\n",
              "          element.appendChild(docLink);\n",
              "        }\n",
              "      </script>\n",
              "    </div>\n",
              "  </div>\n",
              "  "
            ]
          },
          "metadata": {},
          "execution_count": 24
        }
      ]
    },
    {
      "cell_type": "code",
      "source": [
        "X_train = X_train_with_subject.iloc[:,1:]\n",
        "X_test  = X_test_with_subject.iloc[:,1:]"
      ],
      "metadata": {
        "id": "Oo_-0Rm831qY"
      },
      "execution_count": 25,
      "outputs": []
    },
    {
      "cell_type": "code",
      "source": [
        "result={}"
      ],
      "metadata": {
        "id": "e6xwcWGeNGi2"
      },
      "execution_count": 26,
      "outputs": []
    },
    {
      "cell_type": "markdown",
      "source": [
        "\n",
        "\n",
        "---\n",
        "\n"
      ],
      "metadata": {
        "id": "bqYsoblRogp2"
      }
    },
    {
      "cell_type": "markdown",
      "source": [
        "\n",
        "\n",
        "---\n",
        "\n"
      ],
      "metadata": {
        "id": "BydV84Diooxp"
      }
    },
    {
      "cell_type": "markdown",
      "source": [
        "#ADABOOST"
      ],
      "metadata": {
        "id": "jEe2R0yAoifa"
      }
    },
    {
      "cell_type": "code",
      "source": [
        "from sklearn.ensemble import AdaBoostClassifier\n",
        "\n",
        "ada_defult = AdaBoostClassifier(random_state=0)\n",
        "ada_defult.fit(X_train.iloc[:,1:], y_train)\n",
        "y_pred = ada_defult.predict(X_test.iloc[:,1:])\n",
        "\n",
        "from sklearn.metrics import classification_report, confusion_matrix, accuracy_score\n",
        "print(confusion_matrix(y_test, y_pred))\n",
        "print(classification_report(y_test,y_pred))\n",
        "print(\"Accurecy: \",accuracy_score(y_test, y_pred))\n",
        "result[(ada_defult,1,'AdaBoostClassifier')]=accuracy_score(y_test, y_pred)"
      ],
      "metadata": {
        "colab": {
          "base_uri": "https://localhost:8080/"
        },
        "id": "Bz_yVJaXod8O",
        "outputId": "8c13c061-4248-4b4b-9686-8ca5c008327d"
      },
      "execution_count": 27,
      "outputs": [
        {
          "output_type": "stream",
          "name": "stdout",
          "text": [
            "[[ 9  6]\n",
            " [ 8 10]]\n",
            "              precision    recall  f1-score   support\n",
            "\n",
            "           0       0.53      0.60      0.56        15\n",
            "           1       0.62      0.56      0.59        18\n",
            "\n",
            "    accuracy                           0.58        33\n",
            "   macro avg       0.58      0.58      0.58        33\n",
            "weighted avg       0.58      0.58      0.58        33\n",
            "\n",
            "Accurecy:  0.5757575757575758\n"
          ]
        }
      ]
    },
    {
      "cell_type": "code",
      "source": [
        "prediction = ada_defult.predict(X_test[0:2].iloc[:,1:])"
      ],
      "metadata": {
        "id": "2SK9t8op4qdz"
      },
      "execution_count": 28,
      "outputs": []
    },
    {
      "cell_type": "code",
      "source": [
        "print(prediction)\n",
        "print(X_test[0:2])"
      ],
      "metadata": {
        "colab": {
          "base_uri": "https://localhost:8080/"
        },
        "id": "9Do_IaaZ44VE",
        "outputId": "e4ff8ca7-da1e-4a52-e03f-e02a0e7e48fb"
      },
      "execution_count": 29,
      "outputs": [
        {
          "output_type": "stream",
          "name": "stdout",
          "text": [
            "[1 1]\n",
            "    p3_gap_peak_amp_20ms  p3_gap_peak_amp_50ms  p1_gap_peak_amp_20ms  \\\n",
            "45             12.298735              9.436987              9.109948   \n",
            "51              9.122776              9.531450              5.825824   \n",
            "\n",
            "    p1_gap_peak_amp_50ms  gap_AUC_n1p2_R_20ms  gap_AUC_n1p2_R_50ms  \\\n",
            "45              7.946421             0.120714             0.090179   \n",
            "51              5.789255             0.277219             0.301900   \n",
            "\n",
            "    n1p3_interval_nogap_20ms  n1p3_interval_nogap_50ms  n2_gap_peak_amp_20ms  \\\n",
            "45                  7.112375                  4.826144             13.367969   \n",
            "51                  4.585858                  6.904603              9.705150   \n",
            "\n",
            "    n2_gap_peak_amp_50ms  ...  n1p2_gap_no_gap_ratio_20ms  \\\n",
            "45             10.306141  ...                 -526.949638   \n",
            "51              9.997814  ...                 -648.977491   \n",
            "\n",
            "    n1p2_gap_no_gap_ratio_50ms  PeakF_Theta_20ms  PeakF_Theta_50ms  \\\n",
            "45                 -506.905636          6.225682          5.058368   \n",
            "51                 -620.276260          3.501946          3.501946   \n",
            "\n",
            "    SpectralEdge_Delta_20ms  SpectralEdge_Delta_50ms  RelativeAlpha_20ms  \\\n",
            "45                 5.836578                 6.225684               0.255   \n",
            "51                 4.280156                 4.669262               0.137   \n",
            "\n",
            "    RelativeAlpha_50ms  DTABR_20ms  DTABR_50ms  \n",
            "45               0.204        1.08        1.11  \n",
            "51               0.151        3.42        2.20  \n",
            "\n",
            "[2 rows x 30 columns]\n"
          ]
        }
      ]
    },
    {
      "cell_type": "code",
      "source": [
        "from sklearn.ensemble import AdaBoostClassifier\n",
        "N=200\n",
        "k_range = range (1,N+1)\n",
        "scores={}\n",
        "scores_list = []\n",
        "for k in k_range:\n",
        "  classifier = AdaBoostClassifier(n_estimators=k,random_state=0)\n",
        "  classifier.fit(X_train, y_train)\n",
        "  y_pred=classifier.predict(X_test)\n",
        "  scores[k] = accuracy_score(y_test,y_pred)\n",
        "  scores_list.append(accuracy_score(y_test,y_pred))\n",
        "  print(str(k)+\"/\"+str(N)+\" round completed......................... Accurecy: \"+str(accuracy_score(y_test,y_pred)))\n",
        "\n",
        "\n",
        "\n",
        "%matplotlib inline\n",
        "import matplotlib.pyplot as plt\n",
        "#plot the relationship between K and the testing accuracy\n",
        "plt.figure(figsize = (25,10))\n",
        "plt.plot(k_range,scores_list)\n",
        "plt.xlabel('Value of n_estimators')\n",
        "plt.ylabel ('Testing Accuracy')\n",
        "\n",
        "\n",
        "\n",
        "print(\"The best n_estimators:\")\n",
        "best_estimator=list(scores.keys())[scores_list.index(max(scores_list))]\n",
        "print(best_estimator)"
      ],
      "metadata": {
        "colab": {
          "base_uri": "https://localhost:8080/",
          "height": 0
        },
        "id": "_3wRG3rxotzH",
        "outputId": "59ed0e8e-f464-49cc-a2ae-c34ca164f220"
      },
      "execution_count": 30,
      "outputs": [
        {
          "output_type": "stream",
          "name": "stdout",
          "text": [
            "1/200 round completed......................... Accurecy: 0.6666666666666666\n",
            "2/200 round completed......................... Accurecy: 0.696969696969697\n",
            "3/200 round completed......................... Accurecy: 0.6060606060606061\n",
            "4/200 round completed......................... Accurecy: 0.5757575757575758\n",
            "5/200 round completed......................... Accurecy: 0.5454545454545454\n",
            "6/200 round completed......................... Accurecy: 0.6060606060606061\n",
            "7/200 round completed......................... Accurecy: 0.6060606060606061\n",
            "8/200 round completed......................... Accurecy: 0.6060606060606061\n",
            "9/200 round completed......................... Accurecy: 0.5454545454545454\n",
            "10/200 round completed......................... Accurecy: 0.5757575757575758\n",
            "11/200 round completed......................... Accurecy: 0.5757575757575758\n",
            "12/200 round completed......................... Accurecy: 0.5454545454545454\n",
            "13/200 round completed......................... Accurecy: 0.5454545454545454\n",
            "14/200 round completed......................... Accurecy: 0.5151515151515151\n",
            "15/200 round completed......................... Accurecy: 0.5757575757575758\n",
            "16/200 round completed......................... Accurecy: 0.6363636363636364\n",
            "17/200 round completed......................... Accurecy: 0.6060606060606061\n",
            "18/200 round completed......................... Accurecy: 0.5757575757575758\n",
            "19/200 round completed......................... Accurecy: 0.6060606060606061\n",
            "20/200 round completed......................... Accurecy: 0.696969696969697\n",
            "21/200 round completed......................... Accurecy: 0.6666666666666666\n",
            "22/200 round completed......................... Accurecy: 0.6666666666666666\n",
            "23/200 round completed......................... Accurecy: 0.6666666666666666\n",
            "24/200 round completed......................... Accurecy: 0.6666666666666666\n",
            "25/200 round completed......................... Accurecy: 0.6060606060606061\n",
            "26/200 round completed......................... Accurecy: 0.6060606060606061\n",
            "27/200 round completed......................... Accurecy: 0.6666666666666666\n",
            "28/200 round completed......................... Accurecy: 0.6060606060606061\n",
            "29/200 round completed......................... Accurecy: 0.6060606060606061\n",
            "30/200 round completed......................... Accurecy: 0.5757575757575758\n",
            "31/200 round completed......................... Accurecy: 0.5757575757575758\n",
            "32/200 round completed......................... Accurecy: 0.5757575757575758\n",
            "33/200 round completed......................... Accurecy: 0.5757575757575758\n",
            "34/200 round completed......................... Accurecy: 0.6060606060606061\n",
            "35/200 round completed......................... Accurecy: 0.6060606060606061\n",
            "36/200 round completed......................... Accurecy: 0.6060606060606061\n",
            "37/200 round completed......................... Accurecy: 0.6363636363636364\n",
            "38/200 round completed......................... Accurecy: 0.6060606060606061\n",
            "39/200 round completed......................... Accurecy: 0.6060606060606061\n",
            "40/200 round completed......................... Accurecy: 0.6060606060606061\n",
            "41/200 round completed......................... Accurecy: 0.6060606060606061\n",
            "42/200 round completed......................... Accurecy: 0.6060606060606061\n",
            "43/200 round completed......................... Accurecy: 0.6060606060606061\n",
            "44/200 round completed......................... Accurecy: 0.6060606060606061\n",
            "45/200 round completed......................... Accurecy: 0.6060606060606061\n",
            "46/200 round completed......................... Accurecy: 0.5757575757575758\n",
            "47/200 round completed......................... Accurecy: 0.6060606060606061\n",
            "48/200 round completed......................... Accurecy: 0.6363636363636364\n",
            "49/200 round completed......................... Accurecy: 0.6060606060606061\n",
            "50/200 round completed......................... Accurecy: 0.6363636363636364\n",
            "51/200 round completed......................... Accurecy: 0.5757575757575758\n",
            "52/200 round completed......................... Accurecy: 0.6363636363636364\n",
            "53/200 round completed......................... Accurecy: 0.6363636363636364\n",
            "54/200 round completed......................... Accurecy: 0.6363636363636364\n",
            "55/200 round completed......................... Accurecy: 0.6363636363636364\n",
            "56/200 round completed......................... Accurecy: 0.6060606060606061\n",
            "57/200 round completed......................... Accurecy: 0.6060606060606061\n",
            "58/200 round completed......................... Accurecy: 0.6060606060606061\n",
            "59/200 round completed......................... Accurecy: 0.6363636363636364\n",
            "60/200 round completed......................... Accurecy: 0.6060606060606061\n",
            "61/200 round completed......................... Accurecy: 0.6666666666666666\n",
            "62/200 round completed......................... Accurecy: 0.6060606060606061\n",
            "63/200 round completed......................... Accurecy: 0.6060606060606061\n",
            "64/200 round completed......................... Accurecy: 0.6363636363636364\n",
            "65/200 round completed......................... Accurecy: 0.6363636363636364\n",
            "66/200 round completed......................... Accurecy: 0.696969696969697\n",
            "67/200 round completed......................... Accurecy: 0.6060606060606061\n",
            "68/200 round completed......................... Accurecy: 0.6363636363636364\n",
            "69/200 round completed......................... Accurecy: 0.6060606060606061\n",
            "70/200 round completed......................... Accurecy: 0.6060606060606061\n",
            "71/200 round completed......................... Accurecy: 0.6363636363636364\n",
            "72/200 round completed......................... Accurecy: 0.6060606060606061\n",
            "73/200 round completed......................... Accurecy: 0.6060606060606061\n",
            "74/200 round completed......................... Accurecy: 0.6060606060606061\n",
            "75/200 round completed......................... Accurecy: 0.6363636363636364\n",
            "76/200 round completed......................... Accurecy: 0.6363636363636364\n",
            "77/200 round completed......................... Accurecy: 0.6363636363636364\n",
            "78/200 round completed......................... Accurecy: 0.6363636363636364\n",
            "79/200 round completed......................... Accurecy: 0.6363636363636364\n",
            "80/200 round completed......................... Accurecy: 0.6363636363636364\n",
            "81/200 round completed......................... Accurecy: 0.6666666666666666\n",
            "82/200 round completed......................... Accurecy: 0.6666666666666666\n",
            "83/200 round completed......................... Accurecy: 0.6666666666666666\n",
            "84/200 round completed......................... Accurecy: 0.6060606060606061\n",
            "85/200 round completed......................... Accurecy: 0.6363636363636364\n",
            "86/200 round completed......................... Accurecy: 0.6666666666666666\n",
            "87/200 round completed......................... Accurecy: 0.6363636363636364\n",
            "88/200 round completed......................... Accurecy: 0.6666666666666666\n",
            "89/200 round completed......................... Accurecy: 0.6363636363636364\n",
            "90/200 round completed......................... Accurecy: 0.6666666666666666\n",
            "91/200 round completed......................... Accurecy: 0.6363636363636364\n",
            "92/200 round completed......................... Accurecy: 0.6363636363636364\n",
            "93/200 round completed......................... Accurecy: 0.6666666666666666\n",
            "94/200 round completed......................... Accurecy: 0.6060606060606061\n",
            "95/200 round completed......................... Accurecy: 0.6363636363636364\n",
            "96/200 round completed......................... Accurecy: 0.6363636363636364\n",
            "97/200 round completed......................... Accurecy: 0.6363636363636364\n",
            "98/200 round completed......................... Accurecy: 0.6363636363636364\n",
            "99/200 round completed......................... Accurecy: 0.6060606060606061\n",
            "100/200 round completed......................... Accurecy: 0.6363636363636364\n",
            "101/200 round completed......................... Accurecy: 0.6666666666666666\n",
            "102/200 round completed......................... Accurecy: 0.6666666666666666\n",
            "103/200 round completed......................... Accurecy: 0.6363636363636364\n",
            "104/200 round completed......................... Accurecy: 0.6363636363636364\n",
            "105/200 round completed......................... Accurecy: 0.6363636363636364\n",
            "106/200 round completed......................... Accurecy: 0.6363636363636364\n",
            "107/200 round completed......................... Accurecy: 0.6363636363636364\n",
            "108/200 round completed......................... Accurecy: 0.6363636363636364\n",
            "109/200 round completed......................... Accurecy: 0.6363636363636364\n",
            "110/200 round completed......................... Accurecy: 0.6060606060606061\n",
            "111/200 round completed......................... Accurecy: 0.6363636363636364\n",
            "112/200 round completed......................... Accurecy: 0.6060606060606061\n",
            "113/200 round completed......................... Accurecy: 0.6666666666666666\n",
            "114/200 round completed......................... Accurecy: 0.6666666666666666\n",
            "115/200 round completed......................... Accurecy: 0.6666666666666666\n",
            "116/200 round completed......................... Accurecy: 0.6666666666666666\n",
            "117/200 round completed......................... Accurecy: 0.6666666666666666\n",
            "118/200 round completed......................... Accurecy: 0.6666666666666666\n",
            "119/200 round completed......................... Accurecy: 0.6666666666666666\n",
            "120/200 round completed......................... Accurecy: 0.6666666666666666\n",
            "121/200 round completed......................... Accurecy: 0.6666666666666666\n",
            "122/200 round completed......................... Accurecy: 0.6363636363636364\n",
            "123/200 round completed......................... Accurecy: 0.6666666666666666\n",
            "124/200 round completed......................... Accurecy: 0.6666666666666666\n",
            "125/200 round completed......................... Accurecy: 0.6666666666666666\n",
            "126/200 round completed......................... Accurecy: 0.6666666666666666\n",
            "127/200 round completed......................... Accurecy: 0.6363636363636364\n",
            "128/200 round completed......................... Accurecy: 0.6363636363636364\n",
            "129/200 round completed......................... Accurecy: 0.6363636363636364\n",
            "130/200 round completed......................... Accurecy: 0.6363636363636364\n",
            "131/200 round completed......................... Accurecy: 0.6666666666666666\n",
            "132/200 round completed......................... Accurecy: 0.6363636363636364\n",
            "133/200 round completed......................... Accurecy: 0.6363636363636364\n",
            "134/200 round completed......................... Accurecy: 0.6363636363636364\n",
            "135/200 round completed......................... Accurecy: 0.6363636363636364\n",
            "136/200 round completed......................... Accurecy: 0.6363636363636364\n",
            "137/200 round completed......................... Accurecy: 0.6363636363636364\n",
            "138/200 round completed......................... Accurecy: 0.6363636363636364\n",
            "139/200 round completed......................... Accurecy: 0.6363636363636364\n",
            "140/200 round completed......................... Accurecy: 0.6363636363636364\n",
            "141/200 round completed......................... Accurecy: 0.6363636363636364\n",
            "142/200 round completed......................... Accurecy: 0.6363636363636364\n",
            "143/200 round completed......................... Accurecy: 0.6363636363636364\n",
            "144/200 round completed......................... Accurecy: 0.6666666666666666\n",
            "145/200 round completed......................... Accurecy: 0.6666666666666666\n",
            "146/200 round completed......................... Accurecy: 0.6666666666666666\n",
            "147/200 round completed......................... Accurecy: 0.6666666666666666\n",
            "148/200 round completed......................... Accurecy: 0.6363636363636364\n",
            "149/200 round completed......................... Accurecy: 0.6666666666666666\n",
            "150/200 round completed......................... Accurecy: 0.6666666666666666\n",
            "151/200 round completed......................... Accurecy: 0.6363636363636364\n",
            "152/200 round completed......................... Accurecy: 0.6363636363636364\n",
            "153/200 round completed......................... Accurecy: 0.6363636363636364\n",
            "154/200 round completed......................... Accurecy: 0.6363636363636364\n",
            "155/200 round completed......................... Accurecy: 0.6363636363636364\n",
            "156/200 round completed......................... Accurecy: 0.6363636363636364\n",
            "157/200 round completed......................... Accurecy: 0.6363636363636364\n",
            "158/200 round completed......................... Accurecy: 0.6666666666666666\n",
            "159/200 round completed......................... Accurecy: 0.6666666666666666\n",
            "160/200 round completed......................... Accurecy: 0.6363636363636364\n",
            "161/200 round completed......................... Accurecy: 0.6666666666666666\n",
            "162/200 round completed......................... Accurecy: 0.6666666666666666\n",
            "163/200 round completed......................... Accurecy: 0.6666666666666666\n",
            "164/200 round completed......................... Accurecy: 0.6666666666666666\n",
            "165/200 round completed......................... Accurecy: 0.6666666666666666\n",
            "166/200 round completed......................... Accurecy: 0.6666666666666666\n",
            "167/200 round completed......................... Accurecy: 0.6666666666666666\n",
            "168/200 round completed......................... Accurecy: 0.6666666666666666\n",
            "169/200 round completed......................... Accurecy: 0.6666666666666666\n",
            "170/200 round completed......................... Accurecy: 0.6666666666666666\n",
            "171/200 round completed......................... Accurecy: 0.6363636363636364\n",
            "172/200 round completed......................... Accurecy: 0.6666666666666666\n",
            "173/200 round completed......................... Accurecy: 0.6666666666666666\n",
            "174/200 round completed......................... Accurecy: 0.6363636363636364\n",
            "175/200 round completed......................... Accurecy: 0.6666666666666666\n",
            "176/200 round completed......................... Accurecy: 0.6666666666666666\n",
            "177/200 round completed......................... Accurecy: 0.6666666666666666\n",
            "178/200 round completed......................... Accurecy: 0.6363636363636364\n",
            "179/200 round completed......................... Accurecy: 0.6666666666666666\n",
            "180/200 round completed......................... Accurecy: 0.6363636363636364\n",
            "181/200 round completed......................... Accurecy: 0.6666666666666666\n",
            "182/200 round completed......................... Accurecy: 0.6666666666666666\n",
            "183/200 round completed......................... Accurecy: 0.6666666666666666\n",
            "184/200 round completed......................... Accurecy: 0.6666666666666666\n",
            "185/200 round completed......................... Accurecy: 0.6363636363636364\n",
            "186/200 round completed......................... Accurecy: 0.6060606060606061\n",
            "187/200 round completed......................... Accurecy: 0.6060606060606061\n",
            "188/200 round completed......................... Accurecy: 0.6060606060606061\n",
            "189/200 round completed......................... Accurecy: 0.6060606060606061\n",
            "190/200 round completed......................... Accurecy: 0.6060606060606061\n",
            "191/200 round completed......................... Accurecy: 0.6060606060606061\n",
            "192/200 round completed......................... Accurecy: 0.6060606060606061\n",
            "193/200 round completed......................... Accurecy: 0.6060606060606061\n",
            "194/200 round completed......................... Accurecy: 0.6060606060606061\n",
            "195/200 round completed......................... Accurecy: 0.6363636363636364\n",
            "196/200 round completed......................... Accurecy: 0.6060606060606061\n",
            "197/200 round completed......................... Accurecy: 0.6060606060606061\n",
            "198/200 round completed......................... Accurecy: 0.6060606060606061\n",
            "199/200 round completed......................... Accurecy: 0.6060606060606061\n",
            "200/200 round completed......................... Accurecy: 0.6060606060606061\n",
            "The best n_estimators:\n",
            "2\n"
          ]
        },
        {
          "output_type": "display_data",
          "data": {
            "text/plain": [
              "<Figure size 1800x720 with 1 Axes>"
            ],
            "image/png": "[encoded data removed]"
          },
          "metadata": {
            "needs_background": "light"
          }
        }
      ]
    },
    {
      "cell_type": "code",
      "source": [
        "from sklearn.ensemble import AdaBoostClassifier\n",
        "\n",
        "ada_best_estimator = AdaBoostClassifier(n_estimators=best_estimator,random_state=0)\n",
        "ada_best_estimator.fit(X_train, y_train)\n",
        "y_pred = ada_best_estimator.predict(X_test)\n",
        "\n",
        "from sklearn.metrics import classification_report, confusion_matrix, accuracy_score\n",
        "print(confusion_matrix(y_test, y_pred))\n",
        "print(classification_report(y_test,y_pred))\n",
        "print(\"Accurecy: \",accuracy_score(y_test, y_pred))\n",
        "result[(ada_best_estimator,1,'AdaBoostClassifier')]=accuracy_score(y_test, y_pred)"
      ],
      "metadata": {
        "colab": {
          "base_uri": "https://localhost:8080/"
        },
        "id": "ctzoGCmFo0In",
        "outputId": "fb98b6ac-a54e-4fab-8e96-ff1aa11ff651"
      },
      "execution_count": 31,
      "outputs": [
        {
          "output_type": "stream",
          "name": "stdout",
          "text": [
            "[[ 9  6]\n",
            " [ 4 14]]\n",
            "              precision    recall  f1-score   support\n",
            "\n",
            "           0       0.69      0.60      0.64        15\n",
            "           1       0.70      0.78      0.74        18\n",
            "\n",
            "    accuracy                           0.70        33\n",
            "   macro avg       0.70      0.69      0.69        33\n",
            "weighted avg       0.70      0.70      0.69        33\n",
            "\n",
            "Accurecy:  0.696969696969697\n"
          ]
        }
      ]
    },
    {
      "cell_type": "markdown",
      "source": [
        "\n",
        "\n",
        "---\n",
        "\n",
        "\n",
        "\n",
        "---\n",
        "\n"
      ],
      "metadata": {
        "id": "JQhATacCo1AD"
      }
    },
    {
      "cell_type": "markdown",
      "source": [
        "#Graddient Boosting"
      ],
      "metadata": {
        "id": "FJybpt_UvCU0"
      }
    },
    {
      "cell_type": "code",
      "source": [
        "from sklearn.ensemble import GradientBoostingClassifier\n",
        "from sklearn.model_selection import RepeatedStratifiedKFold\n",
        "\n",
        "gradBoost_default = GradientBoostingClassifier(random_state=0)\n",
        "gradBoost_default.fit(X_train, y_train)\n",
        "y_pred = gradBoost_default.predict(X_test)\n",
        "\n",
        "from sklearn.metrics import classification_report, confusion_matrix, accuracy_score\n",
        "print(confusion_matrix(y_test, y_pred))\n",
        "print(classification_report(y_test,y_pred))\n",
        "print(\"Accurecy: \",accuracy_score(y_test, y_pred))\n",
        "result[(gradBoost_default,2,'GradientBoostingClassifier')]=accuracy_score(y_test, y_pred)"
      ],
      "metadata": {
        "colab": {
          "base_uri": "https://localhost:8080/"
        },
        "id": "sgmvc8A_o18j",
        "outputId": "777e7bc7-c6f5-40cd-b100-509eb09c9625"
      },
      "execution_count": 32,
      "outputs": [
        {
          "output_type": "stream",
          "name": "stdout",
          "text": [
            "[[11  4]\n",
            " [ 8 10]]\n",
            "              precision    recall  f1-score   support\n",
            "\n",
            "           0       0.58      0.73      0.65        15\n",
            "           1       0.71      0.56      0.63        18\n",
            "\n",
            "    accuracy                           0.64        33\n",
            "   macro avg       0.65      0.64      0.64        33\n",
            "weighted avg       0.65      0.64      0.64        33\n",
            "\n",
            "Accurecy:  0.6363636363636364\n"
          ]
        }
      ]
    },
    {
      "cell_type": "code",
      "source": [
        "from sklearn.ensemble import GradientBoostingClassifier\n",
        "from sklearn.metrics import accuracy_score\n",
        "N=150\n",
        "k_range = range (1,N+1)\n",
        "scores={}\n",
        "scores_list = []\n",
        "for k in k_range:\n",
        "  classifier = GradientBoostingClassifier(n_estimators=k,random_state=0)\n",
        "  classifier.fit(X_train, y_train)\n",
        "  y_pred=classifier.predict(X_test)\n",
        "  scores[k] = accuracy_score(y_test,y_pred)\n",
        "  scores_list.append(accuracy_score(y_test,y_pred))\n",
        "  print(str(k)+\"/\"+str(N)+\" round completed......................... Accurecy: \"+str(accuracy_score(y_test,y_pred)))\n",
        "\n",
        "\n",
        "\n",
        "%matplotlib inline\n",
        "import matplotlib.pyplot as plt\n",
        "\n",
        "plt.figure(figsize = (25,10))\n",
        "plt.plot(k_range,scores_list)\n",
        "plt.xlabel('Value of n_estimators')\n",
        "plt.ylabel ('Testing Accuracy')\n",
        "\n",
        "\n",
        "\n",
        "print(\"The best n_estimators:\")\n",
        "best_estimator=list(scores.keys())[scores_list.index(max(scores_list))]\n",
        "print(best_estimator)"
      ],
      "metadata": {
        "colab": {
          "base_uri": "https://localhost:8080/",
          "height": 0
        },
        "id": "9brp-qNgo-tX",
        "outputId": "0dbca6b0-3735-4e75-88fc-83d7353d85cb"
      },
      "execution_count": 33,
      "outputs": [
        {
          "output_type": "stream",
          "name": "stdout",
          "text": [
            "1/150 round completed......................... Accurecy: 0.6363636363636364\n",
            "2/150 round completed......................... Accurecy: 0.5757575757575758\n",
            "3/150 round completed......................... Accurecy: 0.5454545454545454\n",
            "4/150 round completed......................... Accurecy: 0.5757575757575758\n",
            "5/150 round completed......................... Accurecy: 0.5757575757575758\n",
            "6/150 round completed......................... Accurecy: 0.6060606060606061\n",
            "7/150 round completed......................... Accurecy: 0.6363636363636364\n",
            "8/150 round completed......................... Accurecy: 0.6666666666666666\n",
            "9/150 round completed......................... Accurecy: 0.6363636363636364\n",
            "10/150 round completed......................... Accurecy: 0.6363636363636364\n",
            "11/150 round completed......................... Accurecy: 0.6060606060606061\n",
            "12/150 round completed......................... Accurecy: 0.6060606060606061\n",
            "13/150 round completed......................... Accurecy: 0.6060606060606061\n",
            "14/150 round completed......................... Accurecy: 0.6060606060606061\n",
            "15/150 round completed......................... Accurecy: 0.6060606060606061\n",
            "16/150 round completed......................... Accurecy: 0.6060606060606061\n",
            "17/150 round completed......................... Accurecy: 0.6060606060606061\n",
            "18/150 round completed......................... Accurecy: 0.6060606060606061\n",
            "19/150 round completed......................... Accurecy: 0.6060606060606061\n",
            "20/150 round completed......................... Accurecy: 0.6060606060606061\n",
            "21/150 round completed......................... Accurecy: 0.6060606060606061\n",
            "22/150 round completed......................... Accurecy: 0.6060606060606061\n",
            "23/150 round completed......................... Accurecy: 0.6060606060606061\n",
            "24/150 round completed......................... Accurecy: 0.6060606060606061\n",
            "25/150 round completed......................... Accurecy: 0.6060606060606061\n",
            "26/150 round completed......................... Accurecy: 0.6060606060606061\n",
            "27/150 round completed......................... Accurecy: 0.6060606060606061\n",
            "28/150 round completed......................... Accurecy: 0.6060606060606061\n",
            "29/150 round completed......................... Accurecy: 0.6060606060606061\n",
            "30/150 round completed......................... Accurecy: 0.6060606060606061\n",
            "31/150 round completed......................... Accurecy: 0.6060606060606061\n",
            "32/150 round completed......................... Accurecy: 0.6363636363636364\n",
            "33/150 round completed......................... Accurecy: 0.6363636363636364\n",
            "34/150 round completed......................... Accurecy: 0.5757575757575758\n",
            "35/150 round completed......................... Accurecy: 0.5757575757575758\n",
            "36/150 round completed......................... Accurecy: 0.5757575757575758\n",
            "37/150 round completed......................... Accurecy: 0.5757575757575758\n",
            "38/150 round completed......................... Accurecy: 0.5757575757575758\n",
            "39/150 round completed......................... Accurecy: 0.5757575757575758\n",
            "40/150 round completed......................... Accurecy: 0.5757575757575758\n",
            "41/150 round completed......................... Accurecy: 0.6060606060606061\n",
            "42/150 round completed......................... Accurecy: 0.6060606060606061\n",
            "43/150 round completed......................... Accurecy: 0.6060606060606061\n",
            "44/150 round completed......................... Accurecy: 0.6060606060606061\n",
            "45/150 round completed......................... Accurecy: 0.6060606060606061\n",
            "46/150 round completed......................... Accurecy: 0.6060606060606061\n",
            "47/150 round completed......................... Accurecy: 0.6060606060606061\n",
            "48/150 round completed......................... Accurecy: 0.6060606060606061\n",
            "49/150 round completed......................... Accurecy: 0.6060606060606061\n",
            "50/150 round completed......................... Accurecy: 0.6060606060606061\n",
            "51/150 round completed......................... Accurecy: 0.6060606060606061\n",
            "52/150 round completed......................... Accurecy: 0.6060606060606061\n",
            "53/150 round completed......................... Accurecy: 0.6060606060606061\n",
            "54/150 round completed......................... Accurecy: 0.6060606060606061\n",
            "55/150 round completed......................... Accurecy: 0.6060606060606061\n",
            "56/150 round completed......................... Accurecy: 0.6060606060606061\n",
            "57/150 round completed......................... Accurecy: 0.6060606060606061\n",
            "58/150 round completed......................... Accurecy: 0.6060606060606061\n",
            "59/150 round completed......................... Accurecy: 0.6060606060606061\n",
            "60/150 round completed......................... Accurecy: 0.6060606060606061\n",
            "61/150 round completed......................... Accurecy: 0.6060606060606061\n",
            "62/150 round completed......................... Accurecy: 0.6060606060606061\n",
            "63/150 round completed......................... Accurecy: 0.6060606060606061\n",
            "64/150 round completed......................... Accurecy: 0.6060606060606061\n",
            "65/150 round completed......................... Accurecy: 0.6060606060606061\n",
            "66/150 round completed......................... Accurecy: 0.6060606060606061\n",
            "67/150 round completed......................... Accurecy: 0.6060606060606061\n",
            "68/150 round completed......................... Accurecy: 0.6060606060606061\n",
            "69/150 round completed......................... Accurecy: 0.6060606060606061\n",
            "70/150 round completed......................... Accurecy: 0.6060606060606061\n",
            "71/150 round completed......................... Accurecy: 0.6060606060606061\n",
            "72/150 round completed......................... Accurecy: 0.6060606060606061\n",
            "73/150 round completed......................... Accurecy: 0.6060606060606061\n",
            "74/150 round completed......................... Accurecy: 0.6060606060606061\n",
            "75/150 round completed......................... Accurecy: 0.6060606060606061\n",
            "76/150 round completed......................... Accurecy: 0.6060606060606061\n",
            "77/150 round completed......................... Accurecy: 0.6060606060606061\n",
            "78/150 round completed......................... Accurecy: 0.6060606060606061\n",
            "79/150 round completed......................... Accurecy: 0.6060606060606061\n",
            "80/150 round completed......................... Accurecy: 0.6060606060606061\n",
            "81/150 round completed......................... Accurecy: 0.6060606060606061\n",
            "82/150 round completed......................... Accurecy: 0.6060606060606061\n",
            "83/150 round completed......................... Accurecy: 0.6060606060606061\n",
            "84/150 round completed......................... Accurecy: 0.6060606060606061\n",
            "85/150 round completed......................... Accurecy: 0.5757575757575758\n",
            "86/150 round completed......................... Accurecy: 0.6060606060606061\n",
            "87/150 round completed......................... Accurecy: 0.6060606060606061\n",
            "88/150 round completed......................... Accurecy: 0.6060606060606061\n",
            "89/150 round completed......................... Accurecy: 0.5757575757575758\n",
            "90/150 round completed......................... Accurecy: 0.5757575757575758\n",
            "91/150 round completed......................... Accurecy: 0.5757575757575758\n",
            "92/150 round completed......................... Accurecy: 0.5757575757575758\n",
            "93/150 round completed......................... Accurecy: 0.5757575757575758\n",
            "94/150 round completed......................... Accurecy: 0.5757575757575758\n",
            "95/150 round completed......................... Accurecy: 0.5757575757575758\n",
            "96/150 round completed......................... Accurecy: 0.5757575757575758\n",
            "97/150 round completed......................... Accurecy: 0.6060606060606061\n",
            "98/150 round completed......................... Accurecy: 0.5757575757575758\n",
            "99/150 round completed......................... Accurecy: 0.5757575757575758\n",
            "100/150 round completed......................... Accurecy: 0.6363636363636364\n",
            "101/150 round completed......................... Accurecy: 0.6363636363636364\n",
            "102/150 round completed......................... Accurecy: 0.6363636363636364\n",
            "103/150 round completed......................... Accurecy: 0.5757575757575758\n",
            "104/150 round completed......................... Accurecy: 0.6060606060606061\n",
            "105/150 round completed......................... Accurecy: 0.6060606060606061\n",
            "106/150 round completed......................... Accurecy: 0.5757575757575758\n",
            "107/150 round completed......................... Accurecy: 0.5757575757575758\n",
            "108/150 round completed......................... Accurecy: 0.5757575757575758\n",
            "109/150 round completed......................... Accurecy: 0.5757575757575758\n",
            "110/150 round completed......................... Accurecy: 0.6060606060606061\n",
            "111/150 round completed......................... Accurecy: 0.5757575757575758\n",
            "112/150 round completed......................... Accurecy: 0.5757575757575758\n",
            "113/150 round completed......................... Accurecy: 0.5757575757575758\n",
            "114/150 round completed......................... Accurecy: 0.5757575757575758\n",
            "115/150 round completed......................... Accurecy: 0.5757575757575758\n",
            "116/150 round completed......................... Accurecy: 0.5757575757575758\n",
            "117/150 round completed......................... Accurecy: 0.5757575757575758\n",
            "118/150 round completed......................... Accurecy: 0.5757575757575758\n",
            "119/150 round completed......................... Accurecy: 0.6060606060606061\n",
            "120/150 round completed......................... Accurecy: 0.6060606060606061\n",
            "121/150 round completed......................... Accurecy: 0.6060606060606061\n",
            "122/150 round completed......................... Accurecy: 0.6060606060606061\n",
            "123/150 round completed......................... Accurecy: 0.6060606060606061\n",
            "124/150 round completed......................... Accurecy: 0.6060606060606061\n",
            "125/150 round completed......................... Accurecy: 0.6060606060606061\n",
            "126/150 round completed......................... Accurecy: 0.6060606060606061\n",
            "127/150 round completed......................... Accurecy: 0.6060606060606061\n",
            "128/150 round completed......................... Accurecy: 0.6060606060606061\n",
            "129/150 round completed......................... Accurecy: 0.6060606060606061\n",
            "130/150 round completed......................... Accurecy: 0.6060606060606061\n",
            "131/150 round completed......................... Accurecy: 0.5757575757575758\n",
            "132/150 round completed......................... Accurecy: 0.5757575757575758\n",
            "133/150 round completed......................... Accurecy: 0.5757575757575758\n",
            "134/150 round completed......................... Accurecy: 0.6060606060606061\n",
            "135/150 round completed......................... Accurecy: 0.6060606060606061\n",
            "136/150 round completed......................... Accurecy: 0.6060606060606061\n",
            "137/150 round completed......................... Accurecy: 0.6060606060606061\n",
            "138/150 round completed......................... Accurecy: 0.6060606060606061\n",
            "139/150 round completed......................... Accurecy: 0.6060606060606061\n",
            "140/150 round completed......................... Accurecy: 0.5757575757575758\n",
            "141/150 round completed......................... Accurecy: 0.5757575757575758\n",
            "142/150 round completed......................... Accurecy: 0.5757575757575758\n",
            "143/150 round completed......................... Accurecy: 0.5757575757575758\n",
            "144/150 round completed......................... Accurecy: 0.5757575757575758\n",
            "145/150 round completed......................... Accurecy: 0.5757575757575758\n",
            "146/150 round completed......................... Accurecy: 0.5757575757575758\n",
            "147/150 round completed......................... Accurecy: 0.5757575757575758\n",
            "148/150 round completed......................... Accurecy: 0.5757575757575758\n",
            "149/150 round completed......................... Accurecy: 0.5757575757575758\n",
            "150/150 round completed......................... Accurecy: 0.5757575757575758\n",
            "The best n_estimators:\n",
            "8\n"
          ]
        },
        {
          "output_type": "display_data",
          "data": {
            "text/plain": [
              "<Figure size 1800x720 with 1 Axes>"
            ],
            "image/png": "[encoded data removed]"
          },
          "metadata": {
            "needs_background": "light"
          }
        }
      ]
    },
    {
      "cell_type": "code",
      "source": [
        "from sklearn.ensemble import GradientBoostingClassifier\n",
        "from sklearn.metrics import accuracy_score\n",
        "N=30\n",
        "k_range = range (1,N+1)\n",
        "scores={}\n",
        "scores_list = []\n",
        "for k in k_range:\n",
        "  classifier = GradientBoostingClassifier(max_depth=k,random_state=0)\n",
        "  classifier.fit(X_train, y_train)\n",
        "  y_pred=classifier.predict(X_test)\n",
        "  scores[k] = accuracy_score(y_test,y_pred)\n",
        "  scores_list.append(accuracy_score(y_test,y_pred))\n",
        "  print(str(k)+\"/\"+str(N)+\" round completed......................... Accurecy: \"+str(accuracy_score(y_test,y_pred)))\n",
        "\n",
        "\n",
        "\n",
        "%matplotlib inline\n",
        "import matplotlib.pyplot as plt\n",
        "\n",
        "plt.figure(figsize = (25,10))\n",
        "plt.plot(k_range,scores_list)\n",
        "plt.xlabel('Value of n_estimators')\n",
        "plt.ylabel ('Testing Accuracy')\n",
        "\n",
        "\n",
        "\n",
        "print(\"The best Depth:\")\n",
        "best_depth=list(scores.keys())[scores_list.index(max(scores_list))]\n",
        "print(best_depth)"
      ],
      "metadata": {
        "colab": {
          "base_uri": "https://localhost:8080/",
          "height": 0
        },
        "id": "JtO5QAkHpDAy",
        "outputId": "16e4856e-4104-46ee-eb34-74b02b61a104"
      },
      "execution_count": 34,
      "outputs": [
        {
          "output_type": "stream",
          "name": "stdout",
          "text": [
            "1/30 round completed......................... Accurecy: 0.6060606060606061\n",
            "2/30 round completed......................... Accurecy: 0.5454545454545454\n",
            "3/30 round completed......................... Accurecy: 0.6363636363636364\n",
            "4/30 round completed......................... Accurecy: 0.6060606060606061\n",
            "5/30 round completed......................... Accurecy: 0.6060606060606061\n",
            "6/30 round completed......................... Accurecy: 0.5151515151515151\n",
            "7/30 round completed......................... Accurecy: 0.5454545454545454\n",
            "8/30 round completed......................... Accurecy: 0.5151515151515151\n",
            "9/30 round completed......................... Accurecy: 0.5151515151515151\n",
            "10/30 round completed......................... Accurecy: 0.5151515151515151\n",
            "11/30 round completed......................... Accurecy: 0.5151515151515151\n",
            "12/30 round completed......................... Accurecy: 0.5151515151515151\n",
            "13/30 round completed......................... Accurecy: 0.5151515151515151\n",
            "14/30 round completed......................... Accurecy: 0.5151515151515151\n",
            "15/30 round completed......................... Accurecy: 0.5151515151515151\n",
            "16/30 round completed......................... Accurecy: 0.5151515151515151\n",
            "17/30 round completed......................... Accurecy: 0.5151515151515151\n",
            "18/30 round completed......................... Accurecy: 0.5151515151515151\n",
            "19/30 round completed......................... Accurecy: 0.5151515151515151\n",
            "20/30 round completed......................... Accurecy: 0.5151515151515151\n",
            "21/30 round completed......................... Accurecy: 0.5151515151515151\n",
            "22/30 round completed......................... Accurecy: 0.5151515151515151\n",
            "23/30 round completed......................... Accurecy: 0.5151515151515151\n",
            "24/30 round completed......................... Accurecy: 0.5151515151515151\n",
            "25/30 round completed......................... Accurecy: 0.5151515151515151\n",
            "26/30 round completed......................... Accurecy: 0.5151515151515151\n",
            "27/30 round completed......................... Accurecy: 0.5151515151515151\n",
            "28/30 round completed......................... Accurecy: 0.5151515151515151\n",
            "29/30 round completed......................... Accurecy: 0.5151515151515151\n",
            "30/30 round completed......................... Accurecy: 0.5151515151515151\n",
            "The best Depth:\n",
            "3\n"
          ]
        },
        {
          "output_type": "display_data",
          "data": {
            "text/plain": [
              "<Figure size 1800x720 with 1 Axes>"
            ],
            "image/png": "[encoded data removed]"
          },
          "metadata": {
            "needs_background": "light"
          }
        }
      ]
    },
    {
      "cell_type": "code",
      "source": [
        "from sklearn.ensemble import GradientBoostingClassifier\n",
        "\n",
        "gradBoost_estimator = GradientBoostingClassifier(n_estimators=best_estimator,random_state=0)\n",
        "gradBoost_estimator.fit(X_train, y_train)\n",
        "y_pred = gradBoost_estimator.predict(X_test)\n",
        "\n",
        "from sklearn.metrics import classification_report, confusion_matrix, accuracy_score\n",
        "print(confusion_matrix(y_test, y_pred))\n",
        "print(classification_report(y_test,y_pred))\n",
        "print(\"Accurecy: \",accuracy_score(y_test, y_pred))\n",
        "result[(gradBoost_estimator,2,'GradientBoostingClassifier')]=accuracy_score(y_test, y_pred)"
      ],
      "metadata": {
        "colab": {
          "base_uri": "https://localhost:8080/"
        },
        "id": "EFg4mMYepGXx",
        "outputId": "25e2b2a4-8c98-429c-f61c-83750e35034c"
      },
      "execution_count": 35,
      "outputs": [
        {
          "output_type": "stream",
          "name": "stdout",
          "text": [
            "[[12  3]\n",
            " [ 8 10]]\n",
            "              precision    recall  f1-score   support\n",
            "\n",
            "           0       0.60      0.80      0.69        15\n",
            "           1       0.77      0.56      0.65        18\n",
            "\n",
            "    accuracy                           0.67        33\n",
            "   macro avg       0.68      0.68      0.67        33\n",
            "weighted avg       0.69      0.67      0.66        33\n",
            "\n",
            "Accurecy:  0.6666666666666666\n"
          ]
        }
      ]
    },
    {
      "cell_type": "code",
      "source": [
        "from sklearn.ensemble import GradientBoostingClassifier\n",
        "\n",
        "gradBoost_depth = GradientBoostingClassifier(max_depth=best_depth,random_state=0)\n",
        "gradBoost_depth.fit(X_train, y_train)\n",
        "y_pred = gradBoost_depth.predict(X_test)\n",
        "\n",
        "from sklearn.metrics import classification_report, confusion_matrix, accuracy_score\n",
        "print(confusion_matrix(y_test, y_pred))\n",
        "print(classification_report(y_test,y_pred))\n",
        "print(\"Accurecy: \",accuracy_score(y_test, y_pred))\n",
        "\n",
        "result[(gradBoost_depth,2,'GradientBoostingClassifier')]=accuracy_score(y_test, y_pred)"
      ],
      "metadata": {
        "colab": {
          "base_uri": "https://localhost:8080/"
        },
        "id": "oS_ycrCQpI09",
        "outputId": "6ce87504-ff6a-487d-b8b1-549ec978d3fe"
      },
      "execution_count": 36,
      "outputs": [
        {
          "output_type": "stream",
          "name": "stdout",
          "text": [
            "[[11  4]\n",
            " [ 8 10]]\n",
            "              precision    recall  f1-score   support\n",
            "\n",
            "           0       0.58      0.73      0.65        15\n",
            "           1       0.71      0.56      0.63        18\n",
            "\n",
            "    accuracy                           0.64        33\n",
            "   macro avg       0.65      0.64      0.64        33\n",
            "weighted avg       0.65      0.64      0.64        33\n",
            "\n",
            "Accurecy:  0.6363636363636364\n"
          ]
        }
      ]
    },
    {
      "cell_type": "code",
      "source": [
        "from sklearn.ensemble import GradientBoostingClassifier\n",
        "\n",
        "gradBoost_all = GradientBoostingClassifier(n_estimators=best_estimator,max_depth=best_depth,random_state=0)\n",
        "gradBoost_all.fit(X_train, y_train)\n",
        "y_pred = gradBoost_all.predict(X_test)\n",
        "\n",
        "from sklearn.metrics import classification_report, confusion_matrix, accuracy_score\n",
        "print(confusion_matrix(y_test, y_pred))\n",
        "print(classification_report(y_test,y_pred))\n",
        "print(\"Accurecy: \",accuracy_score(y_test, y_pred))\n",
        "\n",
        "result[(gradBoost_all,2,'GradientBoostingClassifier')]=accuracy_score(y_test, y_pred)"
      ],
      "metadata": {
        "colab": {
          "base_uri": "https://localhost:8080/"
        },
        "id": "GU8wNje3pJjR",
        "outputId": "da881245-e550-4f3d-d6aa-bc21e070f470"
      },
      "execution_count": 37,
      "outputs": [
        {
          "output_type": "stream",
          "name": "stdout",
          "text": [
            "[[12  3]\n",
            " [ 8 10]]\n",
            "              precision    recall  f1-score   support\n",
            "\n",
            "           0       0.60      0.80      0.69        15\n",
            "           1       0.77      0.56      0.65        18\n",
            "\n",
            "    accuracy                           0.67        33\n",
            "   macro avg       0.68      0.68      0.67        33\n",
            "weighted avg       0.69      0.67      0.66        33\n",
            "\n",
            "Accurecy:  0.6666666666666666\n"
          ]
        }
      ]
    },
    {
      "cell_type": "markdown",
      "source": [
        "\n",
        "\n",
        "---\n",
        "\n",
        "\n",
        "\n",
        "---\n",
        "\n"
      ],
      "metadata": {
        "id": "ThoTlhc4pRJT"
      }
    },
    {
      "cell_type": "markdown",
      "source": [
        "#Random Forest"
      ],
      "metadata": {
        "id": "AgMT_U8gvM7F"
      }
    },
    {
      "cell_type": "code",
      "source": [
        "from sklearn.ensemble import RandomForestClassifier\n",
        "rf_default = RandomForestClassifier(random_state=0)\n",
        "rf_default.fit(X_train, y_train)\n",
        "y_pred=rf_default.predict(X_test)\n",
        "\n",
        "\n",
        "from sklearn.metrics import classification_report, confusion_matrix, accuracy_score\n",
        "print(confusion_matrix(y_test, y_pred))\n",
        "print(classification_report(y_test,y_pred))\n",
        "print(\"Accurecy: \",accuracy_score(y_test, y_pred))\n",
        "result[(rf_default,3,'RandomForestClassifier')]=accuracy_score(y_test, y_pred)"
      ],
      "metadata": {
        "colab": {
          "base_uri": "https://localhost:8080/"
        },
        "id": "-4GMunEvtWk2",
        "outputId": "58355b7e-5c0e-4a9e-8d66-349a5e85c509"
      },
      "execution_count": 38,
      "outputs": [
        {
          "output_type": "stream",
          "name": "stdout",
          "text": [
            "[[12  3]\n",
            " [ 7 11]]\n",
            "              precision    recall  f1-score   support\n",
            "\n",
            "           0       0.63      0.80      0.71        15\n",
            "           1       0.79      0.61      0.69        18\n",
            "\n",
            "    accuracy                           0.70        33\n",
            "   macro avg       0.71      0.71      0.70        33\n",
            "weighted avg       0.72      0.70      0.70        33\n",
            "\n",
            "Accurecy:  0.696969696969697\n"
          ]
        }
      ]
    },
    {
      "cell_type": "code",
      "source": [
        "from sklearn.ensemble import RandomForestClassifier\n",
        "from sklearn.metrics import accuracy_score\n",
        "N=150\n",
        "k_range = range (1,N+1)\n",
        "scores={}\n",
        "scores_list = []\n",
        "for k in k_range:\n",
        "  classifier = RandomForestClassifier(n_estimators=k,random_state=0)\n",
        "  classifier.fit(X_train, y_train)\n",
        "  y_pred=classifier.predict(X_test)\n",
        "  scores[k] = accuracy_score(y_test,y_pred)\n",
        "  scores_list.append(accuracy_score(y_test,y_pred))\n",
        "  print(str(k)+\"/\"+str(N)+\" round completed......................... Accurecy: \"+str(accuracy_score(y_test,y_pred)))\n",
        "\n",
        "\n",
        "\n",
        "%matplotlib inline\n",
        "import matplotlib.pyplot as plt\n",
        "\n",
        "plt.figure(figsize = (25,10))\n",
        "plt.plot(k_range,scores_list)\n",
        "plt.xlabel('Value of n_estimators')\n",
        "plt.ylabel ('Testing Accuracy')\n",
        "\n",
        "\n",
        "\n",
        "print(\"The best n_estimators:\")\n",
        "best_estimator=list(scores.keys())[scores_list.index(max(scores_list))]\n",
        "print(best_estimator)"
      ],
      "metadata": {
        "colab": {
          "base_uri": "https://localhost:8080/",
          "height": 0
        },
        "id": "ve34YgestieE",
        "outputId": "c5f54561-fda8-4ab7-bcfb-24fccbacf3da"
      },
      "execution_count": 39,
      "outputs": [
        {
          "output_type": "stream",
          "name": "stdout",
          "text": [
            "1/150 round completed......................... Accurecy: 0.7878787878787878\n",
            "2/150 round completed......................... Accurecy: 0.696969696969697\n",
            "3/150 round completed......................... Accurecy: 0.6363636363636364\n",
            "4/150 round completed......................... Accurecy: 0.6060606060606061\n",
            "5/150 round completed......................... Accurecy: 0.6363636363636364\n",
            "6/150 round completed......................... Accurecy: 0.6060606060606061\n",
            "7/150 round completed......................... Accurecy: 0.6060606060606061\n",
            "8/150 round completed......................... Accurecy: 0.6060606060606061\n",
            "9/150 round completed......................... Accurecy: 0.6666666666666666\n",
            "10/150 round completed......................... Accurecy: 0.6666666666666666\n",
            "11/150 round completed......................... Accurecy: 0.696969696969697\n",
            "12/150 round completed......................... Accurecy: 0.6666666666666666\n",
            "13/150 round completed......................... Accurecy: 0.696969696969697\n",
            "14/150 round completed......................... Accurecy: 0.6363636363636364\n",
            "15/150 round completed......................... Accurecy: 0.6666666666666666\n",
            "16/150 round completed......................... Accurecy: 0.6666666666666666\n",
            "17/150 round completed......................... Accurecy: 0.6666666666666666\n",
            "18/150 round completed......................... Accurecy: 0.6666666666666666\n",
            "19/150 round completed......................... Accurecy: 0.6666666666666666\n",
            "20/150 round completed......................... Accurecy: 0.6666666666666666\n",
            "21/150 round completed......................... Accurecy: 0.6666666666666666\n",
            "22/150 round completed......................... Accurecy: 0.696969696969697\n",
            "23/150 round completed......................... Accurecy: 0.6666666666666666\n",
            "24/150 round completed......................... Accurecy: 0.6666666666666666\n",
            "25/150 round completed......................... Accurecy: 0.6666666666666666\n",
            "26/150 round completed......................... Accurecy: 0.6666666666666666\n",
            "27/150 round completed......................... Accurecy: 0.696969696969697\n",
            "28/150 round completed......................... Accurecy: 0.696969696969697\n",
            "29/150 round completed......................... Accurecy: 0.6666666666666666\n",
            "30/150 round completed......................... Accurecy: 0.6363636363636364\n",
            "31/150 round completed......................... Accurecy: 0.6666666666666666\n",
            "32/150 round completed......................... Accurecy: 0.6363636363636364\n",
            "33/150 round completed......................... Accurecy: 0.6666666666666666\n",
            "34/150 round completed......................... Accurecy: 0.696969696969697\n",
            "35/150 round completed......................... Accurecy: 0.696969696969697\n",
            "36/150 round completed......................... Accurecy: 0.696969696969697\n",
            "37/150 round completed......................... Accurecy: 0.696969696969697\n",
            "38/150 round completed......................... Accurecy: 0.696969696969697\n",
            "39/150 round completed......................... Accurecy: 0.696969696969697\n",
            "40/150 round completed......................... Accurecy: 0.696969696969697\n",
            "41/150 round completed......................... Accurecy: 0.696969696969697\n",
            "42/150 round completed......................... Accurecy: 0.696969696969697\n",
            "43/150 round completed......................... Accurecy: 0.696969696969697\n",
            "44/150 round completed......................... Accurecy: 0.696969696969697\n",
            "45/150 round completed......................... Accurecy: 0.696969696969697\n",
            "46/150 round completed......................... Accurecy: 0.696969696969697\n",
            "47/150 round completed......................... Accurecy: 0.696969696969697\n",
            "48/150 round completed......................... Accurecy: 0.696969696969697\n",
            "49/150 round completed......................... Accurecy: 0.696969696969697\n",
            "50/150 round completed......................... Accurecy: 0.696969696969697\n",
            "51/150 round completed......................... Accurecy: 0.696969696969697\n",
            "52/150 round completed......................... Accurecy: 0.6666666666666666\n",
            "53/150 round completed......................... Accurecy: 0.696969696969697\n",
            "54/150 round completed......................... Accurecy: 0.696969696969697\n",
            "55/150 round completed......................... Accurecy: 0.696969696969697\n",
            "56/150 round completed......................... Accurecy: 0.696969696969697\n",
            "57/150 round completed......................... Accurecy: 0.696969696969697\n",
            "58/150 round completed......................... Accurecy: 0.6666666666666666\n",
            "59/150 round completed......................... Accurecy: 0.6666666666666666\n",
            "60/150 round completed......................... Accurecy: 0.6666666666666666\n",
            "61/150 round completed......................... Accurecy: 0.6666666666666666\n",
            "62/150 round completed......................... Accurecy: 0.6666666666666666\n",
            "63/150 round completed......................... Accurecy: 0.6666666666666666\n",
            "64/150 round completed......................... Accurecy: 0.6666666666666666\n",
            "65/150 round completed......................... Accurecy: 0.6666666666666666\n",
            "66/150 round completed......................... Accurecy: 0.6666666666666666\n",
            "67/150 round completed......................... Accurecy: 0.696969696969697\n",
            "68/150 round completed......................... Accurecy: 0.696969696969697\n",
            "69/150 round completed......................... Accurecy: 0.696969696969697\n",
            "70/150 round completed......................... Accurecy: 0.696969696969697\n",
            "71/150 round completed......................... Accurecy: 0.696969696969697\n",
            "72/150 round completed......................... Accurecy: 0.696969696969697\n",
            "73/150 round completed......................... Accurecy: 0.696969696969697\n",
            "74/150 round completed......................... Accurecy: 0.696969696969697\n",
            "75/150 round completed......................... Accurecy: 0.696969696969697\n",
            "76/150 round completed......................... Accurecy: 0.6666666666666666\n",
            "77/150 round completed......................... Accurecy: 0.6666666666666666\n",
            "78/150 round completed......................... Accurecy: 0.6666666666666666\n",
            "79/150 round completed......................... Accurecy: 0.6666666666666666\n",
            "80/150 round completed......................... Accurecy: 0.6666666666666666\n",
            "81/150 round completed......................... Accurecy: 0.696969696969697\n",
            "82/150 round completed......................... Accurecy: 0.696969696969697\n",
            "83/150 round completed......................... Accurecy: 0.696969696969697\n",
            "84/150 round completed......................... Accurecy: 0.696969696969697\n",
            "85/150 round completed......................... Accurecy: 0.696969696969697\n",
            "86/150 round completed......................... Accurecy: 0.696969696969697\n",
            "87/150 round completed......................... Accurecy: 0.696969696969697\n",
            "88/150 round completed......................... Accurecy: 0.6666666666666666\n",
            "89/150 round completed......................... Accurecy: 0.6666666666666666\n",
            "90/150 round completed......................... Accurecy: 0.6666666666666666\n",
            "91/150 round completed......................... Accurecy: 0.6666666666666666\n",
            "92/150 round completed......................... Accurecy: 0.6666666666666666\n",
            "93/150 round completed......................... Accurecy: 0.696969696969697\n",
            "94/150 round completed......................... Accurecy: 0.696969696969697\n",
            "95/150 round completed......................... Accurecy: 0.696969696969697\n",
            "96/150 round completed......................... Accurecy: 0.696969696969697\n",
            "97/150 round completed......................... Accurecy: 0.696969696969697\n",
            "98/150 round completed......................... Accurecy: 0.696969696969697\n",
            "99/150 round completed......................... Accurecy: 0.696969696969697\n",
            "100/150 round completed......................... Accurecy: 0.696969696969697\n",
            "101/150 round completed......................... Accurecy: 0.696969696969697\n",
            "102/150 round completed......................... Accurecy: 0.696969696969697\n",
            "103/150 round completed......................... Accurecy: 0.696969696969697\n",
            "104/150 round completed......................... Accurecy: 0.696969696969697\n",
            "105/150 round completed......................... Accurecy: 0.696969696969697\n",
            "106/150 round completed......................... Accurecy: 0.696969696969697\n",
            "107/150 round completed......................... Accurecy: 0.696969696969697\n",
            "108/150 round completed......................... Accurecy: 0.696969696969697\n",
            "109/150 round completed......................... Accurecy: 0.696969696969697\n",
            "110/150 round completed......................... Accurecy: 0.696969696969697\n",
            "111/150 round completed......................... Accurecy: 0.696969696969697\n",
            "112/150 round completed......................... Accurecy: 0.696969696969697\n",
            "113/150 round completed......................... Accurecy: 0.696969696969697\n",
            "114/150 round completed......................... Accurecy: 0.696969696969697\n",
            "115/150 round completed......................... Accurecy: 0.696969696969697\n",
            "116/150 round completed......................... Accurecy: 0.696969696969697\n",
            "117/150 round completed......................... Accurecy: 0.696969696969697\n",
            "118/150 round completed......................... Accurecy: 0.696969696969697\n",
            "119/150 round completed......................... Accurecy: 0.696969696969697\n",
            "120/150 round completed......................... Accurecy: 0.696969696969697\n",
            "121/150 round completed......................... Accurecy: 0.696969696969697\n",
            "122/150 round completed......................... Accurecy: 0.696969696969697\n",
            "123/150 round completed......................... Accurecy: 0.696969696969697\n",
            "124/150 round completed......................... Accurecy: 0.696969696969697\n",
            "125/150 round completed......................... Accurecy: 0.696969696969697\n",
            "126/150 round completed......................... Accurecy: 0.696969696969697\n",
            "127/150 round completed......................... Accurecy: 0.696969696969697\n",
            "128/150 round completed......................... Accurecy: 0.696969696969697\n",
            "129/150 round completed......................... Accurecy: 0.696969696969697\n",
            "130/150 round completed......................... Accurecy: 0.696969696969697\n",
            "131/150 round completed......................... Accurecy: 0.696969696969697\n",
            "132/150 round completed......................... Accurecy: 0.696969696969697\n",
            "133/150 round completed......................... Accurecy: 0.696969696969697\n",
            "134/150 round completed......................... Accurecy: 0.696969696969697\n",
            "135/150 round completed......................... Accurecy: 0.696969696969697\n",
            "136/150 round completed......................... Accurecy: 0.696969696969697\n",
            "137/150 round completed......................... Accurecy: 0.696969696969697\n",
            "138/150 round completed......................... Accurecy: 0.696969696969697\n",
            "139/150 round completed......................... Accurecy: 0.696969696969697\n",
            "140/150 round completed......................... Accurecy: 0.696969696969697\n",
            "141/150 round completed......................... Accurecy: 0.696969696969697\n",
            "142/150 round completed......................... Accurecy: 0.696969696969697\n",
            "143/150 round completed......................... Accurecy: 0.696969696969697\n",
            "144/150 round completed......................... Accurecy: 0.696969696969697\n",
            "145/150 round completed......................... Accurecy: 0.696969696969697\n",
            "146/150 round completed......................... Accurecy: 0.696969696969697\n",
            "147/150 round completed......................... Accurecy: 0.696969696969697\n",
            "148/150 round completed......................... Accurecy: 0.696969696969697\n",
            "149/150 round completed......................... Accurecy: 0.696969696969697\n",
            "150/150 round completed......................... Accurecy: 0.696969696969697\n",
            "The best n_estimators:\n",
            "1\n"
          ]
        },
        {
          "output_type": "display_data",
          "data": {
            "text/plain": [
              "<Figure size 1800x720 with 1 Axes>"
            ],
            "image/png": "[encoded data removed]"
          },
          "metadata": {
            "needs_background": "light"
          }
        }
      ]
    },
    {
      "cell_type": "code",
      "source": [
        "from sklearn.ensemble import RandomForestClassifier\n",
        "from sklearn.metrics import accuracy_score\n",
        "N=150\n",
        "k_range = range (1,N+1)\n",
        "scores={}\n",
        "scores_list = []\n",
        "for k in k_range:\n",
        "  classifier = RandomForestClassifier(max_depth=k,random_state=0)\n",
        "  classifier.fit(X_train, y_train)\n",
        "  y_pred=classifier.predict(X_test)\n",
        "  scores[k] = accuracy_score(y_test,y_pred)\n",
        "  scores_list.append(accuracy_score(y_test,y_pred))\n",
        "  print(str(k)+\"/\"+str(N)+\" round completed......................... Accurecy: \"+str(accuracy_score(y_test,y_pred)))\n",
        "\n",
        "\n",
        "\n",
        "%matplotlib inline\n",
        "import matplotlib.pyplot as plt\n",
        "\n",
        "plt.figure(figsize = (25,10))\n",
        "plt.plot(k_range,scores_list)\n",
        "plt.xlabel('Value of n_estimators')\n",
        "plt.ylabel ('Testing Accuracy')\n",
        "\n",
        "\n",
        "\n",
        "print(\"The best Depth:\")\n",
        "best_depth=list(scores.keys())[scores_list.index(max(scores_list))]\n",
        "print(best_depth)"
      ],
      "metadata": {
        "colab": {
          "base_uri": "https://localhost:8080/",
          "height": 0
        },
        "id": "eVfKbSTWtnny",
        "outputId": "b0df3ce0-53a5-4b6e-c2e8-2939c345686d"
      },
      "execution_count": 40,
      "outputs": [
        {
          "output_type": "stream",
          "name": "stdout",
          "text": [
            "1/150 round completed......................... Accurecy: 0.6666666666666666\n",
            "2/150 round completed......................... Accurecy: 0.6666666666666666\n",
            "3/150 round completed......................... Accurecy: 0.696969696969697\n",
            "4/150 round completed......................... Accurecy: 0.6666666666666666\n",
            "5/150 round completed......................... Accurecy: 0.6666666666666666\n",
            "6/150 round completed......................... Accurecy: 0.6666666666666666\n",
            "7/150 round completed......................... Accurecy: 0.696969696969697\n",
            "8/150 round completed......................... Accurecy: 0.696969696969697\n",
            "9/150 round completed......................... Accurecy: 0.696969696969697\n",
            "10/150 round completed......................... Accurecy: 0.696969696969697\n",
            "11/150 round completed......................... Accurecy: 0.696969696969697\n",
            "12/150 round completed......................... Accurecy: 0.696969696969697\n",
            "13/150 round completed......................... Accurecy: 0.696969696969697\n",
            "14/150 round completed......................... Accurecy: 0.696969696969697\n",
            "15/150 round completed......................... Accurecy: 0.696969696969697\n",
            "16/150 round completed......................... Accurecy: 0.696969696969697\n",
            "17/150 round completed......................... Accurecy: 0.696969696969697\n",
            "18/150 round completed......................... Accurecy: 0.696969696969697\n",
            "19/150 round completed......................... Accurecy: 0.696969696969697\n",
            "20/150 round completed......................... Accurecy: 0.696969696969697\n",
            "21/150 round completed......................... Accurecy: 0.696969696969697\n",
            "22/150 round completed......................... Accurecy: 0.696969696969697\n",
            "23/150 round completed......................... Accurecy: 0.696969696969697\n",
            "24/150 round completed......................... Accurecy: 0.696969696969697\n",
            "25/150 round completed......................... Accurecy: 0.696969696969697\n",
            "26/150 round completed......................... Accurecy: 0.696969696969697\n",
            "27/150 round completed......................... Accurecy: 0.696969696969697\n",
            "28/150 round completed......................... Accurecy: 0.696969696969697\n",
            "29/150 round completed......................... Accurecy: 0.696969696969697\n",
            "30/150 round completed......................... Accurecy: 0.696969696969697\n",
            "31/150 round completed......................... Accurecy: 0.696969696969697\n",
            "32/150 round completed......................... Accurecy: 0.696969696969697\n",
            "33/150 round completed......................... Accurecy: 0.696969696969697\n",
            "34/150 round completed......................... Accurecy: 0.696969696969697\n",
            "35/150 round completed......................... Accurecy: 0.696969696969697\n",
            "36/150 round completed......................... Accurecy: 0.696969696969697\n",
            "37/150 round completed......................... Accurecy: 0.696969696969697\n",
            "38/150 round completed......................... Accurecy: 0.696969696969697\n",
            "39/150 round completed......................... Accurecy: 0.696969696969697\n",
            "40/150 round completed......................... Accurecy: 0.696969696969697\n",
            "41/150 round completed......................... Accurecy: 0.696969696969697\n",
            "42/150 round completed......................... Accurecy: 0.696969696969697\n",
            "43/150 round completed......................... Accurecy: 0.696969696969697\n",
            "44/150 round completed......................... Accurecy: 0.696969696969697\n",
            "45/150 round completed......................... Accurecy: 0.696969696969697\n",
            "46/150 round completed......................... Accurecy: 0.696969696969697\n",
            "47/150 round completed......................... Accurecy: 0.696969696969697\n",
            "48/150 round completed......................... Accurecy: 0.696969696969697\n",
            "49/150 round completed......................... Accurecy: 0.696969696969697\n",
            "50/150 round completed......................... Accurecy: 0.696969696969697\n",
            "51/150 round completed......................... Accurecy: 0.696969696969697\n",
            "52/150 round completed......................... Accurecy: 0.696969696969697\n",
            "53/150 round completed......................... Accurecy: 0.696969696969697\n",
            "54/150 round completed......................... Accurecy: 0.696969696969697\n",
            "55/150 round completed......................... Accurecy: 0.696969696969697\n",
            "56/150 round completed......................... Accurecy: 0.696969696969697\n",
            "57/150 round completed......................... Accurecy: 0.696969696969697\n",
            "58/150 round completed......................... Accurecy: 0.696969696969697\n",
            "59/150 round completed......................... Accurecy: 0.696969696969697\n",
            "60/150 round completed......................... Accurecy: 0.696969696969697\n",
            "61/150 round completed......................... Accurecy: 0.696969696969697\n",
            "62/150 round completed......................... Accurecy: 0.696969696969697\n",
            "63/150 round completed......................... Accurecy: 0.696969696969697\n",
            "64/150 round completed......................... Accurecy: 0.696969696969697\n",
            "65/150 round completed......................... Accurecy: 0.696969696969697\n",
            "66/150 round completed......................... Accurecy: 0.696969696969697\n",
            "67/150 round completed......................... Accurecy: 0.696969696969697\n",
            "68/150 round completed......................... Accurecy: 0.696969696969697\n",
            "69/150 round completed......................... Accurecy: 0.696969696969697\n",
            "70/150 round completed......................... Accurecy: 0.696969696969697\n",
            "71/150 round completed......................... Accurecy: 0.696969696969697\n",
            "72/150 round completed......................... Accurecy: 0.696969696969697\n",
            "73/150 round completed......................... Accurecy: 0.696969696969697\n",
            "74/150 round completed......................... Accurecy: 0.696969696969697\n",
            "75/150 round completed......................... Accurecy: 0.696969696969697\n",
            "76/150 round completed......................... Accurecy: 0.696969696969697\n",
            "77/150 round completed......................... Accurecy: 0.696969696969697\n",
            "78/150 round completed......................... Accurecy: 0.696969696969697\n",
            "79/150 round completed......................... Accurecy: 0.696969696969697\n",
            "80/150 round completed......................... Accurecy: 0.696969696969697\n",
            "81/150 round completed......................... Accurecy: 0.696969696969697\n",
            "82/150 round completed......................... Accurecy: 0.696969696969697\n",
            "83/150 round completed......................... Accurecy: 0.696969696969697\n",
            "84/150 round completed......................... Accurecy: 0.696969696969697\n",
            "85/150 round completed......................... Accurecy: 0.696969696969697\n",
            "86/150 round completed......................... Accurecy: 0.696969696969697\n",
            "87/150 round completed......................... Accurecy: 0.696969696969697\n",
            "88/150 round completed......................... Accurecy: 0.696969696969697\n",
            "89/150 round completed......................... Accurecy: 0.696969696969697\n",
            "90/150 round completed......................... Accurecy: 0.696969696969697\n",
            "91/150 round completed......................... Accurecy: 0.696969696969697\n",
            "92/150 round completed......................... Accurecy: 0.696969696969697\n",
            "93/150 round completed......................... Accurecy: 0.696969696969697\n",
            "94/150 round completed......................... Accurecy: 0.696969696969697\n",
            "95/150 round completed......................... Accurecy: 0.696969696969697\n",
            "96/150 round completed......................... Accurecy: 0.696969696969697\n",
            "97/150 round completed......................... Accurecy: 0.696969696969697\n",
            "98/150 round completed......................... Accurecy: 0.696969696969697\n",
            "99/150 round completed......................... Accurecy: 0.696969696969697\n",
            "100/150 round completed......................... Accurecy: 0.696969696969697\n",
            "101/150 round completed......................... Accurecy: 0.696969696969697\n",
            "102/150 round completed......................... Accurecy: 0.696969696969697\n",
            "103/150 round completed......................... Accurecy: 0.696969696969697\n",
            "104/150 round completed......................... Accurecy: 0.696969696969697\n",
            "105/150 round completed......................... Accurecy: 0.696969696969697\n",
            "106/150 round completed......................... Accurecy: 0.696969696969697\n",
            "107/150 round completed......................... Accurecy: 0.696969696969697\n",
            "108/150 round completed......................... Accurecy: 0.696969696969697\n",
            "109/150 round completed......................... Accurecy: 0.696969696969697\n",
            "110/150 round completed......................... Accurecy: 0.696969696969697\n",
            "111/150 round completed......................... Accurecy: 0.696969696969697\n",
            "112/150 round completed......................... Accurecy: 0.696969696969697\n",
            "113/150 round completed......................... Accurecy: 0.696969696969697\n",
            "114/150 round completed......................... Accurecy: 0.696969696969697\n",
            "115/150 round completed......................... Accurecy: 0.696969696969697\n",
            "116/150 round completed......................... Accurecy: 0.696969696969697\n",
            "117/150 round completed......................... Accurecy: 0.696969696969697\n",
            "118/150 round completed......................... Accurecy: 0.696969696969697\n",
            "119/150 round completed......................... Accurecy: 0.696969696969697\n",
            "120/150 round completed......................... Accurecy: 0.696969696969697\n",
            "121/150 round completed......................... Accurecy: 0.696969696969697\n",
            "122/150 round completed......................... Accurecy: 0.696969696969697\n",
            "123/150 round completed......................... Accurecy: 0.696969696969697\n",
            "124/150 round completed......................... Accurecy: 0.696969696969697\n",
            "125/150 round completed......................... Accurecy: 0.696969696969697\n",
            "126/150 round completed......................... Accurecy: 0.696969696969697\n",
            "127/150 round completed......................... Accurecy: 0.696969696969697\n",
            "128/150 round completed......................... Accurecy: 0.696969696969697\n",
            "129/150 round completed......................... Accurecy: 0.696969696969697\n",
            "130/150 round completed......................... Accurecy: 0.696969696969697\n",
            "131/150 round completed......................... Accurecy: 0.696969696969697\n",
            "132/150 round completed......................... Accurecy: 0.696969696969697\n",
            "133/150 round completed......................... Accurecy: 0.696969696969697\n",
            "134/150 round completed......................... Accurecy: 0.696969696969697\n",
            "135/150 round completed......................... Accurecy: 0.696969696969697\n",
            "136/150 round completed......................... Accurecy: 0.696969696969697\n",
            "137/150 round completed......................... Accurecy: 0.696969696969697\n",
            "138/150 round completed......................... Accurecy: 0.696969696969697\n",
            "139/150 round completed......................... Accurecy: 0.696969696969697\n",
            "140/150 round completed......................... Accurecy: 0.696969696969697\n",
            "141/150 round completed......................... Accurecy: 0.696969696969697\n",
            "142/150 round completed......................... Accurecy: 0.696969696969697\n",
            "143/150 round completed......................... Accurecy: 0.696969696969697\n",
            "144/150 round completed......................... Accurecy: 0.696969696969697\n",
            "145/150 round completed......................... Accurecy: 0.696969696969697\n",
            "146/150 round completed......................... Accurecy: 0.696969696969697\n",
            "147/150 round completed......................... Accurecy: 0.696969696969697\n",
            "148/150 round completed......................... Accurecy: 0.696969696969697\n",
            "149/150 round completed......................... Accurecy: 0.696969696969697\n",
            "150/150 round completed......................... Accurecy: 0.696969696969697\n",
            "The best Depth:\n",
            "3\n"
          ]
        },
        {
          "output_type": "display_data",
          "data": {
            "text/plain": [
              "<Figure size 1800x720 with 1 Axes>"
            ],
            "image/png": "[encoded data removed]"
          },
          "metadata": {
            "needs_background": "light"
          }
        }
      ]
    },
    {
      "cell_type": "code",
      "source": [
        "from sklearn.ensemble import RandomForestClassifier\n",
        "rf_estimator = RandomForestClassifier(n_estimators=best_estimator,random_state=0)\n",
        "rf_estimator.fit(X_train, y_train)\n",
        "y_pred=rf_estimator.predict(X_test)\n",
        "\n",
        "\n",
        "from sklearn.metrics import classification_report, confusion_matrix, accuracy_score\n",
        "print(confusion_matrix(y_test, y_pred))\n",
        "print(classification_report(y_test,y_pred))\n",
        "print(\"Accurecy: \",accuracy_score(y_test, y_pred))\n",
        "result[(rf_estimator,3,'RandomForestClassifier')]=accuracy_score(y_test, y_pred)"
      ],
      "metadata": {
        "colab": {
          "base_uri": "https://localhost:8080/"
        },
        "id": "LMUwwEqUt2-T",
        "outputId": "ec487186-d11b-4864-e2a1-15b8cfca05ee"
      },
      "execution_count": 41,
      "outputs": [
        {
          "output_type": "stream",
          "name": "stdout",
          "text": [
            "[[12  3]\n",
            " [ 4 14]]\n",
            "              precision    recall  f1-score   support\n",
            "\n",
            "           0       0.75      0.80      0.77        15\n",
            "           1       0.82      0.78      0.80        18\n",
            "\n",
            "    accuracy                           0.79        33\n",
            "   macro avg       0.79      0.79      0.79        33\n",
            "weighted avg       0.79      0.79      0.79        33\n",
            "\n",
            "Accurecy:  0.7878787878787878\n"
          ]
        }
      ]
    },
    {
      "cell_type": "code",
      "source": [
        "from sklearn.ensemble import RandomForestClassifier\n",
        "rf_depth = RandomForestClassifier(max_depth=best_depth,random_state=0)\n",
        "rf_depth.fit(X_train, y_train)\n",
        "y_pred=rf_depth.predict(X_test)\n",
        "\n",
        "\n",
        "from sklearn.metrics import classification_report, confusion_matrix, accuracy_score\n",
        "print(confusion_matrix(y_test, y_pred))\n",
        "print(classification_report(y_test,y_pred))\n",
        "print(\"Accurecy: \",accuracy_score(y_test, y_pred))\n",
        "result[(rf_depth,3,'RandomForestClassifier')]=accuracy_score(y_test, y_pred)"
      ],
      "metadata": {
        "colab": {
          "base_uri": "https://localhost:8080/"
        },
        "id": "NRybS4-nt_vO",
        "outputId": "62670bb0-1594-4b12-a6d0-77fdab5cb28f"
      },
      "execution_count": 42,
      "outputs": [
        {
          "output_type": "stream",
          "name": "stdout",
          "text": [
            "[[12  3]\n",
            " [ 7 11]]\n",
            "              precision    recall  f1-score   support\n",
            "\n",
            "           0       0.63      0.80      0.71        15\n",
            "           1       0.79      0.61      0.69        18\n",
            "\n",
            "    accuracy                           0.70        33\n",
            "   macro avg       0.71      0.71      0.70        33\n",
            "weighted avg       0.72      0.70      0.70        33\n",
            "\n",
            "Accurecy:  0.696969696969697\n"
          ]
        }
      ]
    },
    {
      "cell_type": "code",
      "source": [
        "from sklearn.ensemble import RandomForestClassifier\n",
        "rf_all = RandomForestClassifier(n_estimators=best_estimator,max_depth=best_depth,random_state=0)\n",
        "rf_all.fit(X_train, y_train)\n",
        "y_pred=rf_all.predict(X_test)\n",
        "\n",
        "\n",
        "from sklearn.metrics import classification_report, confusion_matrix, accuracy_score\n",
        "print(confusion_matrix(y_test, y_pred))\n",
        "print(classification_report(y_test,y_pred))\n",
        "print(\"Accurecy: \",accuracy_score(y_test, y_pred))\n",
        "result[(rf_all,3,'RandomForestClassifier')]=accuracy_score(y_test, y_pred)"
      ],
      "metadata": {
        "colab": {
          "base_uri": "https://localhost:8080/"
        },
        "id": "G9p0fJyBtrdZ",
        "outputId": "a7a82678-2146-490f-ded8-a6f92e6d541d"
      },
      "execution_count": 43,
      "outputs": [
        {
          "output_type": "stream",
          "name": "stdout",
          "text": [
            "[[13  2]\n",
            " [13  5]]\n",
            "              precision    recall  f1-score   support\n",
            "\n",
            "           0       0.50      0.87      0.63        15\n",
            "           1       0.71      0.28      0.40        18\n",
            "\n",
            "    accuracy                           0.55        33\n",
            "   macro avg       0.61      0.57      0.52        33\n",
            "weighted avg       0.62      0.55      0.51        33\n",
            "\n",
            "Accurecy:  0.5454545454545454\n"
          ]
        }
      ]
    },
    {
      "cell_type": "markdown",
      "source": [
        "\n",
        "\n",
        "---\n",
        "\n",
        "\n",
        "\n",
        "---\n",
        "\n"
      ],
      "metadata": {
        "id": "G_DChNuquB92"
      }
    },
    {
      "cell_type": "markdown",
      "source": [
        "#XGB"
      ],
      "metadata": {
        "id": "jRG4cBnKvZU2"
      }
    },
    {
      "cell_type": "code",
      "source": [
        "\n",
        "\n",
        "import xgboost as xgb\n",
        "xgb_deafult = xgb.XGBClassifier(random_state=0)\n",
        "xgb_deafult.fit(X_train,y_train)\n",
        "y_pred = xgb_deafult.predict(X_test)\n",
        "\n",
        "\n",
        "from sklearn.metrics import classification_report, confusion_matrix, accuracy_score\n",
        "print(confusion_matrix(y_test, y_pred))\n",
        "print(classification_report(y_test,y_pred))\n",
        "print(\"Accurecy: \",accuracy_score(y_test, y_pred))\n",
        "result[(xgb_deafult,4,'xgboost')]=accuracy_score(y_test, y_pred)"
      ],
      "metadata": {
        "colab": {
          "base_uri": "https://localhost:8080/"
        },
        "id": "sC1lAZeeuCw8",
        "outputId": "4fad8fa9-7f16-4ed8-e5bc-60bfd0b72b29"
      },
      "execution_count": 44,
      "outputs": [
        {
          "output_type": "stream",
          "name": "stdout",
          "text": [
            "[[10  5]\n",
            " [ 8 10]]\n",
            "              precision    recall  f1-score   support\n",
            "\n",
            "           0       0.56      0.67      0.61        15\n",
            "           1       0.67      0.56      0.61        18\n",
            "\n",
            "    accuracy                           0.61        33\n",
            "   macro avg       0.61      0.61      0.61        33\n",
            "weighted avg       0.62      0.61      0.61        33\n",
            "\n",
            "Accurecy:  0.6060606060606061\n"
          ]
        }
      ]
    },
    {
      "cell_type": "code",
      "source": [
        "import xgboost as xgb\n",
        "from sklearn.metrics import accuracy_score\n",
        "N=250\n",
        "k_range = range (1,N+1)\n",
        "scores={}\n",
        "scores_list = []\n",
        "for k in k_range:\n",
        "  xgb_classifier = xgb.XGBClassifier(n_estimators=k,random_state=0)\n",
        "  xgb_classifier.fit(X_train, y_train)\n",
        "  y_pred=xgb_classifier.predict(X_test)\n",
        "  scores[k] = accuracy_score(y_test,y_pred)\n",
        "  scores_list.append(accuracy_score(y_test,y_pred))\n",
        "  print(str(k)+\"/\"+str(N)+\" round completed......................... Accurecy: \"+str(accuracy_score(y_test,y_pred)))\n",
        "\n",
        "\n",
        "%matplotlib inline\n",
        "import matplotlib.pyplot as plt\n",
        "\n",
        "plt.figure(figsize = (25,10))\n",
        "plt.plot(k_range,scores_list)\n",
        "plt.xlabel('Value of n_estimators')\n",
        "plt.ylabel ('Testing Accuracy')\n",
        "\n",
        "\n",
        "\n",
        "print(\"The best n_estimators:\")\n",
        "best_estimator=list(scores.keys())[scores_list.index(max(scores_list))]\n",
        "print(best_estimator)"
      ],
      "metadata": {
        "colab": {
          "base_uri": "https://localhost:8080/",
          "height": 1000
        },
        "id": "YQYsfVO0uPMA",
        "outputId": "0eef4998-d079-465f-9a1f-51d2b9157488"
      },
      "execution_count": 45,
      "outputs": [
        {
          "output_type": "stream",
          "name": "stdout",
          "text": [
            "1/250 round completed......................... Accurecy: 0.5757575757575758\n",
            "2/250 round completed......................... Accurecy: 0.5757575757575758\n",
            "3/250 round completed......................... Accurecy: 0.5757575757575758\n",
            "4/250 round completed......................... Accurecy: 0.5757575757575758\n",
            "5/250 round completed......................... Accurecy: 0.5757575757575758\n",
            "6/250 round completed......................... Accurecy: 0.6363636363636364\n",
            "7/250 round completed......................... Accurecy: 0.6060606060606061\n",
            "8/250 round completed......................... Accurecy: 0.6060606060606061\n",
            "9/250 round completed......................... Accurecy: 0.6363636363636364\n",
            "10/250 round completed......................... Accurecy: 0.6060606060606061\n",
            "11/250 round completed......................... Accurecy: 0.6060606060606061\n",
            "12/250 round completed......................... Accurecy: 0.6060606060606061\n",
            "13/250 round completed......................... Accurecy: 0.6060606060606061\n",
            "14/250 round completed......................... Accurecy: 0.6060606060606061\n",
            "15/250 round completed......................... Accurecy: 0.6060606060606061\n",
            "16/250 round completed......................... Accurecy: 0.6060606060606061\n",
            "17/250 round completed......................... Accurecy: 0.6060606060606061\n",
            "18/250 round completed......................... Accurecy: 0.6060606060606061\n",
            "19/250 round completed......................... Accurecy: 0.6060606060606061\n",
            "20/250 round completed......................... Accurecy: 0.6060606060606061\n",
            "21/250 round completed......................... Accurecy: 0.6060606060606061\n",
            "22/250 round completed......................... Accurecy: 0.6060606060606061\n",
            "23/250 round completed......................... Accurecy: 0.6060606060606061\n",
            "24/250 round completed......................... Accurecy: 0.6060606060606061\n",
            "25/250 round completed......................... Accurecy: 0.6060606060606061\n",
            "26/250 round completed......................... Accurecy: 0.5757575757575758\n",
            "27/250 round completed......................... Accurecy: 0.5757575757575758\n",
            "28/250 round completed......................... Accurecy: 0.6060606060606061\n",
            "29/250 round completed......................... Accurecy: 0.5757575757575758\n",
            "30/250 round completed......................... Accurecy: 0.5757575757575758\n",
            "31/250 round completed......................... Accurecy: 0.5757575757575758\n",
            "32/250 round completed......................... Accurecy: 0.5757575757575758\n",
            "33/250 round completed......................... Accurecy: 0.5757575757575758\n",
            "34/250 round completed......................... Accurecy: 0.5454545454545454\n",
            "35/250 round completed......................... Accurecy: 0.5454545454545454\n",
            "36/250 round completed......................... Accurecy: 0.5454545454545454\n",
            "37/250 round completed......................... Accurecy: 0.5454545454545454\n",
            "38/250 round completed......................... Accurecy: 0.5454545454545454\n",
            "39/250 round completed......................... Accurecy: 0.5454545454545454\n",
            "40/250 round completed......................... Accurecy: 0.5454545454545454\n",
            "41/250 round completed......................... Accurecy: 0.5454545454545454\n",
            "42/250 round completed......................... Accurecy: 0.5454545454545454\n",
            "43/250 round completed......................... Accurecy: 0.5454545454545454\n",
            "44/250 round completed......................... Accurecy: 0.5454545454545454\n",
            "45/250 round completed......................... Accurecy: 0.5454545454545454\n",
            "46/250 round completed......................... Accurecy: 0.5454545454545454\n",
            "47/250 round completed......................... Accurecy: 0.5454545454545454\n",
            "48/250 round completed......................... Accurecy: 0.5454545454545454\n",
            "49/250 round completed......................... Accurecy: 0.5454545454545454\n",
            "50/250 round completed......................... Accurecy: 0.5454545454545454\n",
            "51/250 round completed......................... Accurecy: 0.5454545454545454\n",
            "52/250 round completed......................... Accurecy: 0.5454545454545454\n",
            "53/250 round completed......................... Accurecy: 0.5454545454545454\n",
            "54/250 round completed......................... Accurecy: 0.5454545454545454\n",
            "55/250 round completed......................... Accurecy: 0.5454545454545454\n",
            "56/250 round completed......................... Accurecy: 0.5454545454545454\n",
            "57/250 round completed......................... Accurecy: 0.5454545454545454\n",
            "58/250 round completed......................... Accurecy: 0.5454545454545454\n",
            "59/250 round completed......................... Accurecy: 0.5454545454545454\n",
            "60/250 round completed......................... Accurecy: 0.5454545454545454\n",
            "61/250 round completed......................... Accurecy: 0.5454545454545454\n",
            "62/250 round completed......................... Accurecy: 0.5454545454545454\n",
            "63/250 round completed......................... Accurecy: 0.5454545454545454\n",
            "64/250 round completed......................... Accurecy: 0.5454545454545454\n",
            "65/250 round completed......................... Accurecy: 0.5454545454545454\n",
            "66/250 round completed......................... Accurecy: 0.5454545454545454\n",
            "67/250 round completed......................... Accurecy: 0.5454545454545454\n",
            "68/250 round completed......................... Accurecy: 0.5454545454545454\n",
            "69/250 round completed......................... Accurecy: 0.5454545454545454\n",
            "70/250 round completed......................... Accurecy: 0.5454545454545454\n",
            "71/250 round completed......................... Accurecy: 0.5454545454545454\n",
            "72/250 round completed......................... Accurecy: 0.5454545454545454\n",
            "73/250 round completed......................... Accurecy: 0.5454545454545454\n",
            "74/250 round completed......................... Accurecy: 0.5454545454545454\n",
            "75/250 round completed......................... Accurecy: 0.5454545454545454\n",
            "76/250 round completed......................... Accurecy: 0.5757575757575758\n",
            "77/250 round completed......................... Accurecy: 0.5454545454545454\n",
            "78/250 round completed......................... Accurecy: 0.5454545454545454\n",
            "79/250 round completed......................... Accurecy: 0.5757575757575758\n",
            "80/250 round completed......................... Accurecy: 0.5454545454545454\n",
            "81/250 round completed......................... Accurecy: 0.5454545454545454\n",
            "82/250 round completed......................... Accurecy: 0.5757575757575758\n",
            "83/250 round completed......................... Accurecy: 0.5757575757575758\n",
            "84/250 round completed......................... Accurecy: 0.5757575757575758\n",
            "85/250 round completed......................... Accurecy: 0.5757575757575758\n",
            "86/250 round completed......................... Accurecy: 0.5757575757575758\n",
            "87/250 round completed......................... Accurecy: 0.5757575757575758\n",
            "88/250 round completed......................... Accurecy: 0.5757575757575758\n",
            "89/250 round completed......................... Accurecy: 0.5757575757575758\n",
            "90/250 round completed......................... Accurecy: 0.5757575757575758\n",
            "91/250 round completed......................... Accurecy: 0.5757575757575758\n",
            "92/250 round completed......................... Accurecy: 0.5757575757575758\n",
            "93/250 round completed......................... Accurecy: 0.5757575757575758\n",
            "94/250 round completed......................... Accurecy: 0.5757575757575758\n",
            "95/250 round completed......................... Accurecy: 0.6060606060606061\n",
            "96/250 round completed......................... Accurecy: 0.5757575757575758\n",
            "97/250 round completed......................... Accurecy: 0.5757575757575758\n",
            "98/250 round completed......................... Accurecy: 0.5757575757575758\n",
            "99/250 round completed......................... Accurecy: 0.6060606060606061\n",
            "100/250 round completed......................... Accurecy: 0.6060606060606061\n",
            "101/250 round completed......................... Accurecy: 0.6060606060606061\n",
            "102/250 round completed......................... Accurecy: 0.6060606060606061\n",
            "103/250 round completed......................... Accurecy: 0.5757575757575758\n",
            "104/250 round completed......................... Accurecy: 0.6060606060606061\n",
            "105/250 round completed......................... Accurecy: 0.6060606060606061\n",
            "106/250 round completed......................... Accurecy: 0.6060606060606061\n",
            "107/250 round completed......................... Accurecy: 0.6060606060606061\n",
            "108/250 round completed......................... Accurecy: 0.6060606060606061\n",
            "109/250 round completed......................... Accurecy: 0.6060606060606061\n",
            "110/250 round completed......................... Accurecy: 0.6060606060606061\n",
            "111/250 round completed......................... Accurecy: 0.6060606060606061\n",
            "112/250 round completed......................... Accurecy: 0.6060606060606061\n",
            "113/250 round completed......................... Accurecy: 0.6060606060606061\n",
            "114/250 round completed......................... Accurecy: 0.6060606060606061\n",
            "115/250 round completed......................... Accurecy: 0.6060606060606061\n",
            "116/250 round completed......................... Accurecy: 0.6060606060606061\n",
            "117/250 round completed......................... Accurecy: 0.6060606060606061\n",
            "118/250 round completed......................... Accurecy: 0.6060606060606061\n",
            "119/250 round completed......................... Accurecy: 0.6060606060606061\n",
            "120/250 round completed......................... Accurecy: 0.6060606060606061\n",
            "121/250 round completed......................... Accurecy: 0.6060606060606061\n",
            "122/250 round completed......................... Accurecy: 0.6060606060606061\n",
            "123/250 round completed......................... Accurecy: 0.6060606060606061\n",
            "124/250 round completed......................... Accurecy: 0.6060606060606061\n",
            "125/250 round completed......................... Accurecy: 0.6060606060606061\n",
            "126/250 round completed......................... Accurecy: 0.6060606060606061\n",
            "127/250 round completed......................... Accurecy: 0.6060606060606061\n",
            "128/250 round completed......................... Accurecy: 0.6060606060606061\n",
            "129/250 round completed......................... Accurecy: 0.6060606060606061\n",
            "130/250 round completed......................... Accurecy: 0.6060606060606061\n",
            "131/250 round completed......................... Accurecy: 0.6060606060606061\n",
            "132/250 round completed......................... Accurecy: 0.6060606060606061\n",
            "133/250 round completed......................... Accurecy: 0.6060606060606061\n",
            "134/250 round completed......................... Accurecy: 0.6060606060606061\n",
            "135/250 round completed......................... Accurecy: 0.6060606060606061\n",
            "136/250 round completed......................... Accurecy: 0.6060606060606061\n",
            "137/250 round completed......................... Accurecy: 0.6060606060606061\n",
            "138/250 round completed......................... Accurecy: 0.6060606060606061\n",
            "139/250 round completed......................... Accurecy: 0.6060606060606061\n",
            "140/250 round completed......................... Accurecy: 0.6060606060606061\n",
            "141/250 round completed......................... Accurecy: 0.6060606060606061\n",
            "142/250 round completed......................... Accurecy: 0.6060606060606061\n",
            "143/250 round completed......................... Accurecy: 0.6060606060606061\n",
            "144/250 round completed......................... Accurecy: 0.6060606060606061\n",
            "145/250 round completed......................... Accurecy: 0.6060606060606061\n",
            "146/250 round completed......................... Accurecy: 0.6060606060606061\n",
            "147/250 round completed......................... Accurecy: 0.6060606060606061\n",
            "148/250 round completed......................... Accurecy: 0.6060606060606061\n",
            "149/250 round completed......................... Accurecy: 0.6060606060606061\n",
            "150/250 round completed......................... Accurecy: 0.6060606060606061\n",
            "151/250 round completed......................... Accurecy: 0.6060606060606061\n",
            "152/250 round completed......................... Accurecy: 0.6060606060606061\n",
            "153/250 round completed......................... Accurecy: 0.6060606060606061\n",
            "154/250 round completed......................... Accurecy: 0.6060606060606061\n",
            "155/250 round completed......................... Accurecy: 0.6060606060606061\n",
            "156/250 round completed......................... Accurecy: 0.6060606060606061\n",
            "157/250 round completed......................... Accurecy: 0.6060606060606061\n",
            "158/250 round completed......................... Accurecy: 0.6060606060606061\n",
            "159/250 round completed......................... Accurecy: 0.6060606060606061\n",
            "160/250 round completed......................... Accurecy: 0.6060606060606061\n",
            "161/250 round completed......................... Accurecy: 0.6060606060606061\n",
            "162/250 round completed......................... Accurecy: 0.6060606060606061\n",
            "163/250 round completed......................... Accurecy: 0.6060606060606061\n",
            "164/250 round completed......................... Accurecy: 0.6060606060606061\n",
            "165/250 round completed......................... Accurecy: 0.6060606060606061\n",
            "166/250 round completed......................... Accurecy: 0.6060606060606061\n",
            "167/250 round completed......................... Accurecy: 0.6060606060606061\n",
            "168/250 round completed......................... Accurecy: 0.6060606060606061\n",
            "169/250 round completed......................... Accurecy: 0.6060606060606061\n",
            "170/250 round completed......................... Accurecy: 0.6060606060606061\n",
            "171/250 round completed......................... Accurecy: 0.6060606060606061\n",
            "172/250 round completed......................... Accurecy: 0.6060606060606061\n",
            "173/250 round completed......................... Accurecy: 0.6060606060606061\n",
            "174/250 round completed......................... Accurecy: 0.6060606060606061\n",
            "175/250 round completed......................... Accurecy: 0.6060606060606061\n",
            "176/250 round completed......................... Accurecy: 0.6060606060606061\n",
            "177/250 round completed......................... Accurecy: 0.6060606060606061\n",
            "178/250 round completed......................... Accurecy: 0.6060606060606061\n",
            "179/250 round completed......................... Accurecy: 0.6060606060606061\n",
            "180/250 round completed......................... Accurecy: 0.6060606060606061\n",
            "181/250 round completed......................... Accurecy: 0.6060606060606061\n",
            "182/250 round completed......................... Accurecy: 0.6060606060606061\n",
            "183/250 round completed......................... Accurecy: 0.6060606060606061\n",
            "184/250 round completed......................... Accurecy: 0.6060606060606061\n",
            "185/250 round completed......................... Accurecy: 0.6060606060606061\n",
            "186/250 round completed......................... Accurecy: 0.6060606060606061\n",
            "187/250 round completed......................... Accurecy: 0.6060606060606061\n",
            "188/250 round completed......................... Accurecy: 0.6060606060606061\n",
            "189/250 round completed......................... Accurecy: 0.6060606060606061\n",
            "190/250 round completed......................... Accurecy: 0.6060606060606061\n",
            "191/250 round completed......................... Accurecy: 0.6060606060606061\n",
            "192/250 round completed......................... Accurecy: 0.6060606060606061\n",
            "193/250 round completed......................... Accurecy: 0.6060606060606061\n",
            "194/250 round completed......................... Accurecy: 0.6060606060606061\n",
            "195/250 round completed......................... Accurecy: 0.6060606060606061\n",
            "196/250 round completed......................... Accurecy: 0.6060606060606061\n",
            "197/250 round completed......................... Accurecy: 0.6060606060606061\n",
            "198/250 round completed......................... Accurecy: 0.6060606060606061\n",
            "199/250 round completed......................... Accurecy: 0.6060606060606061\n",
            "200/250 round completed......................... Accurecy: 0.6060606060606061\n",
            "201/250 round completed......................... Accurecy: 0.6060606060606061\n",
            "202/250 round completed......................... Accurecy: 0.6060606060606061\n",
            "203/250 round completed......................... Accurecy: 0.6060606060606061\n",
            "204/250 round completed......................... Accurecy: 0.6060606060606061\n",
            "205/250 round completed......................... Accurecy: 0.6060606060606061\n",
            "206/250 round completed......................... Accurecy: 0.6060606060606061\n",
            "207/250 round completed......................... Accurecy: 0.6060606060606061\n",
            "208/250 round completed......................... Accurecy: 0.6060606060606061\n",
            "209/250 round completed......................... Accurecy: 0.6060606060606061\n",
            "210/250 round completed......................... Accurecy: 0.6060606060606061\n",
            "211/250 round completed......................... Accurecy: 0.6060606060606061\n",
            "212/250 round completed......................... Accurecy: 0.6060606060606061\n",
            "213/250 round completed......................... Accurecy: 0.6060606060606061\n",
            "214/250 round completed......................... Accurecy: 0.6060606060606061\n",
            "215/250 round completed......................... Accurecy: 0.6060606060606061\n",
            "216/250 round completed......................... Accurecy: 0.6060606060606061\n",
            "217/250 round completed......................... Accurecy: 0.6060606060606061\n",
            "218/250 round completed......................... Accurecy: 0.6060606060606061\n",
            "219/250 round completed......................... Accurecy: 0.6060606060606061\n",
            "220/250 round completed......................... Accurecy: 0.6060606060606061\n",
            "221/250 round completed......................... Accurecy: 0.6060606060606061\n",
            "222/250 round completed......................... Accurecy: 0.6060606060606061\n",
            "223/250 round completed......................... Accurecy: 0.5757575757575758\n",
            "224/250 round completed......................... Accurecy: 0.5757575757575758\n",
            "225/250 round completed......................... Accurecy: 0.5757575757575758\n",
            "226/250 round completed......................... Accurecy: 0.5757575757575758\n",
            "227/250 round completed......................... Accurecy: 0.5757575757575758\n",
            "228/250 round completed......................... Accurecy: 0.5757575757575758\n",
            "229/250 round completed......................... Accurecy: 0.5757575757575758\n",
            "230/250 round completed......................... Accurecy: 0.5757575757575758\n",
            "231/250 round completed......................... Accurecy: 0.5757575757575758\n",
            "232/250 round completed......................... Accurecy: 0.5757575757575758\n",
            "233/250 round completed......................... Accurecy: 0.5757575757575758\n",
            "234/250 round completed......................... Accurecy: 0.5757575757575758\n",
            "235/250 round completed......................... Accurecy: 0.5757575757575758\n",
            "236/250 round completed......................... Accurecy: 0.5757575757575758\n",
            "237/250 round completed......................... Accurecy: 0.5757575757575758\n",
            "238/250 round completed......................... Accurecy: 0.5757575757575758\n",
            "239/250 round completed......................... Accurecy: 0.5757575757575758\n",
            "240/250 round completed......................... Accurecy: 0.5757575757575758\n",
            "241/250 round completed......................... Accurecy: 0.5757575757575758\n",
            "242/250 round completed......................... Accurecy: 0.5757575757575758\n",
            "243/250 round completed......................... Accurecy: 0.5757575757575758\n",
            "244/250 round completed......................... Accurecy: 0.5757575757575758\n",
            "245/250 round completed......................... Accurecy: 0.5757575757575758\n",
            "246/250 round completed......................... Accurecy: 0.5757575757575758\n",
            "247/250 round completed......................... Accurecy: 0.6060606060606061\n",
            "248/250 round completed......................... Accurecy: 0.5757575757575758\n",
            "249/250 round completed......................... Accurecy: 0.5757575757575758\n",
            "250/250 round completed......................... Accurecy: 0.5757575757575758\n",
            "The best n_estimators:\n",
            "6\n"
          ]
        },
        {
          "output_type": "display_data",
          "data": {
            "text/plain": [
              "<Figure size 1800x720 with 1 Axes>"
            ],
            "image/png": "[encoded data removed]"
          },
          "metadata": {
            "needs_background": "light"
          }
        }
      ]
    },
    {
      "cell_type": "code",
      "source": [
        "import xgboost as xgb\n",
        "from sklearn.metrics import accuracy_score\n",
        "N=250\n",
        "k_range = range (1,N+1)\n",
        "scores={}\n",
        "scores_list = []\n",
        "for k in k_range:\n",
        "  xgb_classifier = xgb.XGBClassifier(max_depth=k,random_state=0)\n",
        "  xgb_classifier.fit(X_train, y_train)\n",
        "  y_pred=xgb_classifier.predict(X_test)\n",
        "  scores[k] = accuracy_score(y_test,y_pred)\n",
        "  scores_list.append(accuracy_score(y_test,y_pred))\n",
        "  print(str(k)+\"/\"+str(N)+\" round completed......................... Accurecy: \"+str(accuracy_score(y_test,y_pred)))\n",
        "\n",
        "\n",
        "%matplotlib inline\n",
        "import matplotlib.pyplot as plt\n",
        "\n",
        "plt.figure(figsize = (25,10))\n",
        "plt.plot(k_range,scores_list)\n",
        "plt.xlabel('Value of n_estimators')\n",
        "plt.ylabel ('Testing Accuracy')\n",
        "\n",
        "\n",
        "\n",
        "print(\"The best depth:\")\n",
        "best_depth=list(scores.keys())[scores_list.index(max(scores_list))]\n",
        "print(best_depth)"
      ],
      "metadata": {
        "colab": {
          "base_uri": "https://localhost:8080/",
          "height": 1000
        },
        "id": "ABex6e-3kxuX",
        "outputId": "dd95f3a2-3da6-4a17-c6bd-32dc378b833a"
      },
      "execution_count": 46,
      "outputs": [
        {
          "output_type": "stream",
          "name": "stdout",
          "text": [
            "1/250 round completed......................... Accurecy: 0.6060606060606061\n",
            "2/250 round completed......................... Accurecy: 0.5757575757575758\n",
            "3/250 round completed......................... Accurecy: 0.6060606060606061\n",
            "4/250 round completed......................... Accurecy: 0.5757575757575758\n",
            "5/250 round completed......................... Accurecy: 0.6060606060606061\n",
            "6/250 round completed......................... Accurecy: 0.6060606060606061\n",
            "7/250 round completed......................... Accurecy: 0.6363636363636364\n",
            "8/250 round completed......................... Accurecy: 0.6363636363636364\n",
            "9/250 round completed......................... Accurecy: 0.6363636363636364\n",
            "10/250 round completed......................... Accurecy: 0.6363636363636364\n",
            "11/250 round completed......................... Accurecy: 0.6363636363636364\n",
            "12/250 round completed......................... Accurecy: 0.6363636363636364\n",
            "13/250 round completed......................... Accurecy: 0.6363636363636364\n",
            "14/250 round completed......................... Accurecy: 0.6363636363636364\n",
            "15/250 round completed......................... Accurecy: 0.6363636363636364\n",
            "16/250 round completed......................... Accurecy: 0.6363636363636364\n",
            "17/250 round completed......................... Accurecy: 0.6363636363636364\n",
            "18/250 round completed......................... Accurecy: 0.6363636363636364\n",
            "19/250 round completed......................... Accurecy: 0.6363636363636364\n",
            "20/250 round completed......................... Accurecy: 0.6363636363636364\n",
            "21/250 round completed......................... Accurecy: 0.6363636363636364\n",
            "22/250 round completed......................... Accurecy: 0.6363636363636364\n",
            "23/250 round completed......................... Accurecy: 0.6363636363636364\n",
            "24/250 round completed......................... Accurecy: 0.6363636363636364\n",
            "25/250 round completed......................... Accurecy: 0.6363636363636364\n",
            "26/250 round completed......................... Accurecy: 0.6363636363636364\n",
            "27/250 round completed......................... Accurecy: 0.6363636363636364\n",
            "28/250 round completed......................... Accurecy: 0.6363636363636364\n",
            "29/250 round completed......................... Accurecy: 0.6363636363636364\n",
            "30/250 round completed......................... Accurecy: 0.6363636363636364\n",
            "31/250 round completed......................... Accurecy: 0.6363636363636364\n",
            "32/250 round completed......................... Accurecy: 0.6363636363636364\n",
            "33/250 round completed......................... Accurecy: 0.6363636363636364\n",
            "34/250 round completed......................... Accurecy: 0.6363636363636364\n",
            "35/250 round completed......................... Accurecy: 0.6363636363636364\n",
            "36/250 round completed......................... Accurecy: 0.6363636363636364\n",
            "37/250 round completed......................... Accurecy: 0.6363636363636364\n",
            "38/250 round completed......................... Accurecy: 0.6363636363636364\n",
            "39/250 round completed......................... Accurecy: 0.6363636363636364\n",
            "40/250 round completed......................... Accurecy: 0.6363636363636364\n",
            "41/250 round completed......................... Accurecy: 0.6363636363636364\n",
            "42/250 round completed......................... Accurecy: 0.6363636363636364\n",
            "43/250 round completed......................... Accurecy: 0.6363636363636364\n",
            "44/250 round completed......................... Accurecy: 0.6363636363636364\n",
            "45/250 round completed......................... Accurecy: 0.6363636363636364\n",
            "46/250 round completed......................... Accurecy: 0.6363636363636364\n",
            "47/250 round completed......................... Accurecy: 0.6363636363636364\n",
            "48/250 round completed......................... Accurecy: 0.6363636363636364\n",
            "49/250 round completed......................... Accurecy: 0.6363636363636364\n",
            "50/250 round completed......................... Accurecy: 0.6363636363636364\n",
            "51/250 round completed......................... Accurecy: 0.6363636363636364\n",
            "52/250 round completed......................... Accurecy: 0.6363636363636364\n",
            "53/250 round completed......................... Accurecy: 0.6363636363636364\n",
            "54/250 round completed......................... Accurecy: 0.6363636363636364\n",
            "55/250 round completed......................... Accurecy: 0.6363636363636364\n",
            "56/250 round completed......................... Accurecy: 0.6363636363636364\n",
            "57/250 round completed......................... Accurecy: 0.6363636363636364\n",
            "58/250 round completed......................... Accurecy: 0.6363636363636364\n",
            "59/250 round completed......................... Accurecy: 0.6363636363636364\n",
            "60/250 round completed......................... Accurecy: 0.6363636363636364\n",
            "61/250 round completed......................... Accurecy: 0.6363636363636364\n",
            "62/250 round completed......................... Accurecy: 0.6363636363636364\n",
            "63/250 round completed......................... Accurecy: 0.6363636363636364\n",
            "64/250 round completed......................... Accurecy: 0.6363636363636364\n",
            "65/250 round completed......................... Accurecy: 0.6363636363636364\n",
            "66/250 round completed......................... Accurecy: 0.6363636363636364\n",
            "67/250 round completed......................... Accurecy: 0.6363636363636364\n",
            "68/250 round completed......................... Accurecy: 0.6363636363636364\n",
            "69/250 round completed......................... Accurecy: 0.6363636363636364\n",
            "70/250 round completed......................... Accurecy: 0.6363636363636364\n",
            "71/250 round completed......................... Accurecy: 0.6363636363636364\n",
            "72/250 round completed......................... Accurecy: 0.6363636363636364\n",
            "73/250 round completed......................... Accurecy: 0.6363636363636364\n",
            "74/250 round completed......................... Accurecy: 0.6363636363636364\n",
            "75/250 round completed......................... Accurecy: 0.6363636363636364\n",
            "76/250 round completed......................... Accurecy: 0.6363636363636364\n",
            "77/250 round completed......................... Accurecy: 0.6363636363636364\n",
            "78/250 round completed......................... Accurecy: 0.6363636363636364\n",
            "79/250 round completed......................... Accurecy: 0.6363636363636364\n",
            "80/250 round completed......................... Accurecy: 0.6363636363636364\n",
            "81/250 round completed......................... Accurecy: 0.6363636363636364\n",
            "82/250 round completed......................... Accurecy: 0.6363636363636364\n",
            "83/250 round completed......................... Accurecy: 0.6363636363636364\n",
            "84/250 round completed......................... Accurecy: 0.6363636363636364\n",
            "85/250 round completed......................... Accurecy: 0.6363636363636364\n",
            "86/250 round completed......................... Accurecy: 0.6363636363636364\n",
            "87/250 round completed......................... Accurecy: 0.6363636363636364\n",
            "88/250 round completed......................... Accurecy: 0.6363636363636364\n",
            "89/250 round completed......................... Accurecy: 0.6363636363636364\n",
            "90/250 round completed......................... Accurecy: 0.6363636363636364\n",
            "91/250 round completed......................... Accurecy: 0.6363636363636364\n",
            "92/250 round completed......................... Accurecy: 0.6363636363636364\n",
            "93/250 round completed......................... Accurecy: 0.6363636363636364\n",
            "94/250 round completed......................... Accurecy: 0.6363636363636364\n",
            "95/250 round completed......................... Accurecy: 0.6363636363636364\n",
            "96/250 round completed......................... Accurecy: 0.6363636363636364\n",
            "97/250 round completed......................... Accurecy: 0.6363636363636364\n",
            "98/250 round completed......................... Accurecy: 0.6363636363636364\n",
            "99/250 round completed......................... Accurecy: 0.6363636363636364\n",
            "100/250 round completed......................... Accurecy: 0.6363636363636364\n",
            "101/250 round completed......................... Accurecy: 0.6363636363636364\n",
            "102/250 round completed......................... Accurecy: 0.6363636363636364\n",
            "103/250 round completed......................... Accurecy: 0.6363636363636364\n",
            "104/250 round completed......................... Accurecy: 0.6363636363636364\n",
            "105/250 round completed......................... Accurecy: 0.6363636363636364\n",
            "106/250 round completed......................... Accurecy: 0.6363636363636364\n",
            "107/250 round completed......................... Accurecy: 0.6363636363636364\n",
            "108/250 round completed......................... Accurecy: 0.6363636363636364\n",
            "109/250 round completed......................... Accurecy: 0.6363636363636364\n",
            "110/250 round completed......................... Accurecy: 0.6363636363636364\n",
            "111/250 round completed......................... Accurecy: 0.6363636363636364\n",
            "112/250 round completed......................... Accurecy: 0.6363636363636364\n",
            "113/250 round completed......................... Accurecy: 0.6363636363636364\n",
            "114/250 round completed......................... Accurecy: 0.6363636363636364\n",
            "115/250 round completed......................... Accurecy: 0.6363636363636364\n",
            "116/250 round completed......................... Accurecy: 0.6363636363636364\n",
            "117/250 round completed......................... Accurecy: 0.6363636363636364\n",
            "118/250 round completed......................... Accurecy: 0.6363636363636364\n",
            "119/250 round completed......................... Accurecy: 0.6363636363636364\n",
            "120/250 round completed......................... Accurecy: 0.6363636363636364\n",
            "121/250 round completed......................... Accurecy: 0.6363636363636364\n",
            "122/250 round completed......................... Accurecy: 0.6363636363636364\n",
            "123/250 round completed......................... Accurecy: 0.6363636363636364\n",
            "124/250 round completed......................... Accurecy: 0.6363636363636364\n",
            "125/250 round completed......................... Accurecy: 0.6363636363636364\n",
            "126/250 round completed......................... Accurecy: 0.6363636363636364\n",
            "127/250 round completed......................... Accurecy: 0.6363636363636364\n",
            "128/250 round completed......................... Accurecy: 0.6363636363636364\n",
            "129/250 round completed......................... Accurecy: 0.6363636363636364\n",
            "130/250 round completed......................... Accurecy: 0.6363636363636364\n",
            "131/250 round completed......................... Accurecy: 0.6363636363636364\n",
            "132/250 round completed......................... Accurecy: 0.6363636363636364\n",
            "133/250 round completed......................... Accurecy: 0.6363636363636364\n",
            "134/250 round completed......................... Accurecy: 0.6363636363636364\n",
            "135/250 round completed......................... Accurecy: 0.6363636363636364\n",
            "136/250 round completed......................... Accurecy: 0.6363636363636364\n",
            "137/250 round completed......................... Accurecy: 0.6363636363636364\n",
            "138/250 round completed......................... Accurecy: 0.6363636363636364\n",
            "139/250 round completed......................... Accurecy: 0.6363636363636364\n",
            "140/250 round completed......................... Accurecy: 0.6363636363636364\n",
            "141/250 round completed......................... Accurecy: 0.6363636363636364\n",
            "142/250 round completed......................... Accurecy: 0.6363636363636364\n",
            "143/250 round completed......................... Accurecy: 0.6363636363636364\n",
            "144/250 round completed......................... Accurecy: 0.6363636363636364\n",
            "145/250 round completed......................... Accurecy: 0.6363636363636364\n",
            "146/250 round completed......................... Accurecy: 0.6363636363636364\n",
            "147/250 round completed......................... Accurecy: 0.6363636363636364\n",
            "148/250 round completed......................... Accurecy: 0.6363636363636364\n",
            "149/250 round completed......................... Accurecy: 0.6363636363636364\n",
            "150/250 round completed......................... Accurecy: 0.6363636363636364\n",
            "151/250 round completed......................... Accurecy: 0.6363636363636364\n",
            "152/250 round completed......................... Accurecy: 0.6363636363636364\n",
            "153/250 round completed......................... Accurecy: 0.6363636363636364\n",
            "154/250 round completed......................... Accurecy: 0.6363636363636364\n",
            "155/250 round completed......................... Accurecy: 0.6363636363636364\n",
            "156/250 round completed......................... Accurecy: 0.6363636363636364\n",
            "157/250 round completed......................... Accurecy: 0.6363636363636364\n",
            "158/250 round completed......................... Accurecy: 0.6363636363636364\n",
            "159/250 round completed......................... Accurecy: 0.6363636363636364\n",
            "160/250 round completed......................... Accurecy: 0.6363636363636364\n",
            "161/250 round completed......................... Accurecy: 0.6363636363636364\n",
            "162/250 round completed......................... Accurecy: 0.6363636363636364\n",
            "163/250 round completed......................... Accurecy: 0.6363636363636364\n",
            "164/250 round completed......................... Accurecy: 0.6363636363636364\n",
            "165/250 round completed......................... Accurecy: 0.6363636363636364\n",
            "166/250 round completed......................... Accurecy: 0.6363636363636364\n",
            "167/250 round completed......................... Accurecy: 0.6363636363636364\n",
            "168/250 round completed......................... Accurecy: 0.6363636363636364\n",
            "169/250 round completed......................... Accurecy: 0.6363636363636364\n",
            "170/250 round completed......................... Accurecy: 0.6363636363636364\n",
            "171/250 round completed......................... Accurecy: 0.6363636363636364\n",
            "172/250 round completed......................... Accurecy: 0.6363636363636364\n",
            "173/250 round completed......................... Accurecy: 0.6363636363636364\n",
            "174/250 round completed......................... Accurecy: 0.6363636363636364\n",
            "175/250 round completed......................... Accurecy: 0.6363636363636364\n",
            "176/250 round completed......................... Accurecy: 0.6363636363636364\n",
            "177/250 round completed......................... Accurecy: 0.6363636363636364\n",
            "178/250 round completed......................... Accurecy: 0.6363636363636364\n",
            "179/250 round completed......................... Accurecy: 0.6363636363636364\n",
            "180/250 round completed......................... Accurecy: 0.6363636363636364\n",
            "181/250 round completed......................... Accurecy: 0.6363636363636364\n",
            "182/250 round completed......................... Accurecy: 0.6363636363636364\n",
            "183/250 round completed......................... Accurecy: 0.6363636363636364\n",
            "184/250 round completed......................... Accurecy: 0.6363636363636364\n",
            "185/250 round completed......................... Accurecy: 0.6363636363636364\n",
            "186/250 round completed......................... Accurecy: 0.6363636363636364\n",
            "187/250 round completed......................... Accurecy: 0.6363636363636364\n",
            "188/250 round completed......................... Accurecy: 0.6363636363636364\n",
            "189/250 round completed......................... Accurecy: 0.6363636363636364\n",
            "190/250 round completed......................... Accurecy: 0.6363636363636364\n",
            "191/250 round completed......................... Accurecy: 0.6363636363636364\n",
            "192/250 round completed......................... Accurecy: 0.6363636363636364\n",
            "193/250 round completed......................... Accurecy: 0.6363636363636364\n",
            "194/250 round completed......................... Accurecy: 0.6363636363636364\n",
            "195/250 round completed......................... Accurecy: 0.6363636363636364\n",
            "196/250 round completed......................... Accurecy: 0.6363636363636364\n",
            "197/250 round completed......................... Accurecy: 0.6363636363636364\n",
            "198/250 round completed......................... Accurecy: 0.6363636363636364\n",
            "199/250 round completed......................... Accurecy: 0.6363636363636364\n",
            "200/250 round completed......................... Accurecy: 0.6363636363636364\n",
            "201/250 round completed......................... Accurecy: 0.6363636363636364\n",
            "202/250 round completed......................... Accurecy: 0.6363636363636364\n",
            "203/250 round completed......................... Accurecy: 0.6363636363636364\n",
            "204/250 round completed......................... Accurecy: 0.6363636363636364\n",
            "205/250 round completed......................... Accurecy: 0.6363636363636364\n",
            "206/250 round completed......................... Accurecy: 0.6363636363636364\n",
            "207/250 round completed......................... Accurecy: 0.6363636363636364\n",
            "208/250 round completed......................... Accurecy: 0.6363636363636364\n",
            "209/250 round completed......................... Accurecy: 0.6363636363636364\n",
            "210/250 round completed......................... Accurecy: 0.6363636363636364\n",
            "211/250 round completed......................... Accurecy: 0.6363636363636364\n",
            "212/250 round completed......................... Accurecy: 0.6363636363636364\n",
            "213/250 round completed......................... Accurecy: 0.6363636363636364\n",
            "214/250 round completed......................... Accurecy: 0.6363636363636364\n",
            "215/250 round completed......................... Accurecy: 0.6363636363636364\n",
            "216/250 round completed......................... Accurecy: 0.6363636363636364\n",
            "217/250 round completed......................... Accurecy: 0.6363636363636364\n",
            "218/250 round completed......................... Accurecy: 0.6363636363636364\n",
            "219/250 round completed......................... Accurecy: 0.6363636363636364\n",
            "220/250 round completed......................... Accurecy: 0.6363636363636364\n",
            "221/250 round completed......................... Accurecy: 0.6363636363636364\n",
            "222/250 round completed......................... Accurecy: 0.6363636363636364\n",
            "223/250 round completed......................... Accurecy: 0.6363636363636364\n",
            "224/250 round completed......................... Accurecy: 0.6363636363636364\n",
            "225/250 round completed......................... Accurecy: 0.6363636363636364\n",
            "226/250 round completed......................... Accurecy: 0.6363636363636364\n",
            "227/250 round completed......................... Accurecy: 0.6363636363636364\n",
            "228/250 round completed......................... Accurecy: 0.6363636363636364\n",
            "229/250 round completed......................... Accurecy: 0.6363636363636364\n",
            "230/250 round completed......................... Accurecy: 0.6363636363636364\n",
            "231/250 round completed......................... Accurecy: 0.6363636363636364\n",
            "232/250 round completed......................... Accurecy: 0.6363636363636364\n",
            "233/250 round completed......................... Accurecy: 0.6363636363636364\n",
            "234/250 round completed......................... Accurecy: 0.6363636363636364\n",
            "235/250 round completed......................... Accurecy: 0.6363636363636364\n",
            "236/250 round completed......................... Accurecy: 0.6363636363636364\n",
            "237/250 round completed......................... Accurecy: 0.6363636363636364\n",
            "238/250 round completed......................... Accurecy: 0.6363636363636364\n",
            "239/250 round completed......................... Accurecy: 0.6363636363636364\n",
            "240/250 round completed......................... Accurecy: 0.6363636363636364\n",
            "241/250 round completed......................... Accurecy: 0.6363636363636364\n",
            "242/250 round completed......................... Accurecy: 0.6363636363636364\n",
            "243/250 round completed......................... Accurecy: 0.6363636363636364\n",
            "244/250 round completed......................... Accurecy: 0.6363636363636364\n",
            "245/250 round completed......................... Accurecy: 0.6363636363636364\n",
            "246/250 round completed......................... Accurecy: 0.6363636363636364\n",
            "247/250 round completed......................... Accurecy: 0.6363636363636364\n",
            "248/250 round completed......................... Accurecy: 0.6363636363636364\n",
            "249/250 round completed......................... Accurecy: 0.6363636363636364\n",
            "250/250 round completed......................... Accurecy: 0.6363636363636364\n",
            "The best depth:\n",
            "7\n"
          ]
        },
        {
          "output_type": "display_data",
          "data": {
            "text/plain": [
              "<Figure size 1800x720 with 1 Axes>"
            ],
            "image/png": "[encoded data removed]"
          },
          "metadata": {
            "needs_background": "light"
          }
        }
      ]
    },
    {
      "cell_type": "code",
      "source": [
        "import xgboost as xgb\n",
        "xgb_depth = xgb.XGBClassifier(max_depth=best_depth,random_state=0)\n",
        "xgb_depth.fit(X_train,y_train)\n",
        "y_pred = xgb_depth.predict(X_test)\n",
        "\n",
        "\n",
        "from sklearn.metrics import classification_report, confusion_matrix, accuracy_score\n",
        "print(confusion_matrix(y_test, y_pred))\n",
        "print(classification_report(y_test,y_pred))\n",
        "print(\"Accurecy: \",accuracy_score(y_test, y_pred))\n",
        "result[(xgb_depth,4,'xgboost')]=accuracy_score(y_test, y_pred)\n",
        "print(xgb_depth)"
      ],
      "metadata": {
        "colab": {
          "base_uri": "https://localhost:8080/"
        },
        "id": "lfBp-uGXuaKY",
        "outputId": "ce24c489-9dc1-481f-c7cf-18192c6cfc55"
      },
      "execution_count": 47,
      "outputs": [
        {
          "output_type": "stream",
          "name": "stdout",
          "text": [
            "[[12  3]\n",
            " [ 9  9]]\n",
            "              precision    recall  f1-score   support\n",
            "\n",
            "           0       0.57      0.80      0.67        15\n",
            "           1       0.75      0.50      0.60        18\n",
            "\n",
            "    accuracy                           0.64        33\n",
            "   macro avg       0.66      0.65      0.63        33\n",
            "weighted avg       0.67      0.64      0.63        33\n",
            "\n",
            "Accurecy:  0.6363636363636364\n",
            "XGBClassifier(max_depth=7)\n"
          ]
        }
      ]
    },
    {
      "cell_type": "code",
      "source": [
        "import xgboost as xgb\n",
        "xgb_estimator = xgb.XGBClassifier(n_estimators=best_estimator,random_state=0)\n",
        "xgb_estimator.fit(X_train,y_train)\n",
        "y_pred = xgb_estimator.predict(X_test)\n",
        "\n",
        "\n",
        "from sklearn.metrics import classification_report, confusion_matrix, accuracy_score\n",
        "print(confusion_matrix(y_test, y_pred))\n",
        "print(classification_report(y_test,y_pred))\n",
        "print(\"Accurecy: \",accuracy_score(y_test, y_pred))\n",
        "result[(xgb_estimator,4,'xgboost')]=accuracy_score(y_test, y_pred)\n",
        "print(xgb_estimator)"
      ],
      "metadata": {
        "colab": {
          "base_uri": "https://localhost:8080/"
        },
        "id": "_qBm-yTqzOsi",
        "outputId": "c1397620-9581-4487-a027-110ab1da517d"
      },
      "execution_count": 48,
      "outputs": [
        {
          "output_type": "stream",
          "name": "stdout",
          "text": [
            "[[12  3]\n",
            " [ 9  9]]\n",
            "              precision    recall  f1-score   support\n",
            "\n",
            "           0       0.57      0.80      0.67        15\n",
            "           1       0.75      0.50      0.60        18\n",
            "\n",
            "    accuracy                           0.64        33\n",
            "   macro avg       0.66      0.65      0.63        33\n",
            "weighted avg       0.67      0.64      0.63        33\n",
            "\n",
            "Accurecy:  0.6363636363636364\n",
            "XGBClassifier(n_estimators=6)\n"
          ]
        }
      ]
    },
    {
      "cell_type": "code",
      "source": [
        "import xgboost as xgb\n",
        "xgb_all = xgb.XGBClassifier(n_estimators=best_estimator,max_depth=best_depth,random_state=0)\n",
        "xgb_all.fit(X_train,y_train)\n",
        "y_pred = xgb_all.predict(X_test)\n",
        "\n",
        "\n",
        "from sklearn.metrics import classification_report, confusion_matrix, accuracy_score\n",
        "print(confusion_matrix(y_test, y_pred))\n",
        "print(classification_report(y_test,y_pred))\n",
        "print(\"Accurecy: \",accuracy_score(y_test, y_pred))\n",
        "result[(xgb_all,4,'xgboost')]=accuracy_score(y_test, y_pred)"
      ],
      "metadata": {
        "colab": {
          "base_uri": "https://localhost:8080/"
        },
        "id": "zW-0PfT-zX3C",
        "outputId": "84a21f83-be5c-4ff4-b9ec-21294290ae9d"
      },
      "execution_count": 49,
      "outputs": [
        {
          "output_type": "stream",
          "name": "stdout",
          "text": [
            "[[12  3]\n",
            " [11  7]]\n",
            "              precision    recall  f1-score   support\n",
            "\n",
            "           0       0.52      0.80      0.63        15\n",
            "           1       0.70      0.39      0.50        18\n",
            "\n",
            "    accuracy                           0.58        33\n",
            "   macro avg       0.61      0.59      0.57        33\n",
            "weighted avg       0.62      0.58      0.56        33\n",
            "\n",
            "Accurecy:  0.5757575757575758\n"
          ]
        }
      ]
    },
    {
      "cell_type": "markdown",
      "source": [
        "#KNN"
      ],
      "metadata": {
        "id": "K6_icFWdauSI"
      }
    },
    {
      "cell_type": "code",
      "source": [
        "from sklearn.neighbors import KNeighborsClassifier\n",
        "knn_default = KNeighborsClassifier()\n",
        "knn_default.fit(X_train, y_train)\n",
        "y_pred=knn_default.predict(X_test)\n",
        "\n",
        "\n",
        "from sklearn.metrics import classification_report, confusion_matrix, accuracy_score\n",
        "print(confusion_matrix(y_test, y_pred))\n",
        "print(classification_report(y_test,y_pred))\n",
        "print(\"Accurecy: \",accuracy_score(y_test, y_pred))\n",
        "result[(knn_default,5,'KNeighborsClassifier')]=accuracy_score(y_test, y_pred)"
      ],
      "metadata": {
        "colab": {
          "base_uri": "https://localhost:8080/"
        },
        "id": "6GALUBYbaz1z",
        "outputId": "61dd9832-28bc-4437-f4f1-a16c893691b3"
      },
      "execution_count": 50,
      "outputs": [
        {
          "output_type": "stream",
          "name": "stdout",
          "text": [
            "[[ 9  6]\n",
            " [11  7]]\n",
            "              precision    recall  f1-score   support\n",
            "\n",
            "           0       0.45      0.60      0.51        15\n",
            "           1       0.54      0.39      0.45        18\n",
            "\n",
            "    accuracy                           0.48        33\n",
            "   macro avg       0.49      0.49      0.48        33\n",
            "weighted avg       0.50      0.48      0.48        33\n",
            "\n",
            "Accurecy:  0.48484848484848486\n"
          ]
        }
      ]
    },
    {
      "cell_type": "code",
      "source": [
        "from sklearn.neighbors import KNeighborsClassifier\n",
        "from sklearn.metrics import accuracy_score\n",
        "Neighbors=130\n",
        "k_range = range (1,Neighbors+1)\n",
        "scores={}\n",
        "scores_list = []\n",
        "for k in k_range:\n",
        "  knn = KNeighborsClassifier(n_neighbors=k)\n",
        "  knn.fit(X_train, y_train)\n",
        "  y_pred=knn.predict(X_test)\n",
        "  scores[k] = accuracy_score(y_test,y_pred)\n",
        "  scores_list.append(accuracy_score(y_test,y_pred))\n",
        "  print(str(k)+\"/\"+str(Neighbors)+\" round completed......................... Accurecy: \"+str(accuracy_score(y_test,y_pred)))\n",
        "\n",
        "\n",
        "%matplotlib inline\n",
        "import matplotlib.pyplot as plt\n",
        "\n",
        "plt.figure(figsize = (25,10))\n",
        "plt.plot(k_range,scores_list)\n",
        "plt.xlabel('Value of n_estimators')\n",
        "plt.ylabel ('Testing Accuracy')\n",
        "\n",
        "\n",
        "\n",
        "print(\"The best Depth:\")\n",
        "best=list(scores.keys())[scores_list.index(max(scores_list))]\n",
        "print(best)"
      ],
      "metadata": {
        "colab": {
          "base_uri": "https://localhost:8080/",
          "height": 0
        },
        "id": "CpSsmYDHa-VF",
        "outputId": "93181b99-e93e-41cb-9b56-11825dd4d118"
      },
      "execution_count": 51,
      "outputs": [
        {
          "output_type": "stream",
          "name": "stdout",
          "text": [
            "1/130 round completed......................... Accurecy: 0.48484848484848486\n",
            "2/130 round completed......................... Accurecy: 0.3939393939393939\n",
            "3/130 round completed......................... Accurecy: 0.45454545454545453\n",
            "4/130 round completed......................... Accurecy: 0.42424242424242425\n",
            "5/130 round completed......................... Accurecy: 0.48484848484848486\n",
            "6/130 round completed......................... Accurecy: 0.3939393939393939\n",
            "7/130 round completed......................... Accurecy: 0.3939393939393939\n",
            "8/130 round completed......................... Accurecy: 0.42424242424242425\n",
            "9/130 round completed......................... Accurecy: 0.45454545454545453\n",
            "10/130 round completed......................... Accurecy: 0.48484848484848486\n",
            "11/130 round completed......................... Accurecy: 0.42424242424242425\n",
            "12/130 round completed......................... Accurecy: 0.3939393939393939\n",
            "13/130 round completed......................... Accurecy: 0.42424242424242425\n",
            "14/130 round completed......................... Accurecy: 0.36363636363636365\n",
            "15/130 round completed......................... Accurecy: 0.42424242424242425\n",
            "16/130 round completed......................... Accurecy: 0.42424242424242425\n",
            "17/130 round completed......................... Accurecy: 0.45454545454545453\n",
            "18/130 round completed......................... Accurecy: 0.48484848484848486\n",
            "19/130 round completed......................... Accurecy: 0.45454545454545453\n",
            "20/130 round completed......................... Accurecy: 0.3939393939393939\n",
            "21/130 round completed......................... Accurecy: 0.3939393939393939\n",
            "22/130 round completed......................... Accurecy: 0.36363636363636365\n",
            "23/130 round completed......................... Accurecy: 0.36363636363636365\n",
            "24/130 round completed......................... Accurecy: 0.45454545454545453\n",
            "25/130 round completed......................... Accurecy: 0.45454545454545453\n",
            "26/130 round completed......................... Accurecy: 0.45454545454545453\n",
            "27/130 round completed......................... Accurecy: 0.5151515151515151\n",
            "28/130 round completed......................... Accurecy: 0.5454545454545454\n",
            "29/130 round completed......................... Accurecy: 0.5151515151515151\n",
            "30/130 round completed......................... Accurecy: 0.5151515151515151\n",
            "31/130 round completed......................... Accurecy: 0.5151515151515151\n",
            "32/130 round completed......................... Accurecy: 0.48484848484848486\n",
            "33/130 round completed......................... Accurecy: 0.48484848484848486\n",
            "34/130 round completed......................... Accurecy: 0.48484848484848486\n",
            "35/130 round completed......................... Accurecy: 0.48484848484848486\n",
            "36/130 round completed......................... Accurecy: 0.48484848484848486\n",
            "37/130 round completed......................... Accurecy: 0.48484848484848486\n",
            "38/130 round completed......................... Accurecy: 0.48484848484848486\n",
            "39/130 round completed......................... Accurecy: 0.45454545454545453\n",
            "40/130 round completed......................... Accurecy: 0.48484848484848486\n",
            "41/130 round completed......................... Accurecy: 0.5151515151515151\n",
            "42/130 round completed......................... Accurecy: 0.48484848484848486\n",
            "43/130 round completed......................... Accurecy: 0.5151515151515151\n",
            "44/130 round completed......................... Accurecy: 0.48484848484848486\n",
            "45/130 round completed......................... Accurecy: 0.5151515151515151\n",
            "46/130 round completed......................... Accurecy: 0.48484848484848486\n",
            "47/130 round completed......................... Accurecy: 0.48484848484848486\n",
            "48/130 round completed......................... Accurecy: 0.48484848484848486\n",
            "49/130 round completed......................... Accurecy: 0.48484848484848486\n",
            "50/130 round completed......................... Accurecy: 0.48484848484848486\n",
            "51/130 round completed......................... Accurecy: 0.48484848484848486\n",
            "52/130 round completed......................... Accurecy: 0.48484848484848486\n",
            "53/130 round completed......................... Accurecy: 0.48484848484848486\n",
            "54/130 round completed......................... Accurecy: 0.48484848484848486\n",
            "55/130 round completed......................... Accurecy: 0.48484848484848486\n",
            "56/130 round completed......................... Accurecy: 0.5151515151515151\n",
            "57/130 round completed......................... Accurecy: 0.5151515151515151\n",
            "58/130 round completed......................... Accurecy: 0.5151515151515151\n",
            "59/130 round completed......................... Accurecy: 0.5151515151515151\n",
            "60/130 round completed......................... Accurecy: 0.5151515151515151\n",
            "61/130 round completed......................... Accurecy: 0.5151515151515151\n",
            "62/130 round completed......................... Accurecy: 0.5151515151515151\n",
            "63/130 round completed......................... Accurecy: 0.48484848484848486\n",
            "64/130 round completed......................... Accurecy: 0.48484848484848486\n",
            "65/130 round completed......................... Accurecy: 0.48484848484848486\n",
            "66/130 round completed......................... Accurecy: 0.48484848484848486\n",
            "67/130 round completed......................... Accurecy: 0.45454545454545453\n",
            "68/130 round completed......................... Accurecy: 0.45454545454545453\n",
            "69/130 round completed......................... Accurecy: 0.45454545454545453\n",
            "70/130 round completed......................... Accurecy: 0.48484848484848486\n",
            "71/130 round completed......................... Accurecy: 0.48484848484848486\n",
            "72/130 round completed......................... Accurecy: 0.48484848484848486\n",
            "73/130 round completed......................... Accurecy: 0.48484848484848486\n",
            "74/130 round completed......................... Accurecy: 0.48484848484848486\n",
            "75/130 round completed......................... Accurecy: 0.48484848484848486\n",
            "76/130 round completed......................... Accurecy: 0.48484848484848486\n",
            "77/130 round completed......................... Accurecy: 0.48484848484848486\n",
            "78/130 round completed......................... Accurecy: 0.5151515151515151\n",
            "79/130 round completed......................... Accurecy: 0.48484848484848486\n",
            "80/130 round completed......................... Accurecy: 0.5151515151515151\n",
            "81/130 round completed......................... Accurecy: 0.48484848484848486\n",
            "82/130 round completed......................... Accurecy: 0.5151515151515151\n",
            "83/130 round completed......................... Accurecy: 0.5151515151515151\n",
            "84/130 round completed......................... Accurecy: 0.5151515151515151\n",
            "85/130 round completed......................... Accurecy: 0.5151515151515151\n",
            "86/130 round completed......................... Accurecy: 0.5151515151515151\n",
            "87/130 round completed......................... Accurecy: 0.5151515151515151\n",
            "88/130 round completed......................... Accurecy: 0.5151515151515151\n",
            "89/130 round completed......................... Accurecy: 0.48484848484848486\n",
            "90/130 round completed......................... Accurecy: 0.5151515151515151\n",
            "91/130 round completed......................... Accurecy: 0.48484848484848486\n",
            "92/130 round completed......................... Accurecy: 0.48484848484848486\n",
            "93/130 round completed......................... Accurecy: 0.48484848484848486\n",
            "94/130 round completed......................... Accurecy: 0.5151515151515151\n",
            "95/130 round completed......................... Accurecy: 0.48484848484848486\n",
            "96/130 round completed......................... Accurecy: 0.48484848484848486\n",
            "97/130 round completed......................... Accurecy: 0.48484848484848486\n",
            "98/130 round completed......................... Accurecy: 0.48484848484848486\n",
            "99/130 round completed......................... Accurecy: 0.45454545454545453\n",
            "100/130 round completed......................... Accurecy: 0.48484848484848486\n",
            "101/130 round completed......................... Accurecy: 0.48484848484848486\n",
            "102/130 round completed......................... Accurecy: 0.5151515151515151\n",
            "103/130 round completed......................... Accurecy: 0.5151515151515151\n",
            "104/130 round completed......................... Accurecy: 0.5454545454545454\n",
            "105/130 round completed......................... Accurecy: 0.5151515151515151\n",
            "106/130 round completed......................... Accurecy: 0.5151515151515151\n",
            "107/130 round completed......................... Accurecy: 0.48484848484848486\n",
            "108/130 round completed......................... Accurecy: 0.48484848484848486\n",
            "109/130 round completed......................... Accurecy: 0.5151515151515151\n",
            "110/130 round completed......................... Accurecy: 0.48484848484848486\n",
            "111/130 round completed......................... Accurecy: 0.48484848484848486\n",
            "112/130 round completed......................... Accurecy: 0.48484848484848486\n",
            "113/130 round completed......................... Accurecy: 0.5151515151515151\n",
            "114/130 round completed......................... Accurecy: 0.5151515151515151\n",
            "115/130 round completed......................... Accurecy: 0.5454545454545454\n",
            "116/130 round completed......................... Accurecy: 0.48484848484848486\n",
            "117/130 round completed......................... Accurecy: 0.5151515151515151\n",
            "118/130 round completed......................... Accurecy: 0.45454545454545453\n",
            "119/130 round completed......................... Accurecy: 0.42424242424242425\n",
            "120/130 round completed......................... Accurecy: 0.45454545454545453\n",
            "121/130 round completed......................... Accurecy: 0.45454545454545453\n",
            "122/130 round completed......................... Accurecy: 0.45454545454545453\n",
            "123/130 round completed......................... Accurecy: 0.45454545454545453\n",
            "124/130 round completed......................... Accurecy: 0.45454545454545453\n",
            "125/130 round completed......................... Accurecy: 0.45454545454545453\n",
            "126/130 round completed......................... Accurecy: 0.45454545454545453\n",
            "127/130 round completed......................... Accurecy: 0.45454545454545453\n",
            "128/130 round completed......................... Accurecy: 0.45454545454545453\n",
            "129/130 round completed......................... Accurecy: 0.45454545454545453\n",
            "130/130 round completed......................... Accurecy: 0.45454545454545453\n",
            "The best Depth:\n",
            "28\n"
          ]
        },
        {
          "output_type": "display_data",
          "data": {
            "text/plain": [
              "<Figure size 1800x720 with 1 Axes>"
            ],
            "image/png": "[encoded data removed]"
          },
          "metadata": {
            "needs_background": "light"
          }
        }
      ]
    },
    {
      "cell_type": "code",
      "source": [
        "from sklearn.neighbors import KNeighborsClassifier\n",
        "knn_neighbors = KNeighborsClassifier(n_neighbors=best)\n",
        "knn_neighbors.fit(X_train, y_train)\n",
        "y_pred=knn_neighbors.predict(X_test)\n",
        "\n",
        "\n",
        "from sklearn.metrics import classification_report, confusion_matrix, accuracy_score\n",
        "print(confusion_matrix(y_test, y_pred))\n",
        "print(classification_report(y_test,y_pred))\n",
        "print(\"Accurecy: \",accuracy_score(y_test, y_pred))\n",
        "result[(knn_neighbors,5,'KNeighborsClassifier')]=accuracy_score(y_test, y_pred)"
      ],
      "metadata": {
        "colab": {
          "base_uri": "https://localhost:8080/"
        },
        "id": "MIVJZYV8bCjo",
        "outputId": "4c220d0d-55c0-4007-c532-cf1c541ff48a"
      },
      "execution_count": 52,
      "outputs": [
        {
          "output_type": "stream",
          "name": "stdout",
          "text": [
            "[[10  5]\n",
            " [10  8]]\n",
            "              precision    recall  f1-score   support\n",
            "\n",
            "           0       0.50      0.67      0.57        15\n",
            "           1       0.62      0.44      0.52        18\n",
            "\n",
            "    accuracy                           0.55        33\n",
            "   macro avg       0.56      0.56      0.54        33\n",
            "weighted avg       0.56      0.55      0.54        33\n",
            "\n",
            "Accurecy:  0.5454545454545454\n"
          ]
        }
      ]
    },
    {
      "cell_type": "markdown",
      "source": [
        "#NB"
      ],
      "metadata": {
        "id": "_Btki9jRvc1Y"
      }
    },
    {
      "cell_type": "code",
      "source": [
        "from sklearn.naive_bayes import GaussianNB\n",
        "\n",
        "nb_deafult = GaussianNB()\n",
        "nb_deafult.fit(X_train, y_train)\n",
        "y_pred = nb_deafult.predict(X_test)\n",
        "\n",
        "\n",
        "from sklearn.metrics import classification_report, confusion_matrix, accuracy_score\n",
        "print(confusion_matrix(y_test, y_pred))\n",
        "print(classification_report(y_test,y_pred))\n",
        "print(\"Accurecy: \",accuracy_score(y_test, y_pred))\n",
        "result[(nb_deafult,6,'GaussianNB')]=accuracy_score(y_test, y_pred)"
      ],
      "metadata": {
        "colab": {
          "base_uri": "https://localhost:8080/"
        },
        "id": "iRmd7ve-ubcd",
        "outputId": "d809cf3b-6007-4bff-c462-fe0e5e4d2bbf"
      },
      "execution_count": 53,
      "outputs": [
        {
          "output_type": "stream",
          "name": "stdout",
          "text": [
            "[[12  3]\n",
            " [ 7 11]]\n",
            "              precision    recall  f1-score   support\n",
            "\n",
            "           0       0.63      0.80      0.71        15\n",
            "           1       0.79      0.61      0.69        18\n",
            "\n",
            "    accuracy                           0.70        33\n",
            "   macro avg       0.71      0.71      0.70        33\n",
            "weighted avg       0.72      0.70      0.70        33\n",
            "\n",
            "Accurecy:  0.696969696969697\n"
          ]
        }
      ]
    },
    {
      "cell_type": "markdown",
      "source": [
        "\n",
        "\n",
        "---\n",
        "\n",
        "\n",
        "\n",
        "---\n",
        "\n"
      ],
      "metadata": {
        "id": "qqsWPAB3uv72"
      }
    },
    {
      "cell_type": "markdown",
      "source": [
        "#Result"
      ],
      "metadata": {
        "id": "6FEsxCdvkg2D"
      }
    },
    {
      "cell_type": "code",
      "source": [
        "for i in result:\n",
        "  print(i[0],\" : \",result[i])\n",
        "  print(\"---------------------------------------------------------------\")\n",
        "  print()"
      ],
      "metadata": {
        "colab": {
          "base_uri": "https://localhost:8080/"
        },
        "id": "rx7qCLU14Aim",
        "outputId": "93b4fae0-f4bf-429c-c761-465439474ea7"
      },
      "execution_count": 54,
      "outputs": [
        {
          "output_type": "stream",
          "name": "stdout",
          "text": [
            "AdaBoostClassifier(random_state=0)  :  0.5757575757575758\n",
            "---------------------------------------------------------------\n",
            "\n",
            "AdaBoostClassifier(n_estimators=2, random_state=0)  :  0.696969696969697\n",
            "---------------------------------------------------------------\n",
            "\n",
            "GradientBoostingClassifier(random_state=0)  :  0.6363636363636364\n",
            "---------------------------------------------------------------\n",
            "\n",
            "GradientBoostingClassifier(n_estimators=8, random_state=0)  :  0.6666666666666666\n",
            "---------------------------------------------------------------\n",
            "\n",
            "GradientBoostingClassifier(random_state=0)  :  0.6363636363636364\n",
            "---------------------------------------------------------------\n",
            "\n",
            "GradientBoostingClassifier(n_estimators=8, random_state=0)  :  0.6666666666666666\n",
            "---------------------------------------------------------------\n",
            "\n",
            "RandomForestClassifier(random_state=0)  :  0.696969696969697\n",
            "---------------------------------------------------------------\n",
            "\n",
            "RandomForestClassifier(n_estimators=1, random_state=0)  :  0.7878787878787878\n",
            "---------------------------------------------------------------\n",
            "\n",
            "RandomForestClassifier(max_depth=3, random_state=0)  :  0.696969696969697\n",
            "---------------------------------------------------------------\n",
            "\n",
            "RandomForestClassifier(max_depth=3, n_estimators=1, random_state=0)  :  0.5454545454545454\n",
            "---------------------------------------------------------------\n",
            "\n",
            "XGBClassifier()  :  0.6060606060606061\n",
            "---------------------------------------------------------------\n",
            "\n",
            "XGBClassifier(max_depth=7)  :  0.6363636363636364\n",
            "---------------------------------------------------------------\n",
            "\n",
            "XGBClassifier(n_estimators=6)  :  0.6363636363636364\n",
            "---------------------------------------------------------------\n",
            "\n",
            "XGBClassifier(max_depth=7, n_estimators=6)  :  0.5757575757575758\n",
            "---------------------------------------------------------------\n",
            "\n",
            "KNeighborsClassifier()  :  0.48484848484848486\n",
            "---------------------------------------------------------------\n",
            "\n",
            "KNeighborsClassifier(n_neighbors=28)  :  0.5454545454545454\n",
            "---------------------------------------------------------------\n",
            "\n",
            "GaussianNB()  :  0.696969696969697\n",
            "---------------------------------------------------------------\n",
            "\n"
          ]
        }
      ]
    },
    {
      "cell_type": "code",
      "source": [
        "best_models=[]\n",
        "sorted_values = sorted(result.values(),reverse=True) \n",
        "sorted_result = {}\n",
        "\n",
        "for i in sorted_values:\n",
        "    for k in result.keys():\n",
        "        if result[k] == i:\n",
        "            sorted_result[k] = result[k]\n",
        "            break\n",
        "\n",
        "\n",
        "\n",
        "flage=[]\n",
        "it=0\n",
        "\n",
        "print(\"Best Models and Accuracy\")\n",
        "for i in sorted_result:\n",
        "  if it==4:\n",
        "    break\n",
        "  if i[1] not in flage:\n",
        "    print(\"---------------\")\n",
        "    best_models.append((i[0],i[2]))\n",
        "    print(i[0],\" : \",sorted_result[i])\n",
        "    y_pred = i[0].predict(X_test)\n",
        "\n",
        "    flage.append(i[1])\n",
        "    it+=1"
      ],
      "metadata": {
        "colab": {
          "base_uri": "https://localhost:8080/"
        },
        "id": "09kZnUdD49oR",
        "outputId": "bfb659a3-3558-4102-d596-bae0a4164d7f"
      },
      "execution_count": 55,
      "outputs": [
        {
          "output_type": "stream",
          "name": "stdout",
          "text": [
            "Best Models and Accuracy\n",
            "---------------\n",
            "RandomForestClassifier(n_estimators=1, random_state=0)  :  0.7878787878787878\n",
            "---------------\n",
            "AdaBoostClassifier(n_estimators=2, random_state=0)  :  0.696969696969697\n",
            "---------------\n",
            "GradientBoostingClassifier(n_estimators=8, random_state=0)  :  0.6666666666666666\n",
            "---------------\n",
            "XGBClassifier()  :  0.6060606060606061\n"
          ]
        }
      ]
    },
    {
      "cell_type": "code",
      "source": [
        "len(best_models)"
      ],
      "metadata": {
        "colab": {
          "base_uri": "https://localhost:8080/"
        },
        "id": "VQCaVYKA5acD",
        "outputId": "6a4c8804-2b90-45e8-ae03-6b378c9bda29"
      },
      "execution_count": 56,
      "outputs": [
        {
          "output_type": "execute_result",
          "data": {
            "text/plain": [
              "4"
            ]
          },
          "metadata": {},
          "execution_count": 56
        }
      ]
    },
    {
      "cell_type": "markdown",
      "source": [
        "#ROC"
      ],
      "metadata": {
        "id": "bwOJ36hchWiN"
      }
    },
    {
      "cell_type": "markdown",
      "source": [
        "**ROC AUC Testing**"
      ],
      "metadata": {
        "id": "tbsFSL7CB6KT"
      }
    },
    {
      "cell_type": "code",
      "source": [
        "\n",
        "r_probs = [0 for _ in range(len(y_test))]\n",
        "model1_probs = best_models[0][0].predict_proba(X_test)\n",
        "model2_probs = best_models[1][0].predict_proba(X_test)\n",
        "if len(best_models)>2:\n",
        "  model3_probs=  best_models[2][0].predict_proba(X_test)\n",
        "if len(best_models)>3:\n",
        "  model4_probs=  best_models[3][0].predict_proba(X_test)\n",
        "\n",
        "\n",
        "model1_probs = model1_probs[:, 1]\n",
        "model2_probs = model2_probs[:, 1]\n",
        "if len(best_models)>2:\n",
        "  model3_probs=  model3_probs[:, 1]\n",
        "if len(best_models)>3:\n",
        "  model4_probs=  model4_probs[:, 1]\n",
        "\n",
        "\n",
        "\n",
        "from sklearn.metrics import roc_curve, roc_auc_score\n",
        "\n",
        "r_auc = roc_auc_score(y_test, r_probs)\n",
        "model1_auc = roc_auc_score(y_test, model1_probs)\n",
        "model2_auc = roc_auc_score(y_test, model2_probs)\n",
        "if len(best_models)>2:\n",
        "  model3_auc = roc_auc_score(y_test, model3_probs)\n",
        "if len(best_models)>3:\n",
        "  model4_auc = roc_auc_score(y_test, model4_probs)\n",
        "\n",
        "\n",
        "\n",
        "r_fpr, r_tpr, _ = roc_curve(y_test, r_probs)\n",
        "model1_fpr, model1_tpr, _ = roc_curve(y_test, model1_probs)\n",
        "model2_fpr, model2_tpr, _ = roc_curve(y_test, model2_probs)\n",
        "if len(best_models)>2:\n",
        "  model3_fpr, model3_tpr, _ = roc_curve(y_test, model3_probs)\n",
        "if len(best_models)>3:\n",
        "  model4_fpr, model4_tpr, _ = roc_curve(y_test, model4_probs)\n",
        "\n",
        "\n",
        "\n",
        "import matplotlib.pyplot as plt\n",
        "plt.plot(r_fpr, r_tpr, linestyle='--', label='Random prediction (AUROC = %0.3f)' % r_auc)\n",
        "plt.plot(model1_fpr, model1_tpr, marker='.', label=best_models[0][1]+' (AUROC = %0.3f)' % model1_auc)\n",
        "plt.plot(model2_fpr, model2_tpr, marker='.', label=best_models[1][1]+' (AUROC = %0.3f)' % model2_auc)\n",
        "if len(best_models)>2:\n",
        "  plt.plot(model3_fpr, model3_tpr, marker='.', label=best_models[2][1]+' (AUROC = %0.3f)' % model3_auc)\n",
        "if len(best_models)>3:\n",
        "  plt.plot(model4_fpr, model4_tpr, marker='.', label=best_models[3][1]+' (AUROC = %0.3f)' % model4_auc)\n",
        "\n",
        "# Title\n",
        "plt.title('ROC Plot Testing',fontsize= 18, fontweight='bold')\n",
        "plt.xlabel('False Positive Rate',fontweight='bold',fontsize=16)\n",
        "plt.ylabel('True Positive Rate',fontweight='bold',fontsize=16)\n",
        "plt.legend() \n",
        "fig = plt.gcf()\n",
        "fig.set_size_inches(18.5, 10.5)\n",
        "fig.savefig('ROC_Testing.png', dpi=100)\n",
        "plt.show()"
      ],
      "metadata": {
        "colab": {
          "base_uri": "https://localhost:8080/",
          "height": 658
        },
        "id": "1vcdJFWbdC8B",
        "outputId": "28602779-6ce2-431e-c5b4-0c80e1e11127"
      },
      "execution_count": 57,
      "outputs": [
        {
          "output_type": "display_data",
          "data": {
            "text/plain": [
              "<Figure size 1332x756 with 1 Axes>"
            ],
            "image/png": "[encoded data removed]"
          },
          "metadata": {
            "needs_background": "light"
          }
        }
      ]
    },
    {
      "cell_type": "markdown",
      "source": [
        "**ROC-AUC For Training Phase**"
      ],
      "metadata": {
        "id": "rndy_f9EjvGF"
      }
    },
    {
      "cell_type": "code",
      "source": [
        "\n",
        "r_probs = [0 for _ in range(len(y_train))]\n",
        "model1_probs = best_models[0][0].predict_proba(X_train)\n",
        "model2_probs = best_models[1][0].predict_proba(X_train)\n",
        "if len(best_models)>2:\n",
        "  model3_probs=  best_models[2][0].predict_proba(X_train)\n",
        "if len(best_models)>3:\n",
        "  model4_probs=  best_models[3][0].predict_proba(X_train)\n",
        "\n",
        "\n",
        "model1_probs = model1_probs[:, 1]\n",
        "model2_probs = model2_probs[:, 1]\n",
        "if len(best_models)>2:\n",
        "  model3_probs=  model3_probs[:, 1]\n",
        "if len(best_models)>3:\n",
        "  model4_probs=  model4_probs[:, 1]\n",
        "\n",
        "\n",
        "\n",
        "from sklearn.metrics import roc_curve, roc_auc_score\n",
        "\n",
        "r_auc = roc_auc_score(y_train, r_probs)\n",
        "model1_auc = roc_auc_score(y_train, model1_probs)\n",
        "model2_auc = roc_auc_score(y_train, model2_probs)\n",
        "if len(best_models)>2:\n",
        "  model3_auc = roc_auc_score(y_train, model3_probs)\n",
        "if len(best_models)>3:\n",
        "  model4_auc = roc_auc_score(y_train, model4_probs)\n",
        "\n",
        "\n",
        "\n",
        "r_fpr, r_tpr, _ = roc_curve(y_train, r_probs)\n",
        "model1_fpr, model1_tpr, _ = roc_curve(y_train, model1_probs)\n",
        "model2_fpr, model2_tpr, _ = roc_curve(y_train, model2_probs)\n",
        "if len(best_models)>2:\n",
        "  model3_fpr, model3_tpr, _ = roc_curve(y_train, model3_probs)\n",
        "if len(best_models)>3:\n",
        "  model4_fpr, model4_tpr, _ = roc_curve(y_train, model4_probs)\n",
        "\n",
        "\n",
        "\n",
        "import matplotlib.pyplot as plt\n",
        "plt.plot(r_fpr, r_tpr, linestyle='--', label='Random prediction (AUROC = %0.3f)' % r_auc)\n",
        "plt.plot(model1_fpr, model1_tpr, marker='.', label=best_models[0][1]+' (AUROC = %0.3f)' % model1_auc)\n",
        "plt.plot(model2_fpr, model2_tpr, marker='.', label=best_models[1][1]+' (AUROC = %0.3f)' % model2_auc)\n",
        "if len(best_models)>2:\n",
        "  plt.plot(model3_fpr, model3_tpr, marker='.', label=best_models[2][1]+' (AUROC = %0.3f)' % model3_auc)\n",
        "if len(best_models)>3:\n",
        "  plt.plot(model4_fpr, model4_tpr, marker='.', label=best_models[3][1]+' (AUROC = %0.3f)' % model4_auc)\n",
        "\n",
        "# Title\n",
        "plt.title('ROC Plot Training',fontsize= 18, fontweight='bold')\n",
        "plt.xlabel('False Positive Rate',fontweight='bold',fontsize=16)\n",
        "plt.ylabel('True Positive Rate',fontweight='bold',fontsize=16)\n",
        "plt.legend() \n",
        "fig = plt.gcf()\n",
        "fig.set_size_inches(18.5, 10.5)\n",
        "fig.savefig('ROC_Training.png', dpi=100)\n",
        "plt.show()"
      ],
      "metadata": {
        "colab": {
          "base_uri": "https://localhost:8080/",
          "height": 658
        },
        "id": "KXfjiK8ai6Bq",
        "outputId": "0bcda0d5-dfb4-4cdb-c78f-a1fc2fc267d8"
      },
      "execution_count": 58,
      "outputs": [
        {
          "output_type": "display_data",
          "data": {
            "text/plain": [
              "<Figure size 1332x756 with 1 Axes>"
            ],
            "image/png": "[encoded data removed]"
          },
          "metadata": {
            "needs_background": "light"
          }
        }
      ]
    },
    {
      "cell_type": "markdown",
      "source": [
        "Testing: Why XG Boost Has Good Graph?"
      ],
      "metadata": {
        "id": "e5f5kCu9CM9q"
      }
    },
    {
      "cell_type": "code",
      "source": [
        "y_pred=best_models[3][0].predict(X_test)\n",
        "\n",
        "from sklearn.metrics import classification_report, confusion_matrix, accuracy_score\n",
        "print(confusion_matrix(y_test, y_pred))\n",
        "print(classification_report(y_test,y_pred))\n",
        "print(\"Accurecy: \",accuracy_score(y_test, y_pred))\n",
        "result[(ada_defult,1,'AdaBoostClassifier')]=accuracy_score(y_test, y_pred)"
      ],
      "metadata": {
        "colab": {
          "base_uri": "https://localhost:8080/"
        },
        "id": "oLj9CrSGCLEo",
        "outputId": "401587b9-6718-4fd3-fabd-4309d921bc1c"
      },
      "execution_count": 62,
      "outputs": [
        {
          "output_type": "stream",
          "name": "stdout",
          "text": [
            "[[10  5]\n",
            " [ 8 10]]\n",
            "              precision    recall  f1-score   support\n",
            "\n",
            "           0       0.56      0.67      0.61        15\n",
            "           1       0.67      0.56      0.61        18\n",
            "\n",
            "    accuracy                           0.61        33\n",
            "   macro avg       0.61      0.61      0.61        33\n",
            "weighted avg       0.62      0.61      0.61        33\n",
            "\n",
            "Accurecy:  0.6060606060606061\n"
          ]
        }
      ]
    },
    {
      "cell_type": "markdown",
      "source": [
        "#SHAP"
      ],
      "metadata": {
        "id": "zxxWSX26jsGT"
      }
    },
    {
      "cell_type": "code",
      "source": [
        "!pip install shap\n",
        "import shap"
      ],
      "metadata": {
        "id": "YUhJ7dWajur-"
      },
      "execution_count": null,
      "outputs": []
    },
    {
      "cell_type": "markdown",
      "source": [
        "#SHAP MODEL 1"
      ],
      "metadata": {
        "id": "Yx7G8p0vdYvW"
      }
    },
    {
      "cell_type": "code",
      "source": [
        "print(\"Models: \",best_models[0][1])\n",
        "\n",
        "explainer = shap.Explainer(best_models[0][0].predict, X_test)\n",
        "\n",
        "shap_values1 = explainer(X_test)\n",
        "features_names=list_of_feat"
      ],
      "metadata": {
        "id": "f4EgBpm-kRTg"
      },
      "execution_count": null,
      "outputs": []
    },
    {
      "cell_type": "code",
      "source": [
        "print(\"Models: \",best_models[0][0])\n",
        "shap.plots.bar(shap_values1,max_display=20)"
      ],
      "metadata": {
        "id": "XmNUWDv1kzvk"
      },
      "execution_count": null,
      "outputs": []
    },
    {
      "cell_type": "code",
      "source": [
        "print(\"Models: \",best_models[0][0])\n",
        "shap.summary_plot(shap_values1,max_display=20,feature_names=features_names)"
      ],
      "metadata": {
        "id": "Uy-2LatvlW9U"
      },
      "execution_count": null,
      "outputs": []
    },
    {
      "cell_type": "markdown",
      "source": [
        "**Local Explanation** <br>\n",
        "You can change the index of <i>shap_values1[index]</i> to accure the desired output. "
      ],
      "metadata": {
        "id": "jyk23Y4Tb4Ya"
      }
    },
    {
      "cell_type": "code",
      "source": [
        "print(\"Models: \",best_models[0][0])\n",
        "shap.plots.waterfall(shap_values1[2],max_display=20)"
      ],
      "metadata": {
        "id": "rIb-E6Bal2D9"
      },
      "execution_count": null,
      "outputs": []
    },
    {
      "cell_type": "code",
      "source": [
        "print(\"Models: \",best_models[0][0])\n",
        "shap.plots.bar(shap_values1[2],max_display=20)"
      ],
      "metadata": {
        "id": "Exn5Os9UcDRV"
      },
      "execution_count": null,
      "outputs": []
    },
    {
      "cell_type": "markdown",
      "source": [
        "#SHAP MODEL2"
      ],
      "metadata": {
        "id": "bo7XK-8yddEt"
      }
    },
    {
      "cell_type": "code",
      "source": [
        "print(\"Models: \",best_models[1][0])\n",
        "\n",
        "explainer = shap.Explainer(best_models[1][0].predict, X_test)\n",
        "\n",
        "shap_values2 = explainer(X_test)\n",
        "features_names=list_of_feat"
      ],
      "metadata": {
        "id": "bx-a_Mchm1vs"
      },
      "execution_count": null,
      "outputs": []
    },
    {
      "cell_type": "markdown",
      "source": [
        "**Global Explanation**"
      ],
      "metadata": {
        "id": "jn-0z6RSdQLa"
      }
    },
    {
      "cell_type": "code",
      "source": [
        "print(\"Models: \",best_models[1][0])\n",
        "shap.plots.bar(shap_values2,max_display=20)"
      ],
      "metadata": {
        "id": "INU-JyQzm4NE"
      },
      "execution_count": null,
      "outputs": []
    },
    {
      "cell_type": "code",
      "source": [
        "print(\"Models: \",best_models[1][0])\n",
        "shap.summary_plot(shap_values2,max_display=20,feature_names=features_names)"
      ],
      "metadata": {
        "id": "M8mlnWKFm6NL"
      },
      "execution_count": null,
      "outputs": []
    },
    {
      "cell_type": "markdown",
      "source": [
        "**Local Explanation**"
      ],
      "metadata": {
        "id": "r8sq8PVNdpqq"
      }
    },
    {
      "cell_type": "code",
      "source": [
        "print(\"Models: \",best_models[1][0])\n",
        "shap.plots.waterfall(shap_values2[2],max_display=20)"
      ],
      "metadata": {
        "id": "9uuuEgiZm7qT"
      },
      "execution_count": null,
      "outputs": []
    },
    {
      "cell_type": "code",
      "source": [
        "print(\"Models: \",best_models[1][0])\n",
        "shap.plots.bar(shap_values2[2],max_display=20)"
      ],
      "metadata": {
        "id": "ERfDIlBjdkHK"
      },
      "execution_count": null,
      "outputs": []
    },
    {
      "cell_type": "markdown",
      "source": [
        "#SHAP MODEL 3"
      ],
      "metadata": {
        "id": "pO4ACfc2d7AR"
      }
    },
    {
      "cell_type": "code",
      "source": [
        "print(\"Models: \",best_models[2][0])\n",
        "\n",
        "explainer = shap.Explainer(best_models[2][0].predict, X_test)\n",
        "\n",
        "shap_values3 = explainer( X_test)\n",
        "features_names=list_of_feat"
      ],
      "metadata": {
        "id": "c1JIQJYVnCqS"
      },
      "execution_count": null,
      "outputs": []
    },
    {
      "cell_type": "markdown",
      "source": [
        "**Global**"
      ],
      "metadata": {
        "id": "FJvicgYgeHj_"
      }
    },
    {
      "cell_type": "code",
      "source": [
        "print(\"Models: \",best_models[2][0])\n",
        "shap.plots.bar(shap_values3,max_display=20)"
      ],
      "metadata": {
        "id": "RZEyeVuwnEO8"
      },
      "execution_count": null,
      "outputs": []
    },
    {
      "cell_type": "code",
      "source": [
        "print(\"Models: \",best_models[2][0])\n",
        "shap.summary_plot(shap_values3,max_display=20,feature_names=features_names)"
      ],
      "metadata": {
        "id": "nEz-zVMwnFpA"
      },
      "execution_count": null,
      "outputs": []
    },
    {
      "cell_type": "markdown",
      "source": [
        "**LOCAL**"
      ],
      "metadata": {
        "id": "61UpmXyGeKRZ"
      }
    },
    {
      "cell_type": "code",
      "source": [
        "print(\"Models: \",best_models[2][0])\n",
        "shap.plots.waterfall(shap_values3[2],max_display=20)"
      ],
      "metadata": {
        "id": "g6xWdpGTnG7B"
      },
      "execution_count": null,
      "outputs": []
    },
    {
      "cell_type": "code",
      "source": [
        "print(\"Models: \",best_models[2][0])\n",
        "shap.plots.bar(shap_values3[2],max_display=20)"
      ],
      "metadata": {
        "id": "oL5dV-sHeMu5"
      },
      "execution_count": null,
      "outputs": []
    },
    {
      "cell_type": "markdown",
      "source": [
        "#Confusion Matrix"
      ],
      "metadata": {
        "id": "23z3A3f1ol6d"
      }
    },
    {
      "cell_type": "code",
      "source": [
        "\n",
        "from yellowbrick.classifier import ConfusionMatrix\n",
        "\n",
        "\n",
        "cm = ConfusionMatrix(best_models[0][0], classes=classes)\n",
        "\n",
        "cm.fit(X_train, y_train)\n",
        "cm.score(X_test, y_test)\n",
        "cm.show()"
      ],
      "metadata": {
        "id": "5vsqEYhponhI"
      },
      "execution_count": null,
      "outputs": []
    },
    {
      "cell_type": "markdown",
      "source": [
        ""
      ],
      "metadata": {
        "id": "EwT5yAeqols7"
      }
    },
    {
      "cell_type": "code",
      "source": [
        "cm2 = ConfusionMatrix(best_models[1][0], classes=classes)\n",
        "\n",
        "cm2.fit(X_train, y_train)\n",
        "cm2.score(X_test, y_test)\n",
        "cm2.show()"
      ],
      "metadata": {
        "id": "fDT28QAeqDSd"
      },
      "execution_count": null,
      "outputs": []
    },
    {
      "cell_type": "code",
      "source": [
        "\n",
        "\n",
        "cm3 = ConfusionMatrix(best_models[2][0], classes=classes)\n",
        "\n",
        "cm3.fit(X_train, y_train)\n",
        "cm3.score(X_test, y_test)\n",
        "cm3.show()"
      ],
      "metadata": {
        "id": "VBerBDufqJky"
      },
      "execution_count": null,
      "outputs": []
    },
    {
      "cell_type": "markdown",
      "source": [
        "#Result CSV<br>\n",
        "Predicted and Actual Row will be added at the end index"
      ],
      "metadata": {
        "id": "Wvhy6ENJf_oS"
      }
    },
    {
      "cell_type": "code",
      "source": [
        "def reverse_transfrom(my_list):\n",
        "  for i in range(len(my_list)):\n",
        "    if my_list[i] == 0:\n",
        "      my_list[i] = 'Control'\n",
        "    else:\n",
        "      my_list[i] = 'Patient'\n",
        "  return my_list"
      ],
      "metadata": {
        "id": "FA_xBniSgLzZ"
      },
      "execution_count": null,
      "outputs": []
    },
    {
      "cell_type": "code",
      "source": [
        "for i in range(len(best_models)):\n",
        "  temp=X_test_with_subject\n",
        "\n",
        "  prediction_cls = reverse_transfrom(list(best_models[i][0].predict(X_test[0:])))\n",
        "  actual_cls = reverse_transfrom(list(y_test[0:]))\n",
        "\n",
        "  temp[\"Actual\"] = actual_cls\n",
        "  temp[\"Predicted\"] = prediction_cls\n",
        "\n",
        "  temp.to_csv(best_models[i][1]+\".csv\")"
      ],
      "metadata": {
        "id": "aGw3UapChSZE"
      },
      "execution_count": null,
      "outputs": []
    }
  ]
}