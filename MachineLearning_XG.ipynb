{
  "nbformat": 4,
  "nbformat_minor": 0,
  "metadata": {
    "colab": {
      "name": "MachineLearning_XG.ipynb",
      "provenance": [],
      "mount_file_id": "1W9gn8FOdzmPuxRAV4vyhGVMGHTJ9hkeC",
      "authorship_tag": "ABX9TyPsDQq0yj4/y2hTUlN7WT7R",
      "include_colab_link": true
    },
    "kernelspec": {
      "name": "python3",
      "display_name": "Python 3"
    },
    "language_info": {
      "name": "python"
    }
  },
  "cells": [
    {
      "cell_type": "markdown",
      "metadata": {
        "id": "view-in-github",
        "colab_type": "text"
      },
      "source": [
        "<a href=\"https://colab.research.google.com/github/RafsanJany-44/IQ-RAM-SIRSK/blob/main/MachineLearning_XG.ipynb\" target=\"_parent\"><img src=\"https://colab.research.google.com/assets/colab-badge.svg\" alt=\"Open In Colab\"/></a>"
      ]
    },
    {
      "cell_type": "code",
      "execution_count": 47,
      "metadata": {
        "id": "wkWUzsjVd6Fh"
      },
      "outputs": [],
      "source": [
        "import numpy as np\n",
        "import pandas as pd\n",
        "dataset=pd.read_csv(\"https://raw.githubusercontent.com/RafsanJany-44/IQ-RAM-SIRSK/main/Tinnitus_ALR_features_106.csv\")"
      ]
    },
    {
      "cell_type": "code",
      "source": [
        "dataset.head()"
      ],
      "metadata": {
        "colab": {
          "base_uri": "https://localhost:8080/",
          "height": 317
        },
        "id": "bK965ypigZva",
        "outputId": "97786592-4244-4c17-da65-400455992623"
      },
      "execution_count": 48,
      "outputs": [
        {
          "output_type": "execute_result",
          "data": {
            "text/plain": [
              "  Subject Type/Class Test Type Gap duration  n0_gap_peak_ms  p1_gap_peak_ms  \\\n",
              "0            Healthy      Test         20ms             101             147   \n",
              "1            Healthy      Test         20ms             132             155   \n",
              "2            Healthy      Test         20ms             107             160   \n",
              "3            Healthy      Test         20ms              77             200   \n",
              "4            Healthy      Test         20ms             153             128   \n",
              "\n",
              "   n1_gap_peak_ms  p2_gap_peak_ms  n2_gap_peak_ms  p3_gap_peak_ms  \\\n",
              "0             214             263             366             105   \n",
              "1             217             301             383             131   \n",
              "2             221             305             396             128   \n",
              "3             233             268             379             166   \n",
              "4             224             264             337             147   \n",
              "\n",
              "   n0_nogap_peak_ms  ...  gap_auc_n1p2n2_by_total  gap_auc_p2n2p3_by_total  \\\n",
              "0               149  ...                20.751953                 0.038292   \n",
              "1               175  ...                21.972656                 0.118686   \n",
              "2               192  ...                18.310547                 0.048787   \n",
              "3               120  ...                16.357422                 0.062302   \n",
              "4               176  ...                16.845703                 0.100706   \n",
              "\n",
              "   nogap_auc_total  nogap_auc_total_abs  nogap_auc_n0p1n1_by_total  \\\n",
              "0        33.935547            15.285080                  10.327331   \n",
              "1        35.644531            15.548298                  10.137840   \n",
              "2        41.015625            13.078348                   8.643543   \n",
              "3        39.306641             7.087050                   5.196947   \n",
              "4        32.958984            15.198039                  11.166206   \n",
              "\n",
              "   nogap_auc_p1n1p2_by_total  nogap_auc_n1p2n2_by_total  \\\n",
              "0                   1.672325                  86.663602   \n",
              "1                   3.010325                  79.939031   \n",
              "2                   2.167986                  48.851014   \n",
              "3                   3.325309                  47.181061   \n",
              "4                   2.334388                  45.697755   \n",
              "\n",
              "   nogap_auc_p2n2p3_by_total  fft_gap_total_auc  fft_nogap_total_auc  \n",
              "0                   1.333714           0.940225             0.074033  \n",
              "1                   1.775618           0.665121             0.227634  \n",
              "2                   1.769573           0.618907             0.093239  \n",
              "3                   0.831445           0.453683             0.119996  \n",
              "4                   1.665048           0.845292             0.192855  \n",
              "\n",
              "[5 rows x 109 columns]"
            ],
            "text/html": [
              "\n",
              "  <div id=\"df-709f38aa-f3a8-4a1a-9e40-be75c55be664\">\n",
              "    <div class=\"colab-df-container\">\n",
              "      <div>\n",
              "<style scoped>\n",
              "    .dataframe tbody tr th:only-of-type {\n",
              "        vertical-align: middle;\n",
              "    }\n",
              "\n",
              "    .dataframe tbody tr th {\n",
              "        vertical-align: top;\n",
              "    }\n",
              "\n",
              "    .dataframe thead th {\n",
              "        text-align: right;\n",
              "    }\n",
              "</style>\n",
              "<table border=\"1\" class=\"dataframe\">\n",
              "  <thead>\n",
              "    <tr style=\"text-align: right;\">\n",
              "      <th></th>\n",
              "      <th>Subject Type/Class</th>\n",
              "      <th>Test Type</th>\n",
              "      <th>Gap duration</th>\n",
              "      <th>n0_gap_peak_ms</th>\n",
              "      <th>p1_gap_peak_ms</th>\n",
              "      <th>n1_gap_peak_ms</th>\n",
              "      <th>p2_gap_peak_ms</th>\n",
              "      <th>n2_gap_peak_ms</th>\n",
              "      <th>p3_gap_peak_ms</th>\n",
              "      <th>n0_nogap_peak_ms</th>\n",
              "      <th>...</th>\n",
              "      <th>gap_auc_n1p2n2_by_total</th>\n",
              "      <th>gap_auc_p2n2p3_by_total</th>\n",
              "      <th>nogap_auc_total</th>\n",
              "      <th>nogap_auc_total_abs</th>\n",
              "      <th>nogap_auc_n0p1n1_by_total</th>\n",
              "      <th>nogap_auc_p1n1p2_by_total</th>\n",
              "      <th>nogap_auc_n1p2n2_by_total</th>\n",
              "      <th>nogap_auc_p2n2p3_by_total</th>\n",
              "      <th>fft_gap_total_auc</th>\n",
              "      <th>fft_nogap_total_auc</th>\n",
              "    </tr>\n",
              "  </thead>\n",
              "  <tbody>\n",
              "    <tr>\n",
              "      <th>0</th>\n",
              "      <td>Healthy</td>\n",
              "      <td>Test</td>\n",
              "      <td>20ms</td>\n",
              "      <td>101</td>\n",
              "      <td>147</td>\n",
              "      <td>214</td>\n",
              "      <td>263</td>\n",
              "      <td>366</td>\n",
              "      <td>105</td>\n",
              "      <td>149</td>\n",
              "      <td>...</td>\n",
              "      <td>20.751953</td>\n",
              "      <td>0.038292</td>\n",
              "      <td>33.935547</td>\n",
              "      <td>15.285080</td>\n",
              "      <td>10.327331</td>\n",
              "      <td>1.672325</td>\n",
              "      <td>86.663602</td>\n",
              "      <td>1.333714</td>\n",
              "      <td>0.940225</td>\n",
              "      <td>0.074033</td>\n",
              "    </tr>\n",
              "    <tr>\n",
              "      <th>1</th>\n",
              "      <td>Healthy</td>\n",
              "      <td>Test</td>\n",
              "      <td>20ms</td>\n",
              "      <td>132</td>\n",
              "      <td>155</td>\n",
              "      <td>217</td>\n",
              "      <td>301</td>\n",
              "      <td>383</td>\n",
              "      <td>131</td>\n",
              "      <td>175</td>\n",
              "      <td>...</td>\n",
              "      <td>21.972656</td>\n",
              "      <td>0.118686</td>\n",
              "      <td>35.644531</td>\n",
              "      <td>15.548298</td>\n",
              "      <td>10.137840</td>\n",
              "      <td>3.010325</td>\n",
              "      <td>79.939031</td>\n",
              "      <td>1.775618</td>\n",
              "      <td>0.665121</td>\n",
              "      <td>0.227634</td>\n",
              "    </tr>\n",
              "    <tr>\n",
              "      <th>2</th>\n",
              "      <td>Healthy</td>\n",
              "      <td>Test</td>\n",
              "      <td>20ms</td>\n",
              "      <td>107</td>\n",
              "      <td>160</td>\n",
              "      <td>221</td>\n",
              "      <td>305</td>\n",
              "      <td>396</td>\n",
              "      <td>128</td>\n",
              "      <td>192</td>\n",
              "      <td>...</td>\n",
              "      <td>18.310547</td>\n",
              "      <td>0.048787</td>\n",
              "      <td>41.015625</td>\n",
              "      <td>13.078348</td>\n",
              "      <td>8.643543</td>\n",
              "      <td>2.167986</td>\n",
              "      <td>48.851014</td>\n",
              "      <td>1.769573</td>\n",
              "      <td>0.618907</td>\n",
              "      <td>0.093239</td>\n",
              "    </tr>\n",
              "    <tr>\n",
              "      <th>3</th>\n",
              "      <td>Healthy</td>\n",
              "      <td>Test</td>\n",
              "      <td>20ms</td>\n",
              "      <td>77</td>\n",
              "      <td>200</td>\n",
              "      <td>233</td>\n",
              "      <td>268</td>\n",
              "      <td>379</td>\n",
              "      <td>166</td>\n",
              "      <td>120</td>\n",
              "      <td>...</td>\n",
              "      <td>16.357422</td>\n",
              "      <td>0.062302</td>\n",
              "      <td>39.306641</td>\n",
              "      <td>7.087050</td>\n",
              "      <td>5.196947</td>\n",
              "      <td>3.325309</td>\n",
              "      <td>47.181061</td>\n",
              "      <td>0.831445</td>\n",
              "      <td>0.453683</td>\n",
              "      <td>0.119996</td>\n",
              "    </tr>\n",
              "    <tr>\n",
              "      <th>4</th>\n",
              "      <td>Healthy</td>\n",
              "      <td>Test</td>\n",
              "      <td>20ms</td>\n",
              "      <td>153</td>\n",
              "      <td>128</td>\n",
              "      <td>224</td>\n",
              "      <td>264</td>\n",
              "      <td>337</td>\n",
              "      <td>147</td>\n",
              "      <td>176</td>\n",
              "      <td>...</td>\n",
              "      <td>16.845703</td>\n",
              "      <td>0.100706</td>\n",
              "      <td>32.958984</td>\n",
              "      <td>15.198039</td>\n",
              "      <td>11.166206</td>\n",
              "      <td>2.334388</td>\n",
              "      <td>45.697755</td>\n",
              "      <td>1.665048</td>\n",
              "      <td>0.845292</td>\n",
              "      <td>0.192855</td>\n",
              "    </tr>\n",
              "  </tbody>\n",
              "</table>\n",
              "<p>5 rows × 109 columns</p>\n",
              "</div>\n",
              "      <button class=\"colab-df-convert\" onclick=\"convertToInteractive('df-709f38aa-f3a8-4a1a-9e40-be75c55be664')\"\n",
              "              title=\"Convert this dataframe to an interactive table.\"\n",
              "              style=\"display:none;\">\n",
              "        \n",
              "  <svg xmlns=\"http://www.w3.org/2000/svg\" height=\"24px\"viewBox=\"0 0 24 24\"\n",
              "       width=\"24px\">\n",
              "    <path d=\"M0 0h24v24H0V0z\" fill=\"none\"/>\n",
              "    <path d=\"M18.56 5.44l.94 2.06.94-2.06 2.06-.94-2.06-.94-.94-2.06-.94 2.06-2.06.94zm-11 1L8.5 8.5l.94-2.06 2.06-.94-2.06-.94L8.5 2.5l-.94 2.06-2.06.94zm10 10l.94 2.06.94-2.06 2.06-.94-2.06-.94-.94-2.06-.94 2.06-2.06.94z\"/><path d=\"M17.41 7.96l-1.37-1.37c-.4-.4-.92-.59-1.43-.59-.52 0-1.04.2-1.43.59L10.3 9.45l-7.72 7.72c-.78.78-.78 2.05 0 2.83L4 21.41c.39.39.9.59 1.41.59.51 0 1.02-.2 1.41-.59l7.78-7.78 2.81-2.81c.8-.78.8-2.07 0-2.86zM5.41 20L4 18.59l7.72-7.72 1.47 1.35L5.41 20z\"/>\n",
              "  </svg>\n",
              "      </button>\n",
              "      \n",
              "  <style>\n",
              "    .colab-df-container {\n",
              "      display:flex;\n",
              "      flex-wrap:wrap;\n",
              "      gap: 12px;\n",
              "    }\n",
              "\n",
              "    .colab-df-convert {\n",
              "      background-color: #E8F0FE;\n",
              "      border: none;\n",
              "      border-radius: 50%;\n",
              "      cursor: pointer;\n",
              "      display: none;\n",
              "      fill: #1967D2;\n",
              "      height: 32px;\n",
              "      padding: 0 0 0 0;\n",
              "      width: 32px;\n",
              "    }\n",
              "\n",
              "    .colab-df-convert:hover {\n",
              "      background-color: #E2EBFA;\n",
              "      box-shadow: 0px 1px 2px rgba(60, 64, 67, 0.3), 0px 1px 3px 1px rgba(60, 64, 67, 0.15);\n",
              "      fill: #174EA6;\n",
              "    }\n",
              "\n",
              "    [theme=dark] .colab-df-convert {\n",
              "      background-color: #3B4455;\n",
              "      fill: #D2E3FC;\n",
              "    }\n",
              "\n",
              "    [theme=dark] .colab-df-convert:hover {\n",
              "      background-color: #434B5C;\n",
              "      box-shadow: 0px 1px 3px 1px rgba(0, 0, 0, 0.15);\n",
              "      filter: drop-shadow(0px 1px 2px rgba(0, 0, 0, 0.3));\n",
              "      fill: #FFFFFF;\n",
              "    }\n",
              "  </style>\n",
              "\n",
              "      <script>\n",
              "        const buttonEl =\n",
              "          document.querySelector('#df-709f38aa-f3a8-4a1a-9e40-be75c55be664 button.colab-df-convert');\n",
              "        buttonEl.style.display =\n",
              "          google.colab.kernel.accessAllowed ? 'block' : 'none';\n",
              "\n",
              "        async function convertToInteractive(key) {\n",
              "          const element = document.querySelector('#df-709f38aa-f3a8-4a1a-9e40-be75c55be664');\n",
              "          const dataTable =\n",
              "            await google.colab.kernel.invokeFunction('convertToInteractive',\n",
              "                                                     [key], {});\n",
              "          if (!dataTable) return;\n",
              "\n",
              "          const docLinkHtml = 'Like what you see? Visit the ' +\n",
              "            '<a target=\"_blank\" href=https://colab.research.google.com/notebooks/data_table.ipynb>data table notebook</a>'\n",
              "            + ' to learn more about interactive tables.';\n",
              "          element.innerHTML = '';\n",
              "          dataTable['output_type'] = 'display_data';\n",
              "          await google.colab.output.renderOutput(dataTable, element);\n",
              "          const docLink = document.createElement('div');\n",
              "          docLink.innerHTML = docLinkHtml;\n",
              "          element.appendChild(docLink);\n",
              "        }\n",
              "      </script>\n",
              "    </div>\n",
              "  </div>\n",
              "  "
            ]
          },
          "metadata": {},
          "execution_count": 48
        }
      ]
    },
    {
      "cell_type": "code",
      "source": [
        "X = dataset.iloc[:, 3:]\n",
        "y = dataset.iloc[:, 0]"
      ],
      "metadata": {
        "id": "sncPk7H2gi7Z"
      },
      "execution_count": 49,
      "outputs": []
    },
    {
      "cell_type": "code",
      "source": [
        "from sklearn.model_selection import train_test_split\n",
        "X_train, X_test, y_train, y_test = train_test_split(X, y, test_size = 0.33, random_state = 10)\n"
      ],
      "metadata": {
        "id": "M-WzOIE_hmA2"
      },
      "execution_count": 50,
      "outputs": []
    },
    {
      "cell_type": "code",
      "source": [
        "from sklearn.preprocessing import StandardScaler\n",
        "sc = StandardScaler()\n",
        " \n",
        "X_train = sc.fit_transform(X_train)\n",
        "X_test = sc.transform(X_test)"
      ],
      "metadata": {
        "id": "pn_V7ORyhovw"
      },
      "execution_count": 51,
      "outputs": []
    },
    {
      "cell_type": "code",
      "source": [
        "import xgboost as xgb\n",
        "from sklearn.metrics import accuracy_score\n",
        "N=50\n",
        "k_range = range (1,N+1)\n",
        "scores={}\n",
        "scores_list = []\n",
        "for k in k_range:\n",
        "  xgb_classifier = xgb.XGBClassifier(max_depth=k)\n",
        "  xgb_classifier.fit(X_train, y_train)\n",
        "  y_pred=xgb_classifier.predict(X_test)\n",
        "  scores[k] = accuracy_score(y_test,y_pred)\n",
        "  scores_list.append(accuracy_score(y_test,y_pred))\n",
        "  print(str(k)+\"/\"+str(N)+\" round completed......................... Accurecy: \"+str(accuracy_score(y_test,y_pred)))"
      ],
      "metadata": {
        "colab": {
          "base_uri": "https://localhost:8080/"
        },
        "id": "w3wU4VQ5ifNw",
        "outputId": "3f313349-1555-4187-ad38-a2d764db76a2"
      },
      "execution_count": 52,
      "outputs": [
        {
          "output_type": "stream",
          "name": "stdout",
          "text": [
            "1/50 round completed......................... Accurecy: 0.7064220183486238\n",
            "2/50 round completed......................... Accurecy: 0.6880733944954128\n",
            "3/50 round completed......................... Accurecy: 0.7339449541284404\n",
            "4/50 round completed......................... Accurecy: 0.6880733944954128\n",
            "5/50 round completed......................... Accurecy: 0.7064220183486238\n",
            "6/50 round completed......................... Accurecy: 0.7064220183486238\n",
            "7/50 round completed......................... Accurecy: 0.7431192660550459\n",
            "8/50 round completed......................... Accurecy: 0.7614678899082569\n",
            "9/50 round completed......................... Accurecy: 0.7155963302752294\n",
            "10/50 round completed......................... Accurecy: 0.7155963302752294\n",
            "11/50 round completed......................... Accurecy: 0.7155963302752294\n",
            "12/50 round completed......................... Accurecy: 0.7155963302752294\n",
            "13/50 round completed......................... Accurecy: 0.7155963302752294\n",
            "14/50 round completed......................... Accurecy: 0.7155963302752294\n",
            "15/50 round completed......................... Accurecy: 0.7155963302752294\n",
            "16/50 round completed......................... Accurecy: 0.7155963302752294\n",
            "17/50 round completed......................... Accurecy: 0.7155963302752294\n",
            "18/50 round completed......................... Accurecy: 0.7155963302752294\n",
            "19/50 round completed......................... Accurecy: 0.7155963302752294\n",
            "20/50 round completed......................... Accurecy: 0.7155963302752294\n",
            "21/50 round completed......................... Accurecy: 0.7155963302752294\n",
            "22/50 round completed......................... Accurecy: 0.7155963302752294\n",
            "23/50 round completed......................... Accurecy: 0.7155963302752294\n",
            "24/50 round completed......................... Accurecy: 0.7155963302752294\n",
            "25/50 round completed......................... Accurecy: 0.7155963302752294\n",
            "26/50 round completed......................... Accurecy: 0.7155963302752294\n",
            "27/50 round completed......................... Accurecy: 0.7155963302752294\n",
            "28/50 round completed......................... Accurecy: 0.7155963302752294\n",
            "29/50 round completed......................... Accurecy: 0.7155963302752294\n",
            "30/50 round completed......................... Accurecy: 0.7155963302752294\n",
            "31/50 round completed......................... Accurecy: 0.7155963302752294\n",
            "32/50 round completed......................... Accurecy: 0.7155963302752294\n",
            "33/50 round completed......................... Accurecy: 0.7155963302752294\n",
            "34/50 round completed......................... Accurecy: 0.7155963302752294\n",
            "35/50 round completed......................... Accurecy: 0.7155963302752294\n",
            "36/50 round completed......................... Accurecy: 0.7155963302752294\n",
            "37/50 round completed......................... Accurecy: 0.7155963302752294\n",
            "38/50 round completed......................... Accurecy: 0.7155963302752294\n",
            "39/50 round completed......................... Accurecy: 0.7155963302752294\n",
            "40/50 round completed......................... Accurecy: 0.7155963302752294\n",
            "41/50 round completed......................... Accurecy: 0.7155963302752294\n",
            "42/50 round completed......................... Accurecy: 0.7155963302752294\n",
            "43/50 round completed......................... Accurecy: 0.7155963302752294\n",
            "44/50 round completed......................... Accurecy: 0.7155963302752294\n",
            "45/50 round completed......................... Accurecy: 0.7155963302752294\n",
            "46/50 round completed......................... Accurecy: 0.7155963302752294\n",
            "47/50 round completed......................... Accurecy: 0.7155963302752294\n",
            "48/50 round completed......................... Accurecy: 0.7155963302752294\n",
            "49/50 round completed......................... Accurecy: 0.7155963302752294\n",
            "50/50 round completed......................... Accurecy: 0.7155963302752294\n"
          ]
        }
      ]
    },
    {
      "cell_type": "code",
      "source": [
        "%matplotlib inline\n",
        "import matplotlib.pyplot as plt\n",
        "plt.figure(figsize = (25,10))\n",
        "plt.plot(k_range,scores_list)\n",
        "plt.xlabel('Value of max depth')\n",
        "plt.ylabel ('Testing Accuracy')"
      ],
      "metadata": {
        "colab": {
          "base_uri": "https://localhost:8080/",
          "height": 563
        },
        "id": "fHrE4mybjOyr",
        "outputId": "fb314698-c834-4415-9cb2-bf5889c1878b"
      },
      "execution_count": 53,
      "outputs": [
        {
          "output_type": "execute_result",
          "data": {
            "text/plain": [
              "Text(0, 0.5, 'Testing Accuracy')"
            ]
          },
          "metadata": {},
          "execution_count": 53
        },
        {
          "output_type": "display_data",
          "data": {
            "text/plain": [
              "<Figure size 1800x720 with 1 Axes>"
            ],
            "image/png": "[encoded data removed]"
          },
          "metadata": {
            "needs_background": "light"
          }
        }
      ]
    },
    {
      "cell_type": "code",
      "source": [
        "print(\"The best max depth:\")\n",
        "best=list(scores.keys())[scores_list.index(max(scores_list))]\n",
        "print(best)"
      ],
      "metadata": {
        "colab": {
          "base_uri": "https://localhost:8080/"
        },
        "id": "Bfj9q9FbjPlZ",
        "outputId": "cb6be3d6-d88e-4392-e8af-73f39f136abf"
      },
      "execution_count": 54,
      "outputs": [
        {
          "output_type": "stream",
          "name": "stdout",
          "text": [
            "The best max depth:\n",
            "8\n"
          ]
        }
      ]
    },
    {
      "cell_type": "code",
      "source": [
        "xgb_classifier = xgb.XGBClassifier(max_depth=best)\n",
        "xgb_classifier.fit(X_train,y_train)\n",
        "predictions = xgb_classifier.predict(X_test)"
      ],
      "metadata": {
        "id": "Vkar5DWJjYRL"
      },
      "execution_count": 55,
      "outputs": []
    },
    {
      "cell_type": "code",
      "source": [
        "from sklearn.metrics import classification_report, confusion_matrix, accuracy_score\n",
        "print(confusion_matrix(y_test, y_pred))\n",
        "print(classification_report(y_test,y_pred))\n",
        "print(\"Accurecy: \",accuracy_score(y_test, y_pred))"
      ],
      "metadata": {
        "colab": {
          "base_uri": "https://localhost:8080/"
        },
        "id": "077cXuV3jnop",
        "outputId": "e50ed505-0e14-4194-d634-e861e3e15c2d"
      },
      "execution_count": 56,
      "outputs": [
        {
          "output_type": "stream",
          "name": "stdout",
          "text": [
            "[[41 15]\n",
            " [16 37]]\n",
            "              precision    recall  f1-score   support\n",
            "\n",
            "     Healthy       0.72      0.73      0.73        56\n",
            "    Tinnitus       0.71      0.70      0.70        53\n",
            "\n",
            "    accuracy                           0.72       109\n",
            "   macro avg       0.72      0.72      0.72       109\n",
            "weighted avg       0.72      0.72      0.72       109\n",
            "\n",
            "Accurecy:  0.7155963302752294\n"
          ]
        }
      ]
    },
    {
      "cell_type": "code",
      "source": [
        ""
      ],
      "metadata": {
        "id": "H_HZHF9ujqDS"
      },
      "execution_count": 56,
      "outputs": []
    }
  ]
}